{
 "cells": [
  {
   "attachments": {},
   "cell_type": "markdown",
   "metadata": {},
   "source": [
    "# Deploying ML Models using MLFlow and Sklearn Pipeline\n",
    "\n",
    "This notebook is demostrated how to use MLflow and Sklearn to deploy ML models into production. \n",
    "MLFlow and Sklearn are very virsetile frameworks and there are multiple ways to deploy ML models with them. \n",
    "In this notebook I choose to demotrate a pragmatic \n"
   ]
  },
  {
   "cell_type": "code",
   "execution_count": 18,
   "metadata": {},
   "outputs": [],
   "source": [
    "from sklearn import preprocessing\n",
    "from sklearn.model_selection import train_test_split\n",
    "from sklearn import linear_model\n",
    "from sklearn.pipeline import Pipeline\n",
    "from sklearn.compose import ColumnTransformer\n",
    "from sklearn.impute import SimpleImputer\n",
    "from sklearn.preprocessing import FunctionTransformer\n",
    "from sklearn.preprocessing import StandardScaler\n",
    "from sklearn.base import BaseEstimator, TransformerMixin\n",
    "from sklearn.metrics import r2_score, mean_absolute_error, mean_squared_error\n",
    "\n",
    "from numpy import savetxt\n",
    "\n",
    "import pandas as pd\n",
    "import seaborn as sns\n",
    "import matplotlib.pyplot as plt\n",
    "import numpy as np\n",
    "import xgboost as xgb\n",
    "import os\n",
    "\n",
    "import mlflow\n",
    "import mlflow.sklearn"
   ]
  },
  {
   "cell_type": "code",
   "execution_count": 6,
   "metadata": {},
   "outputs": [],
   "source": [
    "\"\"\" Use the house prices dataset for this studynote \"\"\"\n",
    "\n",
    "source_dataset = pd.read_csv(\"../data/House_Price.csv\", header=0)"
   ]
  },
  {
   "cell_type": "code",
   "execution_count": 26,
   "metadata": {},
   "outputs": [],
   "source": [
    "def minimize_dataset(df):\n",
    "    \"\"\" \n",
    "    Return a minimized version of the data, \n",
    "    to make easy to expirement with feature transformation \n",
    "    \"\"\"\n",
    "\n",
    "    new_df = pd.DataFrame()\n",
    "\n",
    "    new_df['price'] = df.price\n",
    "\n",
    "    # Add new number of hotel rooms to the new df\n",
    "    new_df['n_hot_rooms'] = df.n_hot_rooms\n",
    "    \n",
    "    # Filling missing value in n_hos_beds\n",
    "    new_df['n_hos_beds'] = df.n_hos_beds\n",
    "\n",
    "    # Transform the inversely proportional functoin into a liner function using log\n",
    "    new_df['crime_rate'] = df.crime_rate\n",
    "\n",
    "    new_df['room_num'] = df.room_num\n",
    "    new_df['teachers'] = df.teachers\n",
    "    new_df['waterbody'] = df.waterbody\n",
    "\n",
    "    new_df['dist1'] = df.dist1\n",
    "    new_df['dist2'] = df.dist2\n",
    "    new_df['dist3'] = df.dist3\n",
    "    new_df['dist4'] = df.dist4\n",
    "    \n",
    "    # Convert categorical variables to dummy variables\n",
    "    #new_df = pd.get_dummies(new_df, drop_first=True)\n",
    "\n",
    "    return new_df"
   ]
  },
  {
   "cell_type": "code",
   "execution_count": 11,
   "metadata": {},
   "outputs": [
    {
     "data": {
      "text/html": [
       "<div>\n",
       "<style scoped>\n",
       "    .dataframe tbody tr th:only-of-type {\n",
       "        vertical-align: middle;\n",
       "    }\n",
       "\n",
       "    .dataframe tbody tr th {\n",
       "        vertical-align: top;\n",
       "    }\n",
       "\n",
       "    .dataframe thead th {\n",
       "        text-align: right;\n",
       "    }\n",
       "</style>\n",
       "<table border=\"1\" class=\"dataframe\">\n",
       "  <thead>\n",
       "    <tr style=\"text-align: right;\">\n",
       "      <th></th>\n",
       "      <th>price</th>\n",
       "      <th>crime_rate</th>\n",
       "      <th>resid_area</th>\n",
       "      <th>air_qual</th>\n",
       "      <th>room_num</th>\n",
       "      <th>age</th>\n",
       "      <th>dist1</th>\n",
       "      <th>dist2</th>\n",
       "      <th>dist3</th>\n",
       "      <th>dist4</th>\n",
       "      <th>teachers</th>\n",
       "      <th>poor_prop</th>\n",
       "      <th>airport</th>\n",
       "      <th>n_hos_beds</th>\n",
       "      <th>n_hot_rooms</th>\n",
       "      <th>waterbody</th>\n",
       "      <th>rainfall</th>\n",
       "      <th>bus_ter</th>\n",
       "      <th>parks</th>\n",
       "    </tr>\n",
       "  </thead>\n",
       "  <tbody>\n",
       "    <tr>\n",
       "      <th>0</th>\n",
       "      <td>24.0</td>\n",
       "      <td>0.00632</td>\n",
       "      <td>32.31</td>\n",
       "      <td>0.538</td>\n",
       "      <td>6.575</td>\n",
       "      <td>65.2</td>\n",
       "      <td>4.35</td>\n",
       "      <td>3.81</td>\n",
       "      <td>4.18</td>\n",
       "      <td>4.01</td>\n",
       "      <td>24.7</td>\n",
       "      <td>4.98</td>\n",
       "      <td>YES</td>\n",
       "      <td>5.480</td>\n",
       "      <td>11.1920</td>\n",
       "      <td>River</td>\n",
       "      <td>23</td>\n",
       "      <td>YES</td>\n",
       "      <td>0.049347</td>\n",
       "    </tr>\n",
       "    <tr>\n",
       "      <th>1</th>\n",
       "      <td>21.6</td>\n",
       "      <td>0.02731</td>\n",
       "      <td>37.07</td>\n",
       "      <td>0.469</td>\n",
       "      <td>6.421</td>\n",
       "      <td>78.9</td>\n",
       "      <td>4.99</td>\n",
       "      <td>4.70</td>\n",
       "      <td>5.12</td>\n",
       "      <td>5.06</td>\n",
       "      <td>22.2</td>\n",
       "      <td>9.14</td>\n",
       "      <td>NO</td>\n",
       "      <td>7.332</td>\n",
       "      <td>12.1728</td>\n",
       "      <td>Lake</td>\n",
       "      <td>42</td>\n",
       "      <td>YES</td>\n",
       "      <td>0.046146</td>\n",
       "    </tr>\n",
       "    <tr>\n",
       "      <th>2</th>\n",
       "      <td>34.7</td>\n",
       "      <td>0.02729</td>\n",
       "      <td>37.07</td>\n",
       "      <td>0.469</td>\n",
       "      <td>7.185</td>\n",
       "      <td>61.1</td>\n",
       "      <td>5.03</td>\n",
       "      <td>4.86</td>\n",
       "      <td>5.01</td>\n",
       "      <td>4.97</td>\n",
       "      <td>22.2</td>\n",
       "      <td>4.03</td>\n",
       "      <td>NO</td>\n",
       "      <td>7.394</td>\n",
       "      <td>101.1200</td>\n",
       "      <td>None</td>\n",
       "      <td>38</td>\n",
       "      <td>YES</td>\n",
       "      <td>0.045764</td>\n",
       "    </tr>\n",
       "    <tr>\n",
       "      <th>3</th>\n",
       "      <td>33.4</td>\n",
       "      <td>0.03237</td>\n",
       "      <td>32.18</td>\n",
       "      <td>0.458</td>\n",
       "      <td>6.998</td>\n",
       "      <td>45.8</td>\n",
       "      <td>6.21</td>\n",
       "      <td>5.93</td>\n",
       "      <td>6.16</td>\n",
       "      <td>5.96</td>\n",
       "      <td>21.3</td>\n",
       "      <td>2.94</td>\n",
       "      <td>YES</td>\n",
       "      <td>9.268</td>\n",
       "      <td>11.2672</td>\n",
       "      <td>Lake</td>\n",
       "      <td>45</td>\n",
       "      <td>YES</td>\n",
       "      <td>0.047151</td>\n",
       "    </tr>\n",
       "    <tr>\n",
       "      <th>4</th>\n",
       "      <td>36.2</td>\n",
       "      <td>0.06905</td>\n",
       "      <td>32.18</td>\n",
       "      <td>0.458</td>\n",
       "      <td>7.147</td>\n",
       "      <td>54.2</td>\n",
       "      <td>6.16</td>\n",
       "      <td>5.86</td>\n",
       "      <td>6.37</td>\n",
       "      <td>5.86</td>\n",
       "      <td>21.3</td>\n",
       "      <td>5.33</td>\n",
       "      <td>NO</td>\n",
       "      <td>8.824</td>\n",
       "      <td>11.2896</td>\n",
       "      <td>Lake</td>\n",
       "      <td>55</td>\n",
       "      <td>YES</td>\n",
       "      <td>0.039474</td>\n",
       "    </tr>\n",
       "  </tbody>\n",
       "</table>\n",
       "</div>"
      ],
      "text/plain": [
       "   price  crime_rate  resid_area  air_qual  room_num   age  dist1  dist2  \\\n",
       "0   24.0     0.00632       32.31     0.538     6.575  65.2   4.35   3.81   \n",
       "1   21.6     0.02731       37.07     0.469     6.421  78.9   4.99   4.70   \n",
       "2   34.7     0.02729       37.07     0.469     7.185  61.1   5.03   4.86   \n",
       "3   33.4     0.03237       32.18     0.458     6.998  45.8   6.21   5.93   \n",
       "4   36.2     0.06905       32.18     0.458     7.147  54.2   6.16   5.86   \n",
       "\n",
       "   dist3  dist4  teachers  poor_prop airport  n_hos_beds  n_hot_rooms  \\\n",
       "0   4.18   4.01      24.7       4.98     YES       5.480      11.1920   \n",
       "1   5.12   5.06      22.2       9.14      NO       7.332      12.1728   \n",
       "2   5.01   4.97      22.2       4.03      NO       7.394     101.1200   \n",
       "3   6.16   5.96      21.3       2.94     YES       9.268      11.2672   \n",
       "4   6.37   5.86      21.3       5.33      NO       8.824      11.2896   \n",
       "\n",
       "  waterbody  rainfall bus_ter     parks  \n",
       "0     River        23     YES  0.049347  \n",
       "1      Lake        42     YES  0.046146  \n",
       "2      None        38     YES  0.045764  \n",
       "3      Lake        45     YES  0.047151  \n",
       "4      Lake        55     YES  0.039474  "
      ]
     },
     "execution_count": 11,
     "metadata": {},
     "output_type": "execute_result"
    }
   ],
   "source": [
    "source_dataset.head()"
   ]
  },
  {
   "cell_type": "code",
   "execution_count": 27,
   "metadata": {},
   "outputs": [
    {
     "data": {
      "text/html": [
       "<div>\n",
       "<style scoped>\n",
       "    .dataframe tbody tr th:only-of-type {\n",
       "        vertical-align: middle;\n",
       "    }\n",
       "\n",
       "    .dataframe tbody tr th {\n",
       "        vertical-align: top;\n",
       "    }\n",
       "\n",
       "    .dataframe thead th {\n",
       "        text-align: right;\n",
       "    }\n",
       "</style>\n",
       "<table border=\"1\" class=\"dataframe\">\n",
       "  <thead>\n",
       "    <tr style=\"text-align: right;\">\n",
       "      <th></th>\n",
       "      <th>price</th>\n",
       "      <th>n_hot_rooms</th>\n",
       "      <th>n_hos_beds</th>\n",
       "      <th>crime_rate</th>\n",
       "      <th>room_num</th>\n",
       "      <th>teachers</th>\n",
       "      <th>waterbody</th>\n",
       "      <th>dist1</th>\n",
       "      <th>dist2</th>\n",
       "      <th>dist3</th>\n",
       "      <th>dist4</th>\n",
       "    </tr>\n",
       "  </thead>\n",
       "  <tbody>\n",
       "    <tr>\n",
       "      <th>0</th>\n",
       "      <td>24.0</td>\n",
       "      <td>11.1920</td>\n",
       "      <td>5.480</td>\n",
       "      <td>0.00632</td>\n",
       "      <td>6.575</td>\n",
       "      <td>24.7</td>\n",
       "      <td>River</td>\n",
       "      <td>4.35</td>\n",
       "      <td>3.81</td>\n",
       "      <td>4.18</td>\n",
       "      <td>4.01</td>\n",
       "    </tr>\n",
       "    <tr>\n",
       "      <th>1</th>\n",
       "      <td>21.6</td>\n",
       "      <td>12.1728</td>\n",
       "      <td>7.332</td>\n",
       "      <td>0.02731</td>\n",
       "      <td>6.421</td>\n",
       "      <td>22.2</td>\n",
       "      <td>Lake</td>\n",
       "      <td>4.99</td>\n",
       "      <td>4.70</td>\n",
       "      <td>5.12</td>\n",
       "      <td>5.06</td>\n",
       "    </tr>\n",
       "    <tr>\n",
       "      <th>2</th>\n",
       "      <td>34.7</td>\n",
       "      <td>101.1200</td>\n",
       "      <td>7.394</td>\n",
       "      <td>0.02729</td>\n",
       "      <td>7.185</td>\n",
       "      <td>22.2</td>\n",
       "      <td>None</td>\n",
       "      <td>5.03</td>\n",
       "      <td>4.86</td>\n",
       "      <td>5.01</td>\n",
       "      <td>4.97</td>\n",
       "    </tr>\n",
       "    <tr>\n",
       "      <th>3</th>\n",
       "      <td>33.4</td>\n",
       "      <td>11.2672</td>\n",
       "      <td>9.268</td>\n",
       "      <td>0.03237</td>\n",
       "      <td>6.998</td>\n",
       "      <td>21.3</td>\n",
       "      <td>Lake</td>\n",
       "      <td>6.21</td>\n",
       "      <td>5.93</td>\n",
       "      <td>6.16</td>\n",
       "      <td>5.96</td>\n",
       "    </tr>\n",
       "    <tr>\n",
       "      <th>4</th>\n",
       "      <td>36.2</td>\n",
       "      <td>11.2896</td>\n",
       "      <td>8.824</td>\n",
       "      <td>0.06905</td>\n",
       "      <td>7.147</td>\n",
       "      <td>21.3</td>\n",
       "      <td>Lake</td>\n",
       "      <td>6.16</td>\n",
       "      <td>5.86</td>\n",
       "      <td>6.37</td>\n",
       "      <td>5.86</td>\n",
       "    </tr>\n",
       "  </tbody>\n",
       "</table>\n",
       "</div>"
      ],
      "text/plain": [
       "   price  n_hot_rooms  n_hos_beds  crime_rate  room_num  teachers waterbody  \\\n",
       "0   24.0      11.1920       5.480     0.00632     6.575      24.7     River   \n",
       "1   21.6      12.1728       7.332     0.02731     6.421      22.2      Lake   \n",
       "2   34.7     101.1200       7.394     0.02729     7.185      22.2      None   \n",
       "3   33.4      11.2672       9.268     0.03237     6.998      21.3      Lake   \n",
       "4   36.2      11.2896       8.824     0.06905     7.147      21.3      Lake   \n",
       "\n",
       "   dist1  dist2  dist3  dist4  \n",
       "0   4.35   3.81   4.18   4.01  \n",
       "1   4.99   4.70   5.12   5.06  \n",
       "2   5.03   4.86   5.01   4.97  \n",
       "3   6.21   5.93   6.16   5.96  \n",
       "4   6.16   5.86   6.37   5.86  "
      ]
     },
     "execution_count": 27,
     "metadata": {},
     "output_type": "execute_result"
    }
   ],
   "source": [
    "df = minimize_dataset(source_dataset)\n",
    "df.head()"
   ]
  },
  {
   "cell_type": "code",
   "execution_count": 28,
   "metadata": {},
   "outputs": [
    {
     "data": {
      "text/html": [
       "<div>\n",
       "<style scoped>\n",
       "    .dataframe tbody tr th:only-of-type {\n",
       "        vertical-align: middle;\n",
       "    }\n",
       "\n",
       "    .dataframe tbody tr th {\n",
       "        vertical-align: top;\n",
       "    }\n",
       "\n",
       "    .dataframe thead th {\n",
       "        text-align: right;\n",
       "    }\n",
       "</style>\n",
       "<table border=\"1\" class=\"dataframe\">\n",
       "  <thead>\n",
       "    <tr style=\"text-align: right;\">\n",
       "      <th></th>\n",
       "      <th>price</th>\n",
       "      <th>n_hot_rooms</th>\n",
       "      <th>n_hos_beds</th>\n",
       "      <th>crime_rate</th>\n",
       "      <th>room_num</th>\n",
       "      <th>teachers</th>\n",
       "      <th>dist1</th>\n",
       "      <th>dist2</th>\n",
       "      <th>dist3</th>\n",
       "      <th>dist4</th>\n",
       "    </tr>\n",
       "  </thead>\n",
       "  <tbody>\n",
       "    <tr>\n",
       "      <th>count</th>\n",
       "      <td>506.000000</td>\n",
       "      <td>506.000000</td>\n",
       "      <td>498.000000</td>\n",
       "      <td>506.000000</td>\n",
       "      <td>506.000000</td>\n",
       "      <td>506.000000</td>\n",
       "      <td>506.000000</td>\n",
       "      <td>506.000000</td>\n",
       "      <td>506.000000</td>\n",
       "      <td>506.000000</td>\n",
       "    </tr>\n",
       "    <tr>\n",
       "      <th>mean</th>\n",
       "      <td>22.528854</td>\n",
       "      <td>13.041605</td>\n",
       "      <td>7.899767</td>\n",
       "      <td>3.613524</td>\n",
       "      <td>6.284634</td>\n",
       "      <td>21.544466</td>\n",
       "      <td>3.971996</td>\n",
       "      <td>3.628775</td>\n",
       "      <td>3.960672</td>\n",
       "      <td>3.618972</td>\n",
       "    </tr>\n",
       "    <tr>\n",
       "      <th>std</th>\n",
       "      <td>9.182176</td>\n",
       "      <td>5.238957</td>\n",
       "      <td>1.476683</td>\n",
       "      <td>8.601545</td>\n",
       "      <td>0.702617</td>\n",
       "      <td>2.164946</td>\n",
       "      <td>2.108532</td>\n",
       "      <td>2.108580</td>\n",
       "      <td>2.119797</td>\n",
       "      <td>2.099203</td>\n",
       "    </tr>\n",
       "    <tr>\n",
       "      <th>min</th>\n",
       "      <td>5.000000</td>\n",
       "      <td>10.057600</td>\n",
       "      <td>5.268000</td>\n",
       "      <td>0.006320</td>\n",
       "      <td>3.561000</td>\n",
       "      <td>18.000000</td>\n",
       "      <td>1.130000</td>\n",
       "      <td>0.920000</td>\n",
       "      <td>1.150000</td>\n",
       "      <td>0.730000</td>\n",
       "    </tr>\n",
       "    <tr>\n",
       "      <th>25%</th>\n",
       "      <td>17.025000</td>\n",
       "      <td>11.189800</td>\n",
       "      <td>6.634500</td>\n",
       "      <td>0.082045</td>\n",
       "      <td>5.885500</td>\n",
       "      <td>19.800000</td>\n",
       "      <td>2.270000</td>\n",
       "      <td>1.940000</td>\n",
       "      <td>2.232500</td>\n",
       "      <td>1.940000</td>\n",
       "    </tr>\n",
       "    <tr>\n",
       "      <th>50%</th>\n",
       "      <td>21.200000</td>\n",
       "      <td>12.720000</td>\n",
       "      <td>7.999000</td>\n",
       "      <td>0.256510</td>\n",
       "      <td>6.208500</td>\n",
       "      <td>20.950000</td>\n",
       "      <td>3.385000</td>\n",
       "      <td>3.010000</td>\n",
       "      <td>3.375000</td>\n",
       "      <td>3.070000</td>\n",
       "    </tr>\n",
       "    <tr>\n",
       "      <th>75%</th>\n",
       "      <td>25.000000</td>\n",
       "      <td>14.170800</td>\n",
       "      <td>9.088000</td>\n",
       "      <td>3.677083</td>\n",
       "      <td>6.623500</td>\n",
       "      <td>22.600000</td>\n",
       "      <td>5.367500</td>\n",
       "      <td>4.992500</td>\n",
       "      <td>5.407500</td>\n",
       "      <td>4.985000</td>\n",
       "    </tr>\n",
       "    <tr>\n",
       "      <th>max</th>\n",
       "      <td>50.000000</td>\n",
       "      <td>101.120000</td>\n",
       "      <td>10.876000</td>\n",
       "      <td>88.976200</td>\n",
       "      <td>8.780000</td>\n",
       "      <td>27.400000</td>\n",
       "      <td>12.320000</td>\n",
       "      <td>11.930000</td>\n",
       "      <td>12.320000</td>\n",
       "      <td>11.940000</td>\n",
       "    </tr>\n",
       "  </tbody>\n",
       "</table>\n",
       "</div>"
      ],
      "text/plain": [
       "            price  n_hot_rooms  n_hos_beds  crime_rate    room_num  \\\n",
       "count  506.000000   506.000000  498.000000  506.000000  506.000000   \n",
       "mean    22.528854    13.041605    7.899767    3.613524    6.284634   \n",
       "std      9.182176     5.238957    1.476683    8.601545    0.702617   \n",
       "min      5.000000    10.057600    5.268000    0.006320    3.561000   \n",
       "25%     17.025000    11.189800    6.634500    0.082045    5.885500   \n",
       "50%     21.200000    12.720000    7.999000    0.256510    6.208500   \n",
       "75%     25.000000    14.170800    9.088000    3.677083    6.623500   \n",
       "max     50.000000   101.120000   10.876000   88.976200    8.780000   \n",
       "\n",
       "         teachers       dist1       dist2       dist3       dist4  \n",
       "count  506.000000  506.000000  506.000000  506.000000  506.000000  \n",
       "mean    21.544466    3.971996    3.628775    3.960672    3.618972  \n",
       "std      2.164946    2.108532    2.108580    2.119797    2.099203  \n",
       "min     18.000000    1.130000    0.920000    1.150000    0.730000  \n",
       "25%     19.800000    2.270000    1.940000    2.232500    1.940000  \n",
       "50%     20.950000    3.385000    3.010000    3.375000    3.070000  \n",
       "75%     22.600000    5.367500    4.992500    5.407500    4.985000  \n",
       "max     27.400000   12.320000   11.930000   12.320000   11.940000  "
      ]
     },
     "execution_count": 28,
     "metadata": {},
     "output_type": "execute_result"
    }
   ],
   "source": [
    "df.describe()"
   ]
  },
  {
   "cell_type": "code",
   "execution_count": 29,
   "metadata": {},
   "outputs": [
    {
     "name": "stdout",
     "output_type": "stream",
     "text": [
      "<class 'pandas.core.frame.DataFrame'>\n",
      "RangeIndex: 506 entries, 0 to 505\n",
      "Data columns (total 11 columns):\n",
      " #   Column       Non-Null Count  Dtype  \n",
      "---  ------       --------------  -----  \n",
      " 0   price        506 non-null    float64\n",
      " 1   n_hot_rooms  506 non-null    float64\n",
      " 2   n_hos_beds   498 non-null    float64\n",
      " 3   crime_rate   506 non-null    float64\n",
      " 4   room_num     506 non-null    float64\n",
      " 5   teachers     506 non-null    float64\n",
      " 6   waterbody    506 non-null    object \n",
      " 7   dist1        506 non-null    float64\n",
      " 8   dist2        506 non-null    float64\n",
      " 9   dist3        506 non-null    float64\n",
      " 10  dist4        506 non-null    float64\n",
      "dtypes: float64(10), object(1)\n",
      "memory usage: 43.6+ KB\n"
     ]
    }
   ],
   "source": [
    "df.info()"
   ]
  },
  {
   "cell_type": "code",
   "execution_count": 30,
   "metadata": {},
   "outputs": [],
   "source": [
    "# Prep the data for training and prediction\n",
    "if 'price' in df: \n",
    "    y = df.pop('price')\n"
   ]
  },
  {
   "cell_type": "code",
   "execution_count": 31,
   "metadata": {},
   "outputs": [],
   "source": [
    "def get_training_testing_data():\n",
    "    X_train, X_test, y_train, y_test = train_test_split(df, y, test_size=0.2, random_state=42)\n",
    "    return X_train, X_test, y_train, y_test"
   ]
  },
  {
   "cell_type": "code",
   "execution_count": 32,
   "metadata": {},
   "outputs": [],
   "source": [
    "class ColumnAvgTransformer(BaseEstimator, TransformerMixin):\n",
    "    \n",
    "    def __init__(self,columns, new_column_name):\n",
    "        self.columns = columns\n",
    "        self.new_column_name = new_column_name\n",
    "    \n",
    "    \n",
    "    def fit(self, X, y=None):\n",
    "        return self\n",
    "    \n",
    "    def transform(self, X, y=None):\n",
    "        X[self.new_column_name] = X[self.columns].mean(axis=1)\n",
    "        X = X.drop(self.columns, axis=1)\n",
    "        return X\n",
    "    "
   ]
  },
  {
   "cell_type": "code",
   "execution_count": 33,
   "metadata": {},
   "outputs": [],
   "source": [
    "## Feature preprocessing\n",
    "\n",
    "numeric_features = ['n_hot_rooms','n_hos_beds','room_num','teachers']\n",
    "numeric_transformer = Pipeline(steps=[\n",
    "     ('imputer', SimpleImputer(strategy='mean')),\n",
    "     ('scaler', StandardScaler())])\n",
    "\n",
    "categorical_features = [ 'waterbody']\n",
    "categorical_transformer = Pipeline(steps=[ \n",
    "     ('imputer', SimpleImputer(strategy='constant',fill_value=0)),\n",
    "     ('ordinal_encoder', preprocessing.OrdinalEncoder())])\n",
    "\n",
    "log_features = ['crime_rate']\n",
    "log_transformer = Pipeline(steps=[\n",
    "     #('imputer', SimpleImputer(strategy='median')),\n",
    "     ('log_tranformer', FunctionTransformer(np.log1p, validate=True))\n",
    "])\n",
    "\n",
    "\"\"\"\n",
    "The remainder passthrough let columns that are not specified \n",
    "in the ColumnTransfer passthrough \n",
    "\"\"\" \n",
    "preprocessor = ColumnTransformer(\n",
    "     transformers=[\n",
    "          ('num', numeric_transformer, numeric_features),\n",
    "          ('cat', categorical_transformer, categorical_features),\n",
    "          ('log', log_transformer, log_features)\n",
    "          ], \n",
    "          remainder='passthrough'\n",
    "     )\n",
    "\n",
    "\n"
   ]
  },
  {
   "cell_type": "code",
   "execution_count": 34,
   "metadata": {},
   "outputs": [],
   "source": [
    "def eval_metrics(actual, pred):\n",
    "    rmse = np.sqrt(mean_squared_error(actual, pred))\n",
    "    mae = mean_absolute_error(actual, pred)\n",
    "    r2 = r2_score(actual, pred)\n",
    "    return rmse, mae, r2"
   ]
  },
  {
   "cell_type": "code",
   "execution_count": 35,
   "metadata": {},
   "outputs": [],
   "source": [
    "X_train, X_test, y_train, y_test = get_training_testing_data()"
   ]
  },
  {
   "cell_type": "code",
   "execution_count": 36,
   "metadata": {},
   "outputs": [],
   "source": [
    "params = {'max_depth':13, 'n_estimators':1000, 'learning_rate':1.0, 'subsample':0.7, 'colsample_bytree':0.8}\n",
    "\n",
    "\n",
    "model = Pipeline(steps=[\n",
    "    ('avg_dist_transformer', ColumnAvgTransformer(['dist1', 'dist2', 'dist3', 'dist4'], 'avg_dist')),\n",
    "    ('preprocessor', preprocessor),\n",
    "    ('classifier', xgb.XGBRegressor(**params))\n",
    "    ], verbose=True)"
   ]
  },
  {
   "cell_type": "code",
   "execution_count": 37,
   "metadata": {},
   "outputs": [
    {
     "name": "stdout",
     "output_type": "stream",
     "text": [
      "[Pipeline]  (step 1 of 3) Processing avg_dist_transformer, total=   0.0s\n",
      "[Pipeline] ...... (step 2 of 3) Processing preprocessor, total=   0.0s\n",
      "[Pipeline] ........ (step 3 of 3) Processing classifier, total=   0.2s\n"
     ]
    },
    {
     "data": {
      "text/plain": [
       "Pipeline(steps=[('avg_dist_transformer',\n",
       "                 ColumnAvgTransformer(columns=['dist1', 'dist2', 'dist3',\n",
       "                                               'dist4'],\n",
       "                                      new_column_name='avg_dist')),\n",
       "                ('preprocessor',\n",
       "                 ColumnTransformer(remainder='passthrough',\n",
       "                                   transformers=[('num',\n",
       "                                                  Pipeline(steps=[('imputer',\n",
       "                                                                   SimpleImputer()),\n",
       "                                                                  ('scaler',\n",
       "                                                                   StandardScaler())]),\n",
       "                                                  ['n_hot_rooms', 'n_hos_beds',\n",
       "                                                   'room_num', 'teachers']),\n",
       "                                                 ('cat',\n",
       "                                                  Pipeli...\n",
       "                              feature_types=None, gamma=0, gpu_id=-1,\n",
       "                              grow_policy='depthwise', importance_type=None,\n",
       "                              interaction_constraints='', learning_rate=1.0,\n",
       "                              max_bin=256, max_cat_threshold=64,\n",
       "                              max_cat_to_onehot=4, max_delta_step=0,\n",
       "                              max_depth=13, max_leaves=0, min_child_weight=1,\n",
       "                              missing=nan, monotone_constraints='()',\n",
       "                              n_estimators=1000, n_jobs=0, num_parallel_tree=1,\n",
       "                              predictor='auto', random_state=0, ...))],\n",
       "         verbose=True)"
      ]
     },
     "execution_count": 37,
     "metadata": {},
     "output_type": "execute_result"
    }
   ],
   "source": [
    "model.fit(X_train, y_train)"
   ]
  },
  {
   "cell_type": "code",
   "execution_count": 38,
   "metadata": {},
   "outputs": [
    {
     "name": "stdout",
     "output_type": "stream",
     "text": [
      "31.121527778609032\n",
      "3.4603142164501484\n"
     ]
    }
   ],
   "source": [
    "predictions = model.predict(X_test)\n",
    "print(mean_squared_error(y_pred = predictions, y_true= y_test))\n",
    "print(mean_absolute_error(y_pred = predictions, y_true= y_test))"
   ]
  },
  {
   "cell_type": "code",
   "execution_count": 43,
   "metadata": {},
   "outputs": [
    {
     "name": "stderr",
     "output_type": "stream",
     "text": [
      "2023/03/06 09:00:50 INFO mlflow.tracking.fluent: Experiment with name '5_experiment_house_prices_xgb_ipynb' does not exist. Creating a new experiment.\n"
     ]
    },
    {
     "name": "stdout",
     "output_type": "stream",
     "text": [
      "experiment_id: 9\n"
     ]
    }
   ],
   "source": [
    "EXPERIMENT_NAME = \"house_prices_sklearn_pipe_xgb\"\n",
    "mlflow.set_tracking_uri('http://localhost:5000')\n",
    "mlflow.set_experiment(EXPERIMENT_NAME)\n",
    "experiment = mlflow.get_experiment_by_name(EXPERIMENT_NAME)\n",
    "print(\"experiment_id:\", experiment.experiment_id)\n"
   ]
  },
  {
   "cell_type": "code",
   "execution_count": 44,
   "metadata": {},
   "outputs": [
    {
     "name": "stdout",
     "output_type": "stream",
     "text": [
      "[Pipeline] ...... (step 1 of 2) Processing preprocessor, total=   0.0s\n",
      "[Pipeline] ........ (step 2 of 2) Processing classifier, total=   0.5s\n"
     ]
    },
    {
     "name": "stderr",
     "output_type": "stream",
     "text": [
      "Registered model 'house_prices_xgb_model_1' already exists. Creating a new version of this model...\n",
      "2023/03/06 09:00:55 INFO mlflow.tracking._model_registry.client: Waiting up to 300 seconds for model version to finish creation.                     Model name: house_prices_xgb_model_1, version 4\n",
      "Created version '4' of model 'house_prices_xgb_model_1'.\n"
     ]
    },
    {
     "data": {
      "image/png": "[encoded data removed]",
      "text/plain": [
       "<Figure size 640x480 with 1 Axes>"
      ]
     },
     "metadata": {},
     "output_type": "display_data"
    }
   ],
   "source": [
    "with mlflow.start_run() as model_tracking_run:\n",
    "\n",
    "    ## Get Training Data\n",
    "    X_train, X_test, y_train, y_test = get_training_testing_data()\n",
    "    \n",
    "    ## Construct Model \n",
    "    params = {'max_depth':12, 'n_estimators':1000, 'learning_rate':0.1, 'subsample':0.8, 'colsample_bytree':0.8}\n",
    "\n",
    "    ## Log model params in MLFlow\n",
    "    mlflow.log_params(params)\n",
    "\n",
    "    model = Pipeline(steps=[\n",
    "        ('preprocessor', preprocessor),\n",
    "        ('classifier', xgb.XGBRegressor(**params))\n",
    "        ], verbose=True)\n",
    "    \n",
    "    model.fit(X_train, y_train)\n",
    "\n",
    "    predictions = model.predict(X_test)\n",
    "\n",
    "    artifact_path = f\"artifacts_stage/run_{model_tracking_run.info.run_id}\"\n",
    "\n",
    "    ## Log model in MLFlow\n",
    "    mlflow.sklearn.log_model(sk_model = model, \n",
    "        artifact_path=\"skl_pipe_xgb_house_prices\",\n",
    "        registered_model_name = \"house_prices_xgb_model_1\")\n",
    "\n",
    "    rmse, mae, r2 = eval_metrics(y_test, predictions)\n",
    "\n",
    "    mlflow.log_metric(\"rmse\", rmse)\n",
    "    mlflow.log_metric(\"mae\", mae)\n",
    "    mlflow.log_metric(\"r2\", r2)\n",
    "\n",
    "    artifact_path = f\"artifacts_stage/run_{model_tracking_run.info.run_id}\"\n",
    "    os.mkdir(artifact_path)\n",
    "\n",
    "\n",
    "    ## Save and log predicted values\n",
    "    prediction_file = f\"{artifact_path}/prediction.csv\"\n",
    "    savetxt(prediction_file, predictions)\n",
    "    mlflow.log_artifact(prediction_file)\n",
    "\n",
    "    ## Create a plot that shows predicted vs true prices\n",
    "    compare = pd.DataFrame({0:y_test.values, 1:predictions })\n",
    "    compare.columns=['true_price', 'predicted_price']\n",
    "    fig = compare.plot(use_index=True).get_figure()\n",
    "    fig_file = f\"{artifact_path}/true_vs_predicted.png\"\n",
    "    fig.savefig(fig_file)\n",
    "    mlflow.log_artifact(fig_file)\n",
    "\n",
    "\n"
   ]
  },
  {
   "cell_type": "code",
   "execution_count": 60,
   "metadata": {},
   "outputs": [],
   "source": [
    "logged_model = 'runs:/c2796c5207b5410cb0a68ba4ed5a6b33/skl_pipe_xgb_house_prices'\n",
    "\n",
    "# Load model as a PyFuncModel.\n",
    "loaded_model = mlflow.pyfunc.load_model(logged_model)"
   ]
  },
  {
   "cell_type": "code",
   "execution_count": 70,
   "metadata": {},
   "outputs": [
    {
     "data": {
      "text/plain": [
       "['__class__',\n",
       " '__delattr__',\n",
       " '__dict__',\n",
       " '__dir__',\n",
       " '__doc__',\n",
       " '__eq__',\n",
       " '__format__',\n",
       " '__ge__',\n",
       " '__getattribute__',\n",
       " '__gt__',\n",
       " '__hash__',\n",
       " '__init__',\n",
       " '__init_subclass__',\n",
       " '__le__',\n",
       " '__lt__',\n",
       " '__module__',\n",
       " '__ne__',\n",
       " '__new__',\n",
       " '__reduce__',\n",
       " '__reduce_ex__',\n",
       " '__repr__',\n",
       " '__setattr__',\n",
       " '__sizeof__',\n",
       " '__str__',\n",
       " '__subclasshook__',\n",
       " '__weakref__',\n",
       " '_metadata',\n",
       " '_saved_input_example_info',\n",
       " '_signature',\n",
       " 'add_flavor',\n",
       " 'artifact_path',\n",
       " 'flavors',\n",
       " 'from_dict',\n",
       " 'get_input_schema',\n",
       " 'get_model_info',\n",
       " 'get_output_schema',\n",
       " 'load',\n",
       " 'load_input_example',\n",
       " 'log',\n",
       " 'metadata',\n",
       " 'mlflow_version',\n",
       " 'model_uuid',\n",
       " 'run_id',\n",
       " 'save',\n",
       " 'saved_input_example_info',\n",
       " 'signature',\n",
       " 'to_dict',\n",
       " 'to_json',\n",
       " 'to_yaml',\n",
       " 'utc_time_created']"
      ]
     },
     "execution_count": 70,
     "metadata": {},
     "output_type": "execute_result"
    }
   ],
   "source": [
    "dir(loaded_model.metadata)"
   ]
  },
  {
   "cell_type": "code",
   "execution_count": 77,
   "metadata": {},
   "outputs": [
    {
     "name": "stdout",
     "output_type": "stream",
     "text": [
      "models:/house_prices_xgb_model_1/Staging\n"
     ]
    },
    {
     "data": {
      "text/plain": [
       "array([22.981283, 30.136358, 17.367483, 22.758842, 19.641615, 22.305285,\n",
       "       19.027924, 14.624709, 20.839834, 18.13437 , 21.552773, 20.82225 ,\n",
       "       11.442851, 23.997944, 20.47921 , 31.649529, 19.965816,  9.975837,\n",
       "       44.33097 , 12.684249, 24.990417, 26.749693, 16.397635, 21.941044,\n",
       "       11.926445, 13.364957, 22.191189, 12.907046, 21.53167 , 17.329403,\n",
       "       20.316465, 23.641134, 21.432373, 17.420328, 18.567915, 19.495022,\n",
       "       34.89803 , 19.695057, 22.674723, 22.045515, 17.237652, 28.93987 ,\n",
       "       49.165432, 18.854998, 25.261135, 18.260849, 15.550772, 23.528383,\n",
       "       19.560045, 22.660078, 20.357428, 32.772358, 17.198944, 26.671457,\n",
       "       48.977634, 20.827562, 20.47024 , 27.866272, 23.022234, 19.787113,\n",
       "       23.9338  , 35.53965 , 26.959204, 16.159908, 22.49341 , 18.218952,\n",
       "       15.509234, 23.838472, 27.373453, 17.61049 , 21.294327, 28.604715,\n",
       "       14.582991, 17.010658, 23.160679,  8.789547, 19.671293, 47.17371 ,\n",
       "        7.768948, 16.476809, 22.799988, 14.243485, 21.607403, 11.345765,\n",
       "       19.858803, 26.758423, 22.426855, 25.052763, 23.513536, 17.075966,\n",
       "       23.162983,  9.026719, 16.861973, 19.681103, 20.86818 , 20.136055,\n",
       "       17.635036, 11.039606, 11.479721, 14.815902, 21.020245, 22.40028 ],\n",
       "      dtype=float32)"
      ]
     },
     "execution_count": 77,
     "metadata": {},
     "output_type": "execute_result"
    }
   ],
   "source": [
    "import mlflow.pyfunc\n",
    "\n",
    "model_name = \"house_prices_xgb_model_1\"\n",
    "stage = 'Staging'\n",
    "model_uri=f\"models:/{model_name}/{stage}\"\n",
    "\n",
    "\n",
    "model = mlflow.pyfunc.load_model(model_uri)\n",
    "print(model_uri)\n",
    "model.predict(X_test)"
   ]
  },
  {
   "cell_type": "code",
   "execution_count": 100,
   "metadata": {},
   "outputs": [
    {
     "name": "stdout",
     "output_type": "stream",
     "text": [
      "Predictions: {\"predictions\": [22.98128318786621, 30.1363582611084, 17.367483139038086, 22.75884246826172, 19.64161491394043, 22.30528450012207, 19.027923583984375, 14.624709129333496, 20.839834213256836, 18.134370803833008, 21.552772521972656, 20.822250366210938, 11.442851066589355, 23.997943878173828, 20.479209899902344, 31.64952850341797, 19.965816497802734, 9.975836753845215, 44.330970764160156, 12.684248924255371, 24.99041748046875, 26.749692916870117, 16.397634506225586, 21.941043853759766, 11.926445007324219, 13.364956855773926, 22.19118881225586, 12.9070463180542, 21.53166961669922, 17.329402923583984, 20.316465377807617, 23.64113426208496, 21.432373046875, 17.42032814025879, 18.567914962768555, 19.49502182006836, 34.89802932739258, 19.695056915283203, 22.67472267150879, 22.045515060424805, 17.237651824951172, 28.939870834350586, 49.16543197631836, 18.854997634887695, 25.26113510131836, 18.260848999023438, 15.550771713256836, 23.528383255004883, 19.56004524230957, 22.660078048706055, 20.3574275970459, 32.77235794067383, 17.198944091796875, 26.671457290649414, 48.97763442993164, 20.82756233215332, 20.470239639282227, 27.86627197265625, 23.022233963012695, 19.787113189697266, 23.933799743652344, 35.539649963378906, 26.959203720092773, 16.159908294677734, 22.493410110473633, 18.218952178955078, 15.509234428405762, 23.838472366333008, 27.37345314025879, 17.610490798950195, 21.294326782226562, 28.60471534729004, 14.582990646362305, 17.010658264160156, 23.16067886352539, 8.789546966552734, 19.671293258666992, 47.173709869384766, 7.768948078155518, 16.476808547973633, 22.79998779296875, 14.243485450744629, 21.607402801513672, 11.345765113830566, 19.858802795410156, 26.7584228515625, 22.426855087280273, 25.052762985229492, 23.51353645324707, 17.075965881347656, 23.162982940673828, 9.026719093322754, 16.86197280883789, 19.681102752685547, 20.868179321289062, 20.13605499267578, 17.63503646850586, 11.039606094360352, 11.479721069335938, 14.815901756286621, 21.020244598388672, 22.400279998779297]}\n"
     ]
    }
   ],
   "source": [
    "\n",
    "import requests\n",
    "from json import JSONEncoder\n",
    "\n",
    "host = '0.0.0.0'\n",
    "port = '8001'\n",
    "\n",
    "url = f'http://{host}:{port}/invocations'\n",
    "\n",
    "headers = {\n",
    "    'Content-Type': 'application/json',\n",
    "}\n",
    "\n",
    "# test_data is a Pandas dataframe with data for testing the ML model\n",
    "http_data = X_test.to_dict(orient='split')\n",
    "\n",
    "x = JSONEncoder().encode({\"dataframe_split\": http_data})\n",
    "\n",
    "r = requests.post(url=url, headers=headers, data=x)\n",
    "\n",
    "print(f'Predictions: {r.text}')"
   ]
  },
  {
   "cell_type": "code",
   "execution_count": 74,
   "metadata": {},
   "outputs": [
    {
     "name": "stdout",
     "output_type": "stream",
     "text": [
      "{   'creation_timestamp': 1677505289106,\n",
      "    'description': '',\n",
      "    'last_updated_timestamp': 1677506861344,\n",
      "    'latest_versions': [   <ModelVersion: creation_timestamp=1677505289239, current_stage='Staging', description='', last_updated_timestamp=1677506861344, name='HousePrices_Model_A', run_id='123224b04e3748a6a79f4ae615902225', run_link='', source='mlflow-artifacts:/2/123224b04e3748a6a79f4ae615902225/artifacts/preprocess_and_xgb', status='READY', status_message='', tags={}, user_id='', version='1'>,\n",
      "                           <ModelVersion: creation_timestamp=1677506774841, current_stage='None', description='', last_updated_timestamp=1677506774841, name='HousePrices_Model_A', run_id='2f72025b8d63454b8cdddd034107ca2f', run_link='', source='mlflow-artifacts:/2/2f72025b8d63454b8cdddd034107ca2f/artifacts/preprocess_and_xgb', status='READY', status_message='', tags={}, user_id='', version='2'>],\n",
      "    'name': 'HousePrices_Model_A',\n",
      "    'tags': {}}\n",
      "{   'creation_timestamp': 1677586806039,\n",
      "    'description': '',\n",
      "    'last_updated_timestamp': 1677591512428,\n",
      "    'latest_versions': [   <ModelVersion: creation_timestamp=1677591512428, current_stage='None', description='', last_updated_timestamp=1677591512428, name='house_prices_xgb_mlflow.ipynb', run_id='050e38859c5848308b89975f1e9f8615', run_link='', source='./mlartifacts/5/050e38859c5848308b89975f1e9f8615/artifacts/artifacts_stage/run_050e38859c5848308b89975f1e9f8615', status='READY', status_message='', tags={}, user_id='', version='4'>],\n",
      "    'name': 'house_prices_xgb_mlflow.ipynb',\n",
      "    'tags': {}}\n",
      "{   'creation_timestamp': 1677634811631,\n",
      "    'description': '',\n",
      "    'last_updated_timestamp': 1677635100316,\n",
      "    'latest_versions': [   <ModelVersion: creation_timestamp=1677634811746, current_stage='Staging', description='', last_updated_timestamp=1677635100316, name='house_prices_xgb_model_1', run_id='c2796c5207b5410cb0a68ba4ed5a6b33', run_link='', source='mlflow-artifacts:/7/c2796c5207b5410cb0a68ba4ed5a6b33/artifacts/skl_pipe_xgb_house_prices', status='READY', status_message='', tags={}, user_id='', version='1'>],\n",
      "    'name': 'house_prices_xgb_model_1',\n",
      "    'tags': {}}\n"
     ]
    }
   ],
   "source": [
    "from pprint import pprint\n",
    "from mlflow import MlflowClient\n",
    "\n",
    "client = MlflowClient()\n",
    "for rm in client.search_registered_models():\n",
    "    pprint(dict(rm), indent=4)"
   ]
  },
  {
   "cell_type": "code",
   "execution_count": 32,
   "metadata": {},
   "outputs": [],
   "source": [
    "\n",
    "mlflow models serve --model-uri runs:/a00a3ca187b943c4bdb644787bd6b277/model"
   ]
  },
  {
   "cell_type": "code",
   "execution_count": 40,
   "metadata": {},
   "outputs": [],
   "source": [
    "y_pred = pd.Series(data =predictions, name=\"Predicted_Price\")"
   ]
  },
  {
   "cell_type": "code",
   "execution_count": 59,
   "metadata": {},
   "outputs": [
    {
     "name": "stderr",
     "output_type": "stream",
     "text": [
      "/tmp/ipykernel_415888/2907599412.py:1: FutureWarning: Support for multi-dimensional indexing (e.g. `obj[:, None]`) is deprecated and will be removed in a future version.  Convert to a numpy array before indexing instead.\n",
      "  compare = pd.DataFrame(np.hstack((y_pred[:, None], y_test[:, None])))\n"
     ]
    }
   ],
   "source": [
    "compare = pd.DataFrame(np.hstack((y_pred[:, None], y_test[:, None])))"
   ]
  },
  {
   "cell_type": "code",
   "execution_count": 68,
   "metadata": {},
   "outputs": [],
   "source": [
    "compare = pd.DataFrame({0:y_test.values, 1:predictions })\n",
    "compare.columns=['true_price', 'predicted_price']"
   ]
  },
  {
   "cell_type": "code",
   "execution_count": 76,
   "metadata": {},
   "outputs": [
    {
     "data": {
      "image/png": "[encoded data removed]",
      "text/plain": [
       "<Figure size 640x480 with 1 Axes>"
      ]
     },
     "metadata": {},
     "output_type": "display_data"
    }
   ],
   "source": [
    "fig = compare.plot(use_index=True).get_figure()\n",
    "xf = 1234\n",
    "fig.savefig(f\"some_file_{xf}.png\")"
   ]
  },
  {
   "cell_type": "code",
   "execution_count": 247,
   "metadata": {},
   "outputs": [],
   "source": [
    "class Pipeline_Eval:\n",
    "    def __init__(self, X_dataset, y_dataset):\n",
    "        self.__pipelines = set()\n",
    "        self.transformers = []\n",
    "        self.estimators = []\n",
    "        self.X_train, self.X_test, self.y_train, self.y_test = train_test_split(df, y, test_size=0.2, random_state=42)\n",
    "        return self\n",
    "    \n",
    "    \n",
    "    def constructor(self):\n",
    "        \"\"\"Combine the treansfors and estiators list into pipelines\"\"\"\n",
    "        for e in self.estimators:\n",
    "            steps = self.transformers.copy()\n",
    "            steps.append(e)\n",
    "            print(steps)\n",
    "            pipe = Pipeline(steps)\n",
    "            print(\"Pipeline was created\")\n",
    "            print(pipe)\n",
    "            self.__pipelines.add(pickle.dumps(pipe))\n",
    "\n",
    "\n",
    "\n",
    "    def eval_pipeline(self, pipe):\n",
    "        print(\"Eval Pipeline\")\n",
    "        pipe.fit(self.X_train, self.y_train)\n",
    "        pred = pipe.predict(self.X_test)\n",
    "        mae = mean_absolute_error(pred, self.y_test)\n",
    "        print(\"PIpeline:\")\n",
    "        print(pipe)\n",
    "        print(f\"Mean Absolute Error {mae:.4f}\")\n",
    "\n",
    "\n",
    "    def add_pipeline(self, pipe):\n",
    "        self.__pipelines.add(pickle.dumps(pipe))\n",
    "\n",
    "\n",
    "    def fit_predict(self):\n",
    "        for pipe in self.__pipelines:\n",
    "            self.eval_pipeline(pickle.loads(pipe))\n",
    "\n",
    "    "
   ]
  },
  {
   "cell_type": "code",
   "execution_count": 248,
   "metadata": {},
   "outputs": [],
   "source": [
    "peval = Pipeline_Eval(df, y)"
   ]
  },
  {
   "cell_type": "code",
   "execution_count": 249,
   "metadata": {},
   "outputs": [
    {
     "name": "stdout",
     "output_type": "stream",
     "text": [
      "[('simple_imputer', SimpleImputer()), ('linear_reg', LinearRegression())]\n",
      "Pipeline was created\n",
      "Pipeline(steps=[('simple_imputer', SimpleImputer()),\n",
      "                ('linear_reg', LinearRegression())])\n",
      "Eval Pipeline\n",
      "PIpeline:\n",
      "Pipeline(steps=[('simple_imputer', SimpleImputer()),\n",
      "                ('linear_reg', LinearRegression())])\n",
      "Mean Absolute Error 3.8229\n"
     ]
    }
   ],
   "source": [
    "peval.transformers.append(('simple_imputer', SimpleImputer(missing_values=np.nan, strategy='mean')))\n",
    "peval.estimators.append(('linear_reg', LinearRegression()))\n",
    "peval.constructor()\n",
    "peval.fit_predict()"
   ]
  },
  {
   "cell_type": "code",
   "execution_count": 250,
   "metadata": {},
   "outputs": [
    {
     "name": "stdout",
     "output_type": "stream",
     "text": [
      "[('simple_imputer', SimpleImputer()), ('linear_reg', LinearRegression())]\n",
      "Pipeline was created\n",
      "Pipeline(steps=[('simple_imputer', SimpleImputer()),\n",
      "                ('linear_reg', LinearRegression())])\n",
      "[('simple_imputer', SimpleImputer()), ('xgb_reg', XGBRFRegressor(base_score=None, booster=None, callbacks=None,\n",
      "               colsample_bylevel=None, colsample_bytree=None,\n",
      "               early_stopping_rounds=None, enable_categorical=False,\n",
      "               eval_metric=None, feature_types=None, gamma=None, gpu_id=None,\n",
      "               grow_policy=None, importance_type=None,\n",
      "               interaction_constraints=None, max_bin=None,\n",
      "               max_cat_threshold=None, max_cat_to_onehot=None,\n",
      "               max_delta_step=None, max_depth=13, max_leaves=None,\n",
      "               min_child_weight=None, missing=nan, monotone_constraints=None,\n",
      "               n_estimators=100, n_jobs=None, num_parallel_tree=None,\n",
      "               objective='reg:squarederror', predictor=None, random_state=None,\n",
      "               reg_alpha=None, ...))]\n",
      "Pipeline was created\n",
      "Pipeline(steps=[('simple_imputer', SimpleImputer()),\n",
      "                ('xgb_reg',\n",
      "                 XGBRFRegressor(base_score=None, booster=None, callbacks=None,\n",
      "                                colsample_bylevel=None, colsample_bytree=None,\n",
      "                                early_stopping_rounds=None,\n",
      "                                enable_categorical=False, eval_metric=None,\n",
      "                                feature_types=None, gamma=None, gpu_id=None,\n",
      "                                grow_policy=None, importance_type=None,\n",
      "                                interaction_constraints=None, max_bin=None,\n",
      "                                max_cat_threshold=None, max_cat_to_onehot=None,\n",
      "                                max_delta_step=None, max_depth=13,\n",
      "                                max_leaves=None, min_child_weight=None,\n",
      "                                missing=nan, monotone_constraints=None,\n",
      "                                n_estimators=100, n_jobs=None,\n",
      "                                num_parallel_tree=None,\n",
      "                                objective='reg:squarederror', predictor=None,\n",
      "                                random_state=None, reg_alpha=None, ...))])\n",
      "Eval Pipeline\n",
      "PIpeline:\n",
      "Pipeline(steps=[('simple_imputer', SimpleImputer()),\n",
      "                ('xgb_reg',\n",
      "                 XGBRFRegressor(base_score=0.5, booster='gbtree',\n",
      "                                callbacks=None, colsample_bylevel=1,\n",
      "                                colsample_bytree=1, early_stopping_rounds=None,\n",
      "                                enable_categorical=False, eval_metric=None,\n",
      "                                feature_types=None, gamma=0, gpu_id=-1,\n",
      "                                grow_policy='depthwise', importance_type=None,\n",
      "                                interaction_constraints='', max_bin=256,\n",
      "                                max_cat_threshold=64, max_cat_to_onehot=4,\n",
      "                                max_delta_step=0, max_depth=13, max_leaves=0,\n",
      "                                min_child_weight=1, missing=nan,\n",
      "                                monotone_constraints='()', n_estimators=100,\n",
      "                                n_jobs=0, num_parallel_tree=100,\n",
      "                                objective='reg:squarederror', predictor='auto',\n",
      "                                random_state=0, reg_alpha=0, ...))])\n",
      "Mean Absolute Error 3.0667\n",
      "Eval Pipeline\n",
      "PIpeline:\n",
      "Pipeline(steps=[('simple_imputer', SimpleImputer()),\n",
      "                ('linear_reg', LinearRegression())])\n",
      "Mean Absolute Error 3.8229\n"
     ]
    }
   ],
   "source": [
    "peval.estimators.append(('xgb_reg', xgb.XGBRFRegressor(max_depth=13, learning_rate=1.0)))\n",
    "\n",
    "peval.constructor()\n",
    "peval.fit_predict()\n",
    "\n"
   ]
  },
  {
   "cell_type": "code",
   "execution_count": 251,
   "metadata": {},
   "outputs": [
    {
     "name": "stdout",
     "output_type": "stream",
     "text": [
      "Eval Pipeline\n",
      "PIpeline:\n",
      "Pipeline(steps=[('simple_imputer', SimpleImputer()),\n",
      "                ('xgb_reg',\n",
      "                 XGBRFRegressor(base_score=0.5, booster='gbtree',\n",
      "                                callbacks=None, colsample_bylevel=1,\n",
      "                                colsample_bytree=1, early_stopping_rounds=None,\n",
      "                                enable_categorical=False, eval_metric=None,\n",
      "                                feature_types=None, gamma=0, gpu_id=-1,\n",
      "                                grow_policy='depthwise', importance_type=None,\n",
      "                                interaction_constraints='', max_bin=256,\n",
      "                                max_cat_threshold=64, max_cat_to_onehot=4,\n",
      "                                max_delta_step=0, max_depth=13, max_leaves=0,\n",
      "                                min_child_weight=1, missing=nan,\n",
      "                                monotone_constraints='()', n_estimators=100,\n",
      "                                n_jobs=0, num_parallel_tree=100,\n",
      "                                objective='reg:squarederror', predictor='auto',\n",
      "                                random_state=0, reg_alpha=0, ...))])\n",
      "Mean Absolute Error 3.0667\n",
      "Eval Pipeline\n",
      "PIpeline:\n",
      "Pipeline(steps=[('simple_imputer', SimpleImputer()),\n",
      "                ('linear_reg', LinearRegression())])\n",
      "Mean Absolute Error 3.8229\n"
     ]
    }
   ],
   "source": [
    "peval.fit_predict()"
   ]
  },
  {
   "cell_type": "code",
   "execution_count": 232,
   "metadata": {},
   "outputs": [],
   "source": [
    "peval.add_pipeline(Pipeline([\n",
    "    ('simple_imputer', SimpleImputer(missing_values=np.nan, strategy='mean')),\n",
    "    ('lasso_regression', linear_model.Lasso(alpha=0.1))\n",
    "]))"
   ]
  },
  {
   "cell_type": "code",
   "execution_count": 252,
   "metadata": {},
   "outputs": [],
   "source": [
    "peval.estimators.append(('lasso_regression', linear_model.Lasso(alpha=0.1)))"
   ]
  },
  {
   "cell_type": "code",
   "execution_count": 253,
   "metadata": {},
   "outputs": [],
   "source": [
    "peval.transformers.append(('standard_scaler', StandardScaler()))"
   ]
  },
  {
   "cell_type": "code",
   "execution_count": 255,
   "metadata": {},
   "outputs": [
    {
     "name": "stdout",
     "output_type": "stream",
     "text": [
      "[('simple_imputer', SimpleImputer()), ('standard_scaler', StandardScaler()), ('linear_reg', LinearRegression())]\n",
      "Pipeline was created\n",
      "Pipeline(steps=[('simple_imputer', SimpleImputer()),\n",
      "                ('standard_scaler', StandardScaler()),\n",
      "                ('linear_reg', LinearRegression())])\n",
      "[('simple_imputer', SimpleImputer()), ('standard_scaler', StandardScaler()), ('xgb_reg', XGBRFRegressor(base_score=None, booster=None, callbacks=None,\n",
      "               colsample_bylevel=None, colsample_bytree=None,\n",
      "               early_stopping_rounds=None, enable_categorical=False,\n",
      "               eval_metric=None, feature_types=None, gamma=None, gpu_id=None,\n",
      "               grow_policy=None, importance_type=None,\n",
      "               interaction_constraints=None, max_bin=None,\n",
      "               max_cat_threshold=None, max_cat_to_onehot=None,\n",
      "               max_delta_step=None, max_depth=13, max_leaves=None,\n",
      "               min_child_weight=None, missing=nan, monotone_constraints=None,\n",
      "               n_estimators=100, n_jobs=None, num_parallel_tree=None,\n",
      "               objective='reg:squarederror', predictor=None, random_state=None,\n",
      "               reg_alpha=None, ...))]\n",
      "Pipeline was created\n",
      "Pipeline(steps=[('simple_imputer', SimpleImputer()),\n",
      "                ('standard_scaler', StandardScaler()),\n",
      "                ('xgb_reg',\n",
      "                 XGBRFRegressor(base_score=None, booster=None, callbacks=None,\n",
      "                                colsample_bylevel=None, colsample_bytree=None,\n",
      "                                early_stopping_rounds=None,\n",
      "                                enable_categorical=False, eval_metric=None,\n",
      "                                feature_types=None, gamma=None, gpu_id=None,\n",
      "                                grow_policy=None, importance_type=None,\n",
      "                                interaction_constraints=None, max_bin=None,\n",
      "                                max_cat_threshold=None, max_cat_to_onehot=None,\n",
      "                                max_delta_step=None, max_depth=13,\n",
      "                                max_leaves=None, min_child_weight=None,\n",
      "                                missing=nan, monotone_constraints=None,\n",
      "                                n_estimators=100, n_jobs=None,\n",
      "                                num_parallel_tree=None,\n",
      "                                objective='reg:squarederror', predictor=None,\n",
      "                                random_state=None, reg_alpha=None, ...))])\n",
      "[('simple_imputer', SimpleImputer()), ('standard_scaler', StandardScaler()), ('lasso_regression', Lasso(alpha=0.1))]\n",
      "Pipeline was created\n",
      "Pipeline(steps=[('simple_imputer', SimpleImputer()),\n",
      "                ('standard_scaler', StandardScaler()),\n",
      "                ('lasso_regression', Lasso(alpha=0.1))])\n"
     ]
    }
   ],
   "source": [
    "peval.constructor()"
   ]
  },
  {
   "cell_type": "code",
   "execution_count": 256,
   "metadata": {},
   "outputs": [
    {
     "name": "stdout",
     "output_type": "stream",
     "text": [
      "Eval Pipeline\n",
      "PIpeline:\n",
      "Pipeline(steps=[('simple_imputer', SimpleImputer()),\n",
      "                ('standard_scaler', StandardScaler()),\n",
      "                ('lasso_regression', Lasso(alpha=0.1))])\n",
      "Mean Absolute Error 3.8122\n",
      "Eval Pipeline\n",
      "PIpeline:\n",
      "Pipeline(steps=[('simple_imputer', SimpleImputer()),\n",
      "                ('standard_scaler', StandardScaler()),\n",
      "                ('xgb_reg',\n",
      "                 XGBRFRegressor(base_score=0.5, booster='gbtree',\n",
      "                                callbacks=None, colsample_bylevel=1,\n",
      "                                colsample_bytree=1, early_stopping_rounds=None,\n",
      "                                enable_categorical=False, eval_metric=None,\n",
      "                                feature_types=None, gamma=0, gpu_id=-1,\n",
      "                                grow_policy='depthwise', importance_type=None,\n",
      "                                interaction_constraints='', max_bin=256,\n",
      "                                max_cat_threshold=64, max_cat_to_onehot=4,\n",
      "                                max_delta_step=0, max_depth=13, max_leaves=0,\n",
      "                                min_child_weight=1, missing=nan,\n",
      "                                monotone_constraints='()', n_estimators=100,\n",
      "                                n_jobs=0, num_parallel_tree=100,\n",
      "                                objective='reg:squarederror', predictor='auto',\n",
      "                                random_state=0, reg_alpha=0, ...))])\n",
      "Mean Absolute Error 3.0695\n",
      "Eval Pipeline\n",
      "PIpeline:\n",
      "Pipeline(steps=[('simple_imputer', SimpleImputer()),\n",
      "                ('linear_reg', LinearRegression())])\n",
      "Mean Absolute Error 3.8229\n",
      "Eval Pipeline\n",
      "PIpeline:\n",
      "Pipeline(steps=[('simple_imputer', SimpleImputer()),\n",
      "                ('xgb_reg',\n",
      "                 XGBRFRegressor(base_score=0.5, booster='gbtree',\n",
      "                                callbacks=None, colsample_bylevel=1,\n",
      "                                colsample_bytree=1, early_stopping_rounds=None,\n",
      "                                enable_categorical=False, eval_metric=None,\n",
      "                                feature_types=None, gamma=0, gpu_id=-1,\n",
      "                                grow_policy='depthwise', importance_type=None,\n",
      "                                interaction_constraints='', max_bin=256,\n",
      "                                max_cat_threshold=64, max_cat_to_onehot=4,\n",
      "                                max_delta_step=0, max_depth=13, max_leaves=0,\n",
      "                                min_child_weight=1, missing=nan,\n",
      "                                monotone_constraints='()', n_estimators=100,\n",
      "                                n_jobs=0, num_parallel_tree=100,\n",
      "                                objective='reg:squarederror', predictor='auto',\n",
      "                                random_state=0, reg_alpha=0, ...))])\n",
      "Mean Absolute Error 3.0667\n",
      "Eval Pipeline\n",
      "PIpeline:\n",
      "Pipeline(steps=[('simple_imputer', SimpleImputer()),\n",
      "                ('standard_scaler', StandardScaler()),\n",
      "                ('linear_reg', LinearRegression())])\n",
      "Mean Absolute Error 3.8229\n"
     ]
    }
   ],
   "source": [
    "peval.fit_predict()"
   ]
  },
  {
   "attachments": {},
   "cell_type": "markdown",
   "metadata": {},
   "source": [
    "Standard Scaler\n",
    "The standard scaler shift the data so that the mean is zero and the std deviation (unit variance) is one. "
   ]
  },
  {
   "attachments": {},
   "cell_type": "markdown",
   "metadata": {},
   "source": [
    "## Simple example from https://scikit-learn.org/stable/modules/preprocessing.html\n",
    "\n"
   ]
  },
  {
   "cell_type": "code",
   "execution_count": 7,
   "metadata": {},
   "outputs": [
    {
     "name": "stdout",
     "output_type": "stream",
     "text": [
      "Data mean: [1.         0.         0.33333333]\n",
      "Data scaler to adjust to zero mean: [0.81649658 0.81649658 1.24721913]\n",
      "Scaled data\n"
     ]
    },
    {
     "data": {
      "text/plain": [
       "array([[ 0.        , -1.22474487,  1.33630621],\n",
       "       [ 1.22474487,  0.        , -0.26726124],\n",
       "       [-1.22474487,  1.22474487, -1.06904497]])"
      ]
     },
     "execution_count": 7,
     "metadata": {},
     "output_type": "execute_result"
    }
   ],
   "source": [
    "raw_data = np.array([[1., -1., 2.],\n",
    "                [2.,  0., 0.],\n",
    "                [0., 1., -1.]])\n",
    "\n",
    "# Scaler is being fit to data \n",
    "scaler = preprocessing.StandardScaler().fit(raw_data)\n",
    "\n",
    "print(f\"Data mean: {scaler.mean_}\")\n",
    "print(f\"Data scaler to adjust to zero mean: {scaler.scale_}\")\n",
    "\n",
    "# The scaler is used to transform the data\n",
    "scaled_data = scaler.transform(raw_data)\n",
    "print(\"Scaled data\")\n",
    "scaled_data"
   ]
  },
  {
   "cell_type": "code",
   "execution_count": 8,
   "metadata": {},
   "outputs": [
    {
     "data": {
      "text/html": [
       "<div>\n",
       "<style scoped>\n",
       "    .dataframe tbody tr th:only-of-type {\n",
       "        vertical-align: middle;\n",
       "    }\n",
       "\n",
       "    .dataframe tbody tr th {\n",
       "        vertical-align: top;\n",
       "    }\n",
       "\n",
       "    .dataframe thead th {\n",
       "        text-align: right;\n",
       "    }\n",
       "</style>\n",
       "<table border=\"1\" class=\"dataframe\">\n",
       "  <thead>\n",
       "    <tr style=\"text-align: right;\">\n",
       "      <th></th>\n",
       "      <th>price</th>\n",
       "      <th>resid_area</th>\n",
       "      <th>room_num</th>\n",
       "      <th>teachers</th>\n",
       "    </tr>\n",
       "  </thead>\n",
       "  <tbody>\n",
       "    <tr>\n",
       "      <th>0</th>\n",
       "      <td>24.0</td>\n",
       "      <td>32.31</td>\n",
       "      <td>6.575</td>\n",
       "      <td>24.7</td>\n",
       "    </tr>\n",
       "    <tr>\n",
       "      <th>1</th>\n",
       "      <td>21.6</td>\n",
       "      <td>37.07</td>\n",
       "      <td>6.421</td>\n",
       "      <td>22.2</td>\n",
       "    </tr>\n",
       "    <tr>\n",
       "      <th>2</th>\n",
       "      <td>34.7</td>\n",
       "      <td>37.07</td>\n",
       "      <td>7.185</td>\n",
       "      <td>22.2</td>\n",
       "    </tr>\n",
       "    <tr>\n",
       "      <th>3</th>\n",
       "      <td>33.4</td>\n",
       "      <td>32.18</td>\n",
       "      <td>6.998</td>\n",
       "      <td>21.3</td>\n",
       "    </tr>\n",
       "    <tr>\n",
       "      <th>4</th>\n",
       "      <td>36.2</td>\n",
       "      <td>32.18</td>\n",
       "      <td>7.147</td>\n",
       "      <td>21.3</td>\n",
       "    </tr>\n",
       "  </tbody>\n",
       "</table>\n",
       "</div>"
      ],
      "text/plain": [
       "   price  resid_area  room_num  teachers\n",
       "0   24.0       32.31     6.575      24.7\n",
       "1   21.6       37.07     6.421      22.2\n",
       "2   34.7       37.07     7.185      22.2\n",
       "3   33.4       32.18     6.998      21.3\n",
       "4   36.2       32.18     7.147      21.3"
      ]
     },
     "execution_count": 8,
     "metadata": {},
     "output_type": "execute_result"
    }
   ],
   "source": [
    "# Use StandardScaler to normalized number of hospital beds\n",
    "nor_hosp_beds = preprocessing.StandardScaler().fit_transform(df[['n_hos_beds']])\n",
    "\n",
    "type(nor_hosp_beds)\n",
    "\n",
    "\n",
    "hp.head()"
   ]
  },
  {
   "cell_type": "code",
   "execution_count": 19,
   "metadata": {},
   "outputs": [
    {
     "data": {
      "text/html": [
       "<div>\n",
       "<style scoped>\n",
       "    .dataframe tbody tr th:only-of-type {\n",
       "        vertical-align: middle;\n",
       "    }\n",
       "\n",
       "    .dataframe tbody tr th {\n",
       "        vertical-align: top;\n",
       "    }\n",
       "\n",
       "    .dataframe thead th {\n",
       "        text-align: right;\n",
       "    }\n",
       "</style>\n",
       "<table border=\"1\" class=\"dataframe\">\n",
       "  <thead>\n",
       "    <tr style=\"text-align: right;\">\n",
       "      <th></th>\n",
       "      <th>price</th>\n",
       "      <th>resid_area</th>\n",
       "      <th>room_num</th>\n",
       "      <th>teachers</th>\n",
       "    </tr>\n",
       "  </thead>\n",
       "  <tbody>\n",
       "    <tr>\n",
       "      <th>0</th>\n",
       "      <td>24.0</td>\n",
       "      <td>-1.287909</td>\n",
       "      <td>0.413672</td>\n",
       "      <td>1.459000</td>\n",
       "    </tr>\n",
       "    <tr>\n",
       "      <th>1</th>\n",
       "      <td>21.6</td>\n",
       "      <td>-0.593381</td>\n",
       "      <td>0.194274</td>\n",
       "      <td>0.303094</td>\n",
       "    </tr>\n",
       "    <tr>\n",
       "      <th>2</th>\n",
       "      <td>34.7</td>\n",
       "      <td>-0.593381</td>\n",
       "      <td>1.282714</td>\n",
       "      <td>0.303094</td>\n",
       "    </tr>\n",
       "    <tr>\n",
       "      <th>3</th>\n",
       "      <td>33.4</td>\n",
       "      <td>-1.306878</td>\n",
       "      <td>1.016303</td>\n",
       "      <td>-0.113032</td>\n",
       "    </tr>\n",
       "    <tr>\n",
       "      <th>4</th>\n",
       "      <td>36.2</td>\n",
       "      <td>-1.306878</td>\n",
       "      <td>1.228577</td>\n",
       "      <td>-0.113032</td>\n",
       "    </tr>\n",
       "  </tbody>\n",
       "</table>\n",
       "</div>"
      ],
      "text/plain": [
       "   price  resid_area  room_num  teachers\n",
       "0   24.0   -1.287909  0.413672  1.459000\n",
       "1   21.6   -0.593381  0.194274  0.303094\n",
       "2   34.7   -0.593381  1.282714  0.303094\n",
       "3   33.4   -1.306878  1.016303 -0.113032\n",
       "4   36.2   -1.306878  1.228577 -0.113032"
      ]
     },
     "execution_count": 19,
     "metadata": {},
     "output_type": "execute_result"
    }
   ],
   "source": [
    "# hp = house prices\n",
    "# shp = scale house prices. It's imported to explicitly copy the data frame. \n",
    "# Otherwise pandas will use a view of the original data frame \n",
    "shp = hp.copy()\n",
    "shp.loc[:, ('resid_area', 'room_num', 'teachers')] = scaler.fit_transform(\n",
    "    shp[['resid_area', 'room_num', 'teachers']].to_numpy())\n",
    "\n",
    "shp.head()"
   ]
  },
  {
   "attachments": {},
   "cell_type": "markdown",
   "metadata": {},
   "source": [
    "## Simple pipeline that use the standard scaler and classification problem \n",
    "source: https://scikit-learn.org/stable/modules/preprocessing.html"
   ]
  },
  {
   "cell_type": "code",
   "execution_count": 21,
   "metadata": {},
   "outputs": [],
   "source": [
    "from sklearn.datasets import make_classification\n",
    "from sklearn.datasets import make_regression\n",
    "from sklearn.linear_model import LogisticRegression\n",
    "from sklearn.model_selection import train_test_split\n",
    "from sklearn.pipeline import make_pipeline\n",
    "from sklearn.preprocessing import StandardScaler"
   ]
  },
  {
   "cell_type": "code",
   "execution_count": 22,
   "metadata": {},
   "outputs": [
    {
     "data": {
      "text/plain": [
       "0.96"
      ]
     },
     "execution_count": 22,
     "metadata": {},
     "output_type": "execute_result"
    }
   ],
   "source": [
    "X, y = make_classification(random_state=42)\n",
    "X_train, X_test, y_train, y_test = train_test_split(X, y, random_state=42)\n",
    "pipe = make_pipeline(StandardScaler(), LogisticRegression())\n",
    "pipe.fit(X_train, y_train)\n",
    "\n",
    "pipe.score(X_test, y_test)\n"
   ]
  },
  {
   "cell_type": "code",
   "execution_count": 181,
   "metadata": {},
   "outputs": [
    {
     "name": "stdout",
     "output_type": "stream",
     "text": [
      "PIpeline:\n",
      "Pipeline(steps=[('simple_imputer', SimpleImputer()),\n",
      "                ('standard_scaler', StandardScaler()),\n",
      "                ('linear_reg', LinearRegression())])\n",
      "Mean Absolute Error 3.8229\n"
     ]
    }
   ],
   "source": [
    "pipe = Pipeline([\n",
    "    ('simple_imputer', SimpleImputer(missing_values=np.nan, strategy='mean')),\n",
    "    ('standard_scaler', StandardScaler()),\n",
    "    ('linear_reg', LinearRegression())\n",
    "])\n",
    "peval.eval_pipeline(pipe)"
   ]
  },
  {
   "attachments": {},
   "cell_type": "markdown",
   "metadata": {},
   "source": [
    "### Standardize value range, scalling the feature to lie between minimum and a maximum using `MinMaxScaler` and `MaxAbsScaler`\n",
    "\n",
    "The motivation for standardize to a range is to increase the effectiveness of data with small standard deviations and preserve zero enteries. "
   ]
  },
  {
   "cell_type": "code",
   "execution_count": 24,
   "metadata": {},
   "outputs": [
    {
     "data": {
      "text/plain": [
       "array([[ 1., -1.,  2.],\n",
       "       [ 2.,  0.,  0.],\n",
       "       [ 0.,  1., -1.]])"
      ]
     },
     "execution_count": 24,
     "metadata": {},
     "output_type": "execute_result"
    }
   ],
   "source": [
    "raw_data"
   ]
  },
  {
   "cell_type": "code",
   "execution_count": 36,
   "metadata": {},
   "outputs": [
    {
     "data": {
      "text/plain": [
       "array([[0.5       , 0.        , 1.        ],\n",
       "       [1.        , 0.5       , 0.33333333],\n",
       "       [0.        , 1.        , 0.        ]])"
      ]
     },
     "execution_count": 36,
     "metadata": {},
     "output_type": "execute_result"
    }
   ],
   "source": [
    "min_max_scaler = preprocessing.MinMaxScaler()\n",
    "raw_data_minmax_scaled = min_max_scaler.fit_transform(raw_data)\n",
    "raw_data_minmax_scaled\n",
    "\n",
    "# Why zero have two different value below? "
   ]
  },
  {
   "cell_type": "code",
   "execution_count": 35,
   "metadata": {},
   "outputs": [
    {
     "data": {
      "text/plain": [
       "array([[0.5       , 0.        , 1.        ],\n",
       "       [1.        , 0.5       , 0.33333333],\n",
       "       [0.        , 1.        , 0.        ]])"
      ]
     },
     "execution_count": 35,
     "metadata": {},
     "output_type": "execute_result"
    }
   ],
   "source": [
    "max_abs_scaler = preprocessing.MaxAbsScaler()\n",
    "raw_data_maxabs_scaled = max_abs_scaler.fit_transform(raw_data)\n",
    "raw_data_minmax_scaled"
   ]
  },
  {
   "cell_type": "code",
   "execution_count": 31,
   "metadata": {},
   "outputs": [
    {
     "data": {
      "text/plain": [
       "array([ 0., -1., -1.])"
      ]
     },
     "execution_count": 31,
     "metadata": {},
     "output_type": "execute_result"
    }
   ],
   "source": [
    "raw_data.min(axis=0)"
   ]
  },
  {
   "attachments": {},
   "cell_type": "markdown",
   "metadata": {},
   "source": [
    "### Standardize sparse data\n",
    "Normalize sparse data to a center will destroy the sparseness struture of the data. However, it can be useful to scale sparse inputs if the feature are on different scales. \n",
    "\n",
    "If there is a need to scale sparse data, use the MaxAbsScaler or the StandardScaler with_mean = False"
   ]
  },
  {
   "cell_type": "code",
   "execution_count": 39,
   "metadata": {},
   "outputs": [],
   "source": [
    "#todo learn what is sparse data and play with examples. \n",
    "\n",
    "sparse_data = np.array([[1., -1., 0., 0., 1., 0.],\n",
    "                        [2.,  0., 0., 0., 0., 0.],\n",
    "                        [0.,  1., 0., 0., 0., 1.],\n",
    "                        [1.,  0., 0., 0., 0., 1.],\n",
    "                        [0.,  1., 0., 0., 0., 0.]])\n"
   ]
  },
  {
   "cell_type": "code",
   "execution_count": 44,
   "metadata": {},
   "outputs": [],
   "source": [
    "max_abs_scaler = preprocessing.MaxAbsScaler()\n",
    "snd_scaler = preprocessing.StandardScaler(with_mean=False)"
   ]
  },
  {
   "cell_type": "code",
   "execution_count": 45,
   "metadata": {},
   "outputs": [
    {
     "data": {
      "text/plain": [
       "array([[ 0.5, -1. ,  0. ,  0. ,  1. ,  0. ],\n",
       "       [ 1. ,  0. ,  0. ,  0. ,  0. ,  0. ],\n",
       "       [ 0. ,  1. ,  0. ,  0. ,  0. ,  1. ],\n",
       "       [ 0.5,  0. ,  0. ,  0. ,  0. ,  1. ],\n",
       "       [ 0. ,  1. ,  0. ,  0. ,  0. ,  0. ]])"
      ]
     },
     "execution_count": 45,
     "metadata": {},
     "output_type": "execute_result"
    }
   ],
   "source": [
    "sparse_data_max_abs_scaled = max_abs_scaler.fit_transform(sparse_data)\n",
    "sparse_data_max_abs_scaled"
   ]
  },
  {
   "cell_type": "code",
   "execution_count": 46,
   "metadata": {},
   "outputs": [
    {
     "data": {
      "text/plain": [
       "array([[ 0.5, -1. ,  0. ,  0. ,  1. ,  0. ],\n",
       "       [ 1. ,  0. ,  0. ,  0. ,  0. ,  0. ],\n",
       "       [ 0. ,  1. ,  0. ,  0. ,  0. ,  1. ],\n",
       "       [ 0.5,  0. ,  0. ,  0. ,  0. ,  1. ],\n",
       "       [ 0. ,  1. ,  0. ,  0. ,  0. ,  0. ]])"
      ]
     },
     "execution_count": 46,
     "metadata": {},
     "output_type": "execute_result"
    }
   ],
   "source": [
    "sparse_data_snd_scaled = snd_scaler.fit_transform(sparse_data)\n",
    "sparse_data_max_abs_scaled"
   ]
  },
  {
   "attachments": {},
   "cell_type": "markdown",
   "metadata": {},
   "source": [
    "## Using RobustScaler to deal with outlier\n",
    "\n",
    "Test data will by the number of hospital rooms in the house pricing dataset"
   ]
  },
  {
   "cell_type": "code",
   "execution_count": 48,
   "metadata": {},
   "outputs": [
    {
     "data": {
      "text/html": [
       "<div>\n",
       "<style scoped>\n",
       "    .dataframe tbody tr th:only-of-type {\n",
       "        vertical-align: middle;\n",
       "    }\n",
       "\n",
       "    .dataframe tbody tr th {\n",
       "        vertical-align: top;\n",
       "    }\n",
       "\n",
       "    .dataframe thead th {\n",
       "        text-align: right;\n",
       "    }\n",
       "</style>\n",
       "<table border=\"1\" class=\"dataframe\">\n",
       "  <thead>\n",
       "    <tr style=\"text-align: right;\">\n",
       "      <th></th>\n",
       "      <th>price</th>\n",
       "      <th>crime_rate</th>\n",
       "      <th>resid_area</th>\n",
       "      <th>air_qual</th>\n",
       "      <th>room_num</th>\n",
       "      <th>age</th>\n",
       "      <th>dist1</th>\n",
       "      <th>dist2</th>\n",
       "      <th>dist3</th>\n",
       "      <th>dist4</th>\n",
       "      <th>teachers</th>\n",
       "      <th>poor_prop</th>\n",
       "      <th>airport</th>\n",
       "      <th>n_hos_beds</th>\n",
       "      <th>n_hot_rooms</th>\n",
       "      <th>waterbody</th>\n",
       "      <th>rainfall</th>\n",
       "      <th>bus_ter</th>\n",
       "      <th>parks</th>\n",
       "    </tr>\n",
       "  </thead>\n",
       "  <tbody>\n",
       "    <tr>\n",
       "      <th>0</th>\n",
       "      <td>24.0</td>\n",
       "      <td>0.00632</td>\n",
       "      <td>32.31</td>\n",
       "      <td>0.538</td>\n",
       "      <td>6.575</td>\n",
       "      <td>65.2</td>\n",
       "      <td>4.35</td>\n",
       "      <td>3.81</td>\n",
       "      <td>4.18</td>\n",
       "      <td>4.01</td>\n",
       "      <td>24.7</td>\n",
       "      <td>4.98</td>\n",
       "      <td>YES</td>\n",
       "      <td>5.480</td>\n",
       "      <td>11.1920</td>\n",
       "      <td>River</td>\n",
       "      <td>23</td>\n",
       "      <td>YES</td>\n",
       "      <td>0.049347</td>\n",
       "    </tr>\n",
       "    <tr>\n",
       "      <th>1</th>\n",
       "      <td>21.6</td>\n",
       "      <td>0.02731</td>\n",
       "      <td>37.07</td>\n",
       "      <td>0.469</td>\n",
       "      <td>6.421</td>\n",
       "      <td>78.9</td>\n",
       "      <td>4.99</td>\n",
       "      <td>4.70</td>\n",
       "      <td>5.12</td>\n",
       "      <td>5.06</td>\n",
       "      <td>22.2</td>\n",
       "      <td>9.14</td>\n",
       "      <td>NO</td>\n",
       "      <td>7.332</td>\n",
       "      <td>12.1728</td>\n",
       "      <td>Lake</td>\n",
       "      <td>42</td>\n",
       "      <td>YES</td>\n",
       "      <td>0.046146</td>\n",
       "    </tr>\n",
       "    <tr>\n",
       "      <th>2</th>\n",
       "      <td>34.7</td>\n",
       "      <td>0.02729</td>\n",
       "      <td>37.07</td>\n",
       "      <td>0.469</td>\n",
       "      <td>7.185</td>\n",
       "      <td>61.1</td>\n",
       "      <td>5.03</td>\n",
       "      <td>4.86</td>\n",
       "      <td>5.01</td>\n",
       "      <td>4.97</td>\n",
       "      <td>22.2</td>\n",
       "      <td>4.03</td>\n",
       "      <td>NO</td>\n",
       "      <td>7.394</td>\n",
       "      <td>101.1200</td>\n",
       "      <td>None</td>\n",
       "      <td>38</td>\n",
       "      <td>YES</td>\n",
       "      <td>0.045764</td>\n",
       "    </tr>\n",
       "    <tr>\n",
       "      <th>3</th>\n",
       "      <td>33.4</td>\n",
       "      <td>0.03237</td>\n",
       "      <td>32.18</td>\n",
       "      <td>0.458</td>\n",
       "      <td>6.998</td>\n",
       "      <td>45.8</td>\n",
       "      <td>6.21</td>\n",
       "      <td>5.93</td>\n",
       "      <td>6.16</td>\n",
       "      <td>5.96</td>\n",
       "      <td>21.3</td>\n",
       "      <td>2.94</td>\n",
       "      <td>YES</td>\n",
       "      <td>9.268</td>\n",
       "      <td>11.2672</td>\n",
       "      <td>Lake</td>\n",
       "      <td>45</td>\n",
       "      <td>YES</td>\n",
       "      <td>0.047151</td>\n",
       "    </tr>\n",
       "    <tr>\n",
       "      <th>4</th>\n",
       "      <td>36.2</td>\n",
       "      <td>0.06905</td>\n",
       "      <td>32.18</td>\n",
       "      <td>0.458</td>\n",
       "      <td>7.147</td>\n",
       "      <td>54.2</td>\n",
       "      <td>6.16</td>\n",
       "      <td>5.86</td>\n",
       "      <td>6.37</td>\n",
       "      <td>5.86</td>\n",
       "      <td>21.3</td>\n",
       "      <td>5.33</td>\n",
       "      <td>NO</td>\n",
       "      <td>8.824</td>\n",
       "      <td>11.2896</td>\n",
       "      <td>Lake</td>\n",
       "      <td>55</td>\n",
       "      <td>YES</td>\n",
       "      <td>0.039474</td>\n",
       "    </tr>\n",
       "  </tbody>\n",
       "</table>\n",
       "</div>"
      ],
      "text/plain": [
       "   price  crime_rate  resid_area  air_qual  room_num   age  dist1  dist2  \\\n",
       "0   24.0     0.00632       32.31     0.538     6.575  65.2   4.35   3.81   \n",
       "1   21.6     0.02731       37.07     0.469     6.421  78.9   4.99   4.70   \n",
       "2   34.7     0.02729       37.07     0.469     7.185  61.1   5.03   4.86   \n",
       "3   33.4     0.03237       32.18     0.458     6.998  45.8   6.21   5.93   \n",
       "4   36.2     0.06905       32.18     0.458     7.147  54.2   6.16   5.86   \n",
       "\n",
       "   dist3  dist4  teachers  poor_prop airport  n_hos_beds  n_hot_rooms  \\\n",
       "0   4.18   4.01      24.7       4.98     YES       5.480      11.1920   \n",
       "1   5.12   5.06      22.2       9.14      NO       7.332      12.1728   \n",
       "2   5.01   4.97      22.2       4.03      NO       7.394     101.1200   \n",
       "3   6.16   5.96      21.3       2.94     YES       9.268      11.2672   \n",
       "4   6.37   5.86      21.3       5.33      NO       8.824      11.2896   \n",
       "\n",
       "  waterbody  rainfall bus_ter     parks  \n",
       "0     River        23     YES  0.049347  \n",
       "1      Lake        42     YES  0.046146  \n",
       "2      None        38     YES  0.045764  \n",
       "3      Lake        45     YES  0.047151  \n",
       "4      Lake        55     YES  0.039474  "
      ]
     },
     "execution_count": 48,
     "metadata": {},
     "output_type": "execute_result"
    }
   ],
   "source": [
    "df.head()"
   ]
  },
  {
   "cell_type": "code",
   "execution_count": 64,
   "metadata": {},
   "outputs": [],
   "source": [
    "hp2 = df[['price', 'n_hot_rooms', 'rainfall']].copy()"
   ]
  },
  {
   "cell_type": "code",
   "execution_count": 56,
   "metadata": {},
   "outputs": [
    {
     "data": {
      "text/plain": [
       "<seaborn.axisgrid.JointGrid at 0x7f1fa76f2610>"
      ]
     },
     "execution_count": 56,
     "metadata": {},
     "output_type": "execute_result"
    },
    {
     "data": {
      "image/png": "[encoded data removed]",
      "text/plain": [
       "<Figure size 600x600 with 3 Axes>"
      ]
     },
     "metadata": {},
     "output_type": "display_data"
    }
   ],
   "source": [
    "sns.jointplot(x='n_hot_rooms', y='price', data=hp2)"
   ]
  },
  {
   "cell_type": "code",
   "execution_count": 59,
   "metadata": {},
   "outputs": [],
   "source": [
    "robust_scaler = preprocessing.RobustScaler(unit_variance=True)\n",
    "hp2.loc[:, ('n_hot_rooms')] = robust_scaler.fit_transform(hp2[['n_hot_rooms']])"
   ]
  },
  {
   "cell_type": "code",
   "execution_count": 60,
   "metadata": {},
   "outputs": [
    {
     "data": {
      "text/plain": [
       "<seaborn.axisgrid.JointGrid at 0x7f1fa8b4b640>"
      ]
     },
     "execution_count": 60,
     "metadata": {},
     "output_type": "execute_result"
    },
    {
     "data": {
      "image/png": "[encoded data removed]",
      "text/plain": [
       "<Figure size 600x600 with 3 Axes>"
      ]
     },
     "metadata": {},
     "output_type": "display_data"
    }
   ],
   "source": [
    "sns.jointplot(x='n_hot_rooms', y='price', data=hp2)"
   ]
  },
  {
   "cell_type": "code",
   "execution_count": 78,
   "metadata": {},
   "outputs": [
    {
     "data": {
      "text/plain": [
       "array([ 1,  1, -1,  1, -1,  1,  1,  1,  1,  1,  1,  1,  1,  1,  1,  1,  1,\n",
       "        1,  1,  1,  1,  1,  1,  1,  1,  1,  1,  1,  1,  1,  1,  1,  1,  1,\n",
       "        1,  1,  1,  1,  1,  1, -1,  1,  1,  1,  1,  1,  1,  1,  1,  1,  1,\n",
       "        1,  1,  1,  1, -1,  1, -1,  1,  1,  1,  1,  1,  1, -1,  1,  1,  1,\n",
       "        1,  1,  1,  1,  1,  1,  1,  1,  1,  1,  1,  1,  1,  1,  1,  1,  1,\n",
       "        1,  1,  1,  1, -1,  1,  1,  1,  1,  1,  1,  1, -1, -1, -1, -1, -1,\n",
       "        1,  1,  1,  1,  1,  1,  1,  1,  1,  1,  1,  1,  1,  1,  1,  1,  1,\n",
       "        1,  1,  1,  1, -1,  1,  1, -1,  1,  1, -1,  1,  1,  1, -1,  1,  1,\n",
       "       -1,  1,  1, -1, -1,  1,  1,  1, -1, -1, -1,  1,  1,  1,  1,  1, -1,\n",
       "        1,  1,  1, -1, -1,  1,  1,  1, -1, -1, -1,  1,  1, -1,  1,  1,  1,\n",
       "        1,  1,  1,  1,  1,  1,  1,  1,  1, -1, -1, -1, -1, -1, -1,  1, -1,\n",
       "       -1, -1, -1,  1,  1, -1, -1,  1, -1, -1,  1, -1, -1, -1,  1, -1, -1,\n",
       "       -1,  1,  1,  1,  1,  1,  1,  1,  1, -1,  1,  1,  1,  1,  1,  1,  1,\n",
       "        1,  1,  1, -1, -1, -1, -1, -1, -1,  1, -1, -1, -1, -1,  1,  1,  1,\n",
       "        1,  1,  1,  1,  1,  1,  1, -1,  1,  1,  1,  1,  1,  1,  1, -1,  1,\n",
       "        1, -1, -1, -1,  1,  1, -1, -1,  1, -1,  1, -1, -1, -1,  1,  1, -1,\n",
       "        1, -1,  1,  1,  1,  1, -1, -1, -1, -1, -1, -1,  1,  1,  1,  1,  1,\n",
       "        1,  1, -1,  1,  1,  1, -1, -1,  1,  1,  1,  1,  1,  1, -1, -1, -1,\n",
       "        1,  1,  1,  1,  1,  1,  1,  1,  1,  1,  1,  1,  1,  1,  1,  1,  1,\n",
       "        1,  1,  1,  1,  1,  1,  1,  1,  1,  1,  1,  1,  1,  1,  1,  1,  1,\n",
       "        1, -1,  1,  1,  1,  1,  1,  1,  1,  1,  1,  1,  1,  1,  1,  1,  1,\n",
       "        1,  1,  1, -1,  1,  1,  1,  1,  1,  1,  1, -1, -1, -1, -1, -1,  1,\n",
       "        1,  1,  1,  1,  1, -1, -1, -1,  1, -1, -1, -1, -1, -1, -1,  1,  1,\n",
       "        1, -1,  1,  1,  1,  1, -1, -1, -1, -1, -1,  1, -1, -1, -1,  1,  1,\n",
       "        1,  1,  1,  1,  1,  1, -1, -1, -1, -1, -1, -1,  1, -1,  1, -1,  1,\n",
       "       -1, -1,  1,  1, -1,  1,  1, -1, -1,  1,  1, -1, -1, -1,  1,  1,  1,\n",
       "        1,  1,  1,  1,  1,  1,  1,  1,  1,  1,  1,  1,  1,  1,  1,  1,  1,\n",
       "        1,  1,  1,  1,  1,  1,  1,  1,  1,  1,  1,  1,  1,  1, -1,  1,  1,\n",
       "        1, -1,  1,  1,  1,  1,  1,  1,  1,  1,  1,  1,  1, -1, -1,  1,  1,\n",
       "        1,  1,  1,  1,  1,  1,  1,  1,  1,  1,  1,  1,  1])"
      ]
     },
     "execution_count": 78,
     "metadata": {},
     "output_type": "execute_result"
    }
   ],
   "source": [
    "from sklearn.ensemble import IsolationForest\n",
    "isf_perdiction = IsolationForest(random_state=0).fit_predict(hp2[['n_hot_rooms']])\n",
    "#clf.predict(hp2[['n_hot_rooms']])\n",
    "isf_perdiction"
   ]
  },
  {
   "cell_type": "code",
   "execution_count": 75,
   "metadata": {},
   "outputs": [
    {
     "data": {
      "text/plain": [
       "n_hot_rooms    101.12\n",
       "dtype: float64"
      ]
     },
     "execution_count": 75,
     "metadata": {},
     "output_type": "execute_result"
    }
   ],
   "source": [
    "hp2[['n_hot_rooms']].max()"
   ]
  },
  {
   "cell_type": "code",
   "execution_count": 81,
   "metadata": {},
   "outputs": [
    {
     "data": {
      "text/plain": [
       "array([ 1,  1, -1,  1,  1, -1,  1,  1,  1,  1,  1,  1,  1,  1,  1,  1,  1,\n",
       "        1,  1,  1,  1,  1,  1,  1,  1,  1,  1,  1,  1,  1,  1,  1,  1,  1,\n",
       "        1,  1,  1,  1,  1,  1,  1, -1,  1,  1,  1,  1,  1,  1,  1,  1,  1,\n",
       "        1,  1,  1,  1,  1,  1,  1,  1,  1,  1,  1,  1,  1,  1,  1,  1,  1,\n",
       "        1,  1,  1,  1,  1,  1,  1,  1,  1,  1,  1,  1, -1,  1,  1,  1,  1,\n",
       "        1,  1,  1,  1, -1,  1,  1,  1,  1,  1, -1,  1, -1, -1,  1, -1, -1,\n",
       "        1,  1,  1,  1,  1,  1,  1,  1,  1,  1,  1,  1,  1,  1,  1,  1,  1,\n",
       "        1,  1,  1,  1,  1,  1,  1,  1,  1,  1,  1,  1,  1,  1,  1,  1,  1,\n",
       "        1,  1,  1,  1,  1,  1,  1,  1,  1,  1,  1,  1,  1,  1,  1,  1,  1,\n",
       "        1,  1,  1,  1,  1,  1,  1,  1, -1, -1, -1,  1, -1, -1,  1,  1,  1,\n",
       "        1,  1,  1,  1,  1,  1,  1,  1,  1,  1,  1,  1,  1,  1,  1,  1,  1,\n",
       "       -1,  1,  1,  1,  1,  1, -1,  1, -1,  1,  1,  1,  1,  1,  1, -1, -1,\n",
       "       -1,  1,  1,  1,  1,  1,  1,  1,  1,  1,  1, -1,  1, -1,  1,  1,  1,\n",
       "        1,  1,  1, -1,  1,  1,  1, -1,  1,  1,  1, -1, -1, -1,  1,  1,  1,\n",
       "        1,  1,  1,  1,  1,  1,  1,  1,  1,  1,  1,  1,  1, -1,  1,  1,  1,\n",
       "        1,  1, -1,  1,  1,  1, -1,  1,  1,  1,  1,  1, -1,  1,  1,  1,  1,\n",
       "        1,  1,  1,  1,  1,  1,  1,  1, -1,  1, -1,  1,  1,  1,  1,  1,  1,\n",
       "        1,  1,  1,  1,  1,  1,  1,  1,  1,  1,  1,  1,  1,  1,  1,  1, -1,\n",
       "        1,  1,  1,  1,  1,  1,  1,  1,  1,  1,  1,  1,  1,  1,  1,  1,  1,\n",
       "        1,  1,  1,  1,  1,  1,  1,  1,  1,  1,  1,  1,  1,  1,  1,  1,  1,\n",
       "        1, -1,  1,  1,  1, -1,  1,  1,  1,  1,  1,  1,  1,  1,  1,  1,  1,\n",
       "        1,  1,  1,  1,  1,  1,  1,  1,  1,  1,  1,  1, -1, -1,  1, -1,  1,\n",
       "        1,  1,  1,  1,  1,  1, -1,  1,  1,  1, -1, -1,  1, -1,  1,  1,  1,\n",
       "        1, -1,  1,  1,  1,  1, -1, -1, -1, -1, -1,  1, -1,  1, -1,  1, -1,\n",
       "        1, -1,  1,  1,  1,  1,  1, -1, -1,  1,  1, -1,  1,  1,  1, -1,  1,\n",
       "       -1, -1,  1,  1,  1,  1,  1,  1,  1,  1,  1,  1,  1, -1,  1,  1,  1,\n",
       "        1,  1,  1,  1,  1,  1,  1,  1,  1,  1,  1,  1,  1,  1,  1,  1,  1,\n",
       "        1,  1,  1,  1,  1,  1,  1,  1,  1,  1,  1,  1,  1,  1, -1,  1,  1,\n",
       "        1,  1,  1,  1,  1,  1,  1,  1,  1,  1,  1,  1,  1, -1, -1,  1,  1,\n",
       "        1,  1,  1,  1,  1,  1,  1,  1,  1,  1,  1,  1,  1])"
      ]
     },
     "execution_count": 81,
     "metadata": {},
     "output_type": "execute_result"
    }
   ],
   "source": [
    "from sklearn.neighbors import LocalOutlierFactor\n",
    "lof = LocalOutlierFactor(n_neighbors=10)\n",
    "lof_prediction = lof.fit_predict(hp2[['n_hot_rooms']])\n",
    "lof_prediction"
   ]
  },
  {
   "cell_type": "code",
   "execution_count": 84,
   "metadata": {},
   "outputs": [],
   "source": [
    "hot_rooms = hp2[['n_hot_rooms']].copy()"
   ]
  },
  {
   "cell_type": "code",
   "execution_count": 103,
   "metadata": {},
   "outputs": [],
   "source": [
    "def is_outlier(X, mean, std, std_from_mean = 2):\n",
    "    if X > (mean + (std * std_from_mean)) or X < (mean - (std * std_from_mean)):\n",
    "        return -1\n",
    "    else:\n",
    "        return 1"
   ]
  },
  {
   "cell_type": "code",
   "execution_count": 106,
   "metadata": {},
   "outputs": [
    {
     "data": {
      "text/plain": [
       "0       11.1920\n",
       "1       12.1728\n",
       "2      101.1200\n",
       "3       11.2672\n",
       "4       11.2896\n",
       "         ...   \n",
       "501     12.1792\n",
       "502     13.1648\n",
       "503     12.1912\n",
       "504     15.1760\n",
       "505     10.1520\n",
       "Name: n_hot_rooms, Length: 506, dtype: float64"
      ]
     },
     "execution_count": 106,
     "metadata": {},
     "output_type": "execute_result"
    }
   ],
   "source": [
    "hot_rooms['n_hot_rooms']"
   ]
  },
  {
   "cell_type": "code",
   "execution_count": 107,
   "metadata": {},
   "outputs": [
    {
     "name": "stdout",
     "output_type": "stream",
     "text": [
      " X: 101.12, mean: 13.041604743083003, std: 5.238956632876972\n"
     ]
    },
    {
     "data": {
      "text/plain": [
       "-1"
      ]
     },
     "execution_count": 107,
     "metadata": {},
     "output_type": "execute_result"
    }
   ],
   "source": [
    "X = hot_rooms['n_hot_rooms'][2]\n",
    "mean = hot_rooms['n_hot_rooms'].mean()\n",
    "std = hot_rooms['n_hot_rooms'].std()\n",
    "\n",
    "print(f\" X: {X}, mean: {mean}, std: {std}\")\n",
    "\n",
    "is_outlier(\n",
    "    X=X, \n",
    "    mean=mean, \n",
    "    std=std)"
   ]
  },
  {
   "cell_type": "code",
   "execution_count": 116,
   "metadata": {},
   "outputs": [],
   "source": [
    "mean = hot_rooms['n_hot_rooms'].mean()\n",
    "std = hot_rooms['n_hot_rooms'].std()\n",
    "\n",
    "hot_rooms['is_outlier'] = hot_rooms.apply(lambda x: is_outlier(\n",
    "    X = x['n_hot_rooms'],\n",
    "    mean = x.mean(),\n",
    "    std = x.std()\n",
    "), axis=1)"
   ]
  },
  {
   "cell_type": "code",
   "execution_count": 123,
   "metadata": {},
   "outputs": [],
   "source": [
    "hot_rooms['local_outlier'] = lof_prediction.tolist()"
   ]
  },
  {
   "cell_type": "code",
   "execution_count": 132,
   "metadata": {},
   "outputs": [],
   "source": [
    "hot_rooms['isolation_forest'] = isf_perdiction.tolist()"
   ]
  },
  {
   "cell_type": "code",
   "execution_count": 125,
   "metadata": {},
   "outputs": [
    {
     "data": {
      "text/plain": [
       "0.8774703557312253"
      ]
     },
     "execution_count": 125,
     "metadata": {},
     "output_type": "execute_result"
    }
   ],
   "source": [
    "from sklearn.metrics import accuracy_score\n",
    "accuracy_score(hot_rooms['is_outlier'], hot_rooms['local_outlier'])"
   ]
  },
  {
   "cell_type": "code",
   "execution_count": 134,
   "metadata": {},
   "outputs": [
    {
     "data": {
      "text/plain": [
       "0.7470355731225297"
      ]
     },
     "execution_count": 134,
     "metadata": {},
     "output_type": "execute_result"
    }
   ],
   "source": [
    "accuracy_score(hot_rooms['is_outlier'], hot_rooms['isolation_forest'])"
   ]
  },
  {
   "cell_type": "code",
   "execution_count": 147,
   "metadata": {},
   "outputs": [
    {
     "data": {
      "text/plain": [
       "1.0"
      ]
     },
     "execution_count": 147,
     "metadata": {},
     "output_type": "execute_result"
    }
   ],
   "source": [
    "lof = LocalOutlierFactor(n_neighbors=100, algorithm='brute')\n",
    "lof_prediction = lof.fit_predict(hp2[['n_hot_rooms']])\n",
    "accuracy_score(hot_rooms['is_outlier'], lof_prediction.tolist())"
   ]
  },
  {
   "cell_type": "code",
   "execution_count": 148,
   "metadata": {},
   "outputs": [],
   "source": [
    "from sklearn.covariance import EllipticEnvelope"
   ]
  },
  {
   "cell_type": "code",
   "execution_count": 172,
   "metadata": {},
   "outputs": [],
   "source": [
    "cov = EllipticEnvelope(contamination=0.0001, assume_centered=True).fit(hp2[['n_hot_rooms']])\n",
    "#accuracy_score(hot_rooms['is_outlier'], cov_prediction.tolist())"
   ]
  },
  {
   "cell_type": "code",
   "execution_count": 173,
   "metadata": {},
   "outputs": [
    {
     "data": {
      "text/plain": [
       "array([[164.91485257]])"
      ]
     },
     "execution_count": 173,
     "metadata": {},
     "output_type": "execute_result"
    }
   ],
   "source": [
    "cov.covariance_"
   ]
  },
  {
   "cell_type": "code",
   "execution_count": 162,
   "metadata": {},
   "outputs": [
    {
     "data": {
      "text/html": [
       "<div>\n",
       "<style scoped>\n",
       "    .dataframe tbody tr th:only-of-type {\n",
       "        vertical-align: middle;\n",
       "    }\n",
       "\n",
       "    .dataframe tbody tr th {\n",
       "        vertical-align: top;\n",
       "    }\n",
       "\n",
       "    .dataframe thead th {\n",
       "        text-align: right;\n",
       "    }\n",
       "</style>\n",
       "<table border=\"1\" class=\"dataframe\">\n",
       "  <thead>\n",
       "    <tr style=\"text-align: right;\">\n",
       "      <th></th>\n",
       "      <th>n_hot_rooms</th>\n",
       "      <th>is_outlier</th>\n",
       "      <th>local_outlier</th>\n",
       "      <th>isolation_forest</th>\n",
       "      <th>covariance_outlier</th>\n",
       "    </tr>\n",
       "  </thead>\n",
       "  <tbody>\n",
       "    <tr>\n",
       "      <th>0</th>\n",
       "      <td>11.1920</td>\n",
       "      <td>1</td>\n",
       "      <td>1</td>\n",
       "      <td>1</td>\n",
       "      <td>1</td>\n",
       "    </tr>\n",
       "    <tr>\n",
       "      <th>1</th>\n",
       "      <td>12.1728</td>\n",
       "      <td>1</td>\n",
       "      <td>1</td>\n",
       "      <td>1</td>\n",
       "      <td>1</td>\n",
       "    </tr>\n",
       "    <tr>\n",
       "      <th>2</th>\n",
       "      <td>101.1200</td>\n",
       "      <td>-1</td>\n",
       "      <td>-1</td>\n",
       "      <td>-1</td>\n",
       "      <td>-1</td>\n",
       "    </tr>\n",
       "    <tr>\n",
       "      <th>3</th>\n",
       "      <td>11.2672</td>\n",
       "      <td>1</td>\n",
       "      <td>1</td>\n",
       "      <td>1</td>\n",
       "      <td>1</td>\n",
       "    </tr>\n",
       "    <tr>\n",
       "      <th>4</th>\n",
       "      <td>11.2896</td>\n",
       "      <td>1</td>\n",
       "      <td>1</td>\n",
       "      <td>-1</td>\n",
       "      <td>1</td>\n",
       "    </tr>\n",
       "  </tbody>\n",
       "</table>\n",
       "</div>"
      ],
      "text/plain": [
       "   n_hot_rooms  is_outlier  local_outlier  isolation_forest  \\\n",
       "0      11.1920           1              1                 1   \n",
       "1      12.1728           1              1                 1   \n",
       "2     101.1200          -1             -1                -1   \n",
       "3      11.2672           1              1                 1   \n",
       "4      11.2896           1              1                -1   \n",
       "\n",
       "   covariance_outlier  \n",
       "0                   1  \n",
       "1                   1  \n",
       "2                  -1  \n",
       "3                   1  \n",
       "4                   1  "
      ]
     },
     "execution_count": 162,
     "metadata": {},
     "output_type": "execute_result"
    }
   ],
   "source": [
    "hot_rooms['covariance_outlier'] = cov_prediction.tolist()\n",
    "hot_rooms.head(5)"
   ]
  },
  {
   "cell_type": "code",
   "execution_count": 163,
   "metadata": {},
   "outputs": [
    {
     "data": {
      "text/html": [
       "<div>\n",
       "<style scoped>\n",
       "    .dataframe tbody tr th:only-of-type {\n",
       "        vertical-align: middle;\n",
       "    }\n",
       "\n",
       "    .dataframe tbody tr th {\n",
       "        vertical-align: top;\n",
       "    }\n",
       "\n",
       "    .dataframe thead th {\n",
       "        text-align: right;\n",
       "    }\n",
       "</style>\n",
       "<table border=\"1\" class=\"dataframe\">\n",
       "  <thead>\n",
       "    <tr style=\"text-align: right;\">\n",
       "      <th></th>\n",
       "      <th>n_hot_rooms</th>\n",
       "      <th>is_outlier</th>\n",
       "      <th>local_outlier</th>\n",
       "      <th>isolation_forest</th>\n",
       "      <th>covariance_outlier</th>\n",
       "    </tr>\n",
       "  </thead>\n",
       "  <tbody>\n",
       "    <tr>\n",
       "      <th>423</th>\n",
       "      <td>81.12</td>\n",
       "      <td>-1</td>\n",
       "      <td>-1</td>\n",
       "      <td>-1</td>\n",
       "      <td>1</td>\n",
       "    </tr>\n",
       "  </tbody>\n",
       "</table>\n",
       "</div>"
      ],
      "text/plain": [
       "     n_hot_rooms  is_outlier  local_outlier  isolation_forest  \\\n",
       "423        81.12          -1             -1                -1   \n",
       "\n",
       "     covariance_outlier  \n",
       "423                   1  "
      ]
     },
     "execution_count": 163,
     "metadata": {},
     "output_type": "execute_result"
    }
   ],
   "source": [
    "hot_rooms[hot_rooms.is_outlier != hot_rooms.covariance_outlier]"
   ]
  },
  {
   "cell_type": "code",
   "execution_count": 168,
   "metadata": {},
   "outputs": [
    {
     "data": {
      "text/html": [
       "<div>\n",
       "<style scoped>\n",
       "    .dataframe tbody tr th:only-of-type {\n",
       "        vertical-align: middle;\n",
       "    }\n",
       "\n",
       "    .dataframe tbody tr th {\n",
       "        vertical-align: top;\n",
       "    }\n",
       "\n",
       "    .dataframe thead th {\n",
       "        text-align: right;\n",
       "    }\n",
       "</style>\n",
       "<table border=\"1\" class=\"dataframe\">\n",
       "  <thead>\n",
       "    <tr style=\"text-align: right;\">\n",
       "      <th></th>\n",
       "      <th>n_hot_rooms</th>\n",
       "      <th>is_outlier</th>\n",
       "      <th>local_outlier</th>\n",
       "      <th>isolation_forest</th>\n",
       "      <th>covariance_outlier</th>\n",
       "    </tr>\n",
       "  </thead>\n",
       "  <tbody>\n",
       "    <tr>\n",
       "      <th>2</th>\n",
       "      <td>101.12</td>\n",
       "      <td>-1</td>\n",
       "      <td>-1</td>\n",
       "      <td>-1</td>\n",
       "      <td>-1</td>\n",
       "    </tr>\n",
       "    <tr>\n",
       "      <th>423</th>\n",
       "      <td>81.12</td>\n",
       "      <td>-1</td>\n",
       "      <td>-1</td>\n",
       "      <td>-1</td>\n",
       "      <td>1</td>\n",
       "    </tr>\n",
       "  </tbody>\n",
       "</table>\n",
       "</div>"
      ],
      "text/plain": [
       "     n_hot_rooms  is_outlier  local_outlier  isolation_forest  \\\n",
       "2         101.12          -1             -1                -1   \n",
       "423        81.12          -1             -1                -1   \n",
       "\n",
       "     covariance_outlier  \n",
       "2                    -1  \n",
       "423                   1  "
      ]
     },
     "execution_count": 168,
     "metadata": {},
     "output_type": "execute_result"
    }
   ],
   "source": [
    "hot_rooms[hot_rooms.is_outlier == -1] "
   ]
  },
  {
   "cell_type": "code",
   "execution_count": null,
   "metadata": {},
   "outputs": [],
   "source": []
  }
 ],
 "metadata": {
  "kernelspec": {
   "display_name": "xgboost",
   "language": "python",
   "name": "python3"
  },
  "language_info": {
   "codemirror_mode": {
    "name": "ipython",
    "version": 3
   },
   "file_extension": ".py",
   "mimetype": "text/x-python",
   "name": "python",
   "nbconvert_exporter": "python",
   "pygments_lexer": "ipython3",
   "version": "3.8.15"
  },
  "orig_nbformat": 4,
  "vscode": {
   "interpreter": {
    "hash": "e2aaa2bb6d2c97abc794230aa78379b9a1386dfd6dd4dee3b4fb9e60b979685c"
   }
  }
 },
 "nbformat": 4,
 "nbformat_minor": 2
}
