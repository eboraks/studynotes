{
 "cells": [
  {
   "cell_type": "code",
   "execution_count": 1,
   "metadata": {},
   "outputs": [],
   "source": [
    "from sklearn import preprocessing\n",
    "from sklearn.model_selection import train_test_split\n",
    "from sklearn import linear_model\n",
    "from sklearn.pipeline import Pipeline\n",
    "from sklearn.compose import ColumnTransformer\n",
    "from sklearn.linear_model import LinearRegression\n",
    "from sklearn import linear_model\n",
    "from sklearn.impute import SimpleImputer\n",
    "from sklearn.preprocessing import FunctionTransformer\n",
    "from sklearn.preprocessing import StandardScaler\n",
    "from sklearn.base import BaseEstimator, TransformerMixin\n",
    "from sklearn.metrics import r2_score, mean_absolute_error, mean_squared_error\n",
    "from xgboost import XGBRegressor\n",
    "\n",
    "from numpy import savetxt\n",
    "\n",
    "import pandas as pd\n",
    "import seaborn as sns\n",
    "import matplotlib.pyplot as plt\n",
    "import numpy as np\n",
    "import xgboost as xgb\n",
    "import pickle\n",
    "import os\n",
    "\n",
    "import mlflow\n",
    "import mlflow.sklearn\n"
   ]
  },
  {
   "attachments": {},
   "cell_type": "markdown",
   "metadata": {},
   "source": [
    "# This is study notebook dedicated for sklean preprocessing "
   ]
  },
  {
   "cell_type": "code",
   "execution_count": 3,
   "metadata": {},
   "outputs": [],
   "source": [
    "\"\"\" Use the house prices dataset for this studynote \"\"\"\n",
    "\n",
    "source_dataset = pd.read_csv(\"../data/House_Price.csv\", header=0)"
   ]
  },
  {
   "cell_type": "code",
   "execution_count": 4,
   "metadata": {},
   "outputs": [],
   "source": [
    "def minimize_dataset(df):\n",
    "    \"\"\" \n",
    "    Return a minimized version of the data, \n",
    "    to make easy to expirement with feature transformation \n",
    "    \"\"\"\n",
    "\n",
    "    new_df = pd.DataFrame()\n",
    "\n",
    "    new_df['price'] = df.price\n",
    "\n",
    "    # Add new number of hotel rooms to the new df\n",
    "    new_df['n_hot_rooms'] = df.n_hot_rooms\n",
    "    \n",
    "    # Filling missing value in n_hos_beds\n",
    "    new_df['n_hos_beds'] = df.n_hos_beds\n",
    "\n",
    "    # Transform the inversely proportional functoin into a liner function using log\n",
    "    new_df['crime_rate'] = df.crime_rate\n",
    "\n",
    "    new_df['room_num'] = df.room_num\n",
    "    new_df['teachers'] = df.teachers\n",
    "    new_df['waterbody'] = df.waterbody\n",
    "    \n",
    "    new_df['dist1'] = df.dist1\n",
    "    new_df['dist2'] = df.dist2\n",
    "    new_df['dist3'] = df.dist3\n",
    "    new_df['dist4'] = df.dist4\n",
    "    \n",
    "    # Convert categorical variables to dummy variables\n",
    "    #new_df = pd.get_dummies(new_df, drop_first=True)\n",
    "\n",
    "    return new_df"
   ]
  },
  {
   "cell_type": "code",
   "execution_count": 5,
   "metadata": {},
   "outputs": [
    {
     "data": {
      "text/html": [
       "<div>\n",
       "<style scoped>\n",
       "    .dataframe tbody tr th:only-of-type {\n",
       "        vertical-align: middle;\n",
       "    }\n",
       "\n",
       "    .dataframe tbody tr th {\n",
       "        vertical-align: top;\n",
       "    }\n",
       "\n",
       "    .dataframe thead th {\n",
       "        text-align: right;\n",
       "    }\n",
       "</style>\n",
       "<table border=\"1\" class=\"dataframe\">\n",
       "  <thead>\n",
       "    <tr style=\"text-align: right;\">\n",
       "      <th></th>\n",
       "      <th>price</th>\n",
       "      <th>crime_rate</th>\n",
       "      <th>resid_area</th>\n",
       "      <th>air_qual</th>\n",
       "      <th>room_num</th>\n",
       "      <th>age</th>\n",
       "      <th>dist1</th>\n",
       "      <th>dist2</th>\n",
       "      <th>dist3</th>\n",
       "      <th>dist4</th>\n",
       "      <th>teachers</th>\n",
       "      <th>poor_prop</th>\n",
       "      <th>airport</th>\n",
       "      <th>n_hos_beds</th>\n",
       "      <th>n_hot_rooms</th>\n",
       "      <th>waterbody</th>\n",
       "      <th>rainfall</th>\n",
       "      <th>bus_ter</th>\n",
       "      <th>parks</th>\n",
       "    </tr>\n",
       "  </thead>\n",
       "  <tbody>\n",
       "    <tr>\n",
       "      <th>0</th>\n",
       "      <td>24.0</td>\n",
       "      <td>0.00632</td>\n",
       "      <td>32.31</td>\n",
       "      <td>0.538</td>\n",
       "      <td>6.575</td>\n",
       "      <td>65.2</td>\n",
       "      <td>4.35</td>\n",
       "      <td>3.81</td>\n",
       "      <td>4.18</td>\n",
       "      <td>4.01</td>\n",
       "      <td>24.7</td>\n",
       "      <td>4.98</td>\n",
       "      <td>YES</td>\n",
       "      <td>5.480</td>\n",
       "      <td>11.1920</td>\n",
       "      <td>River</td>\n",
       "      <td>23</td>\n",
       "      <td>YES</td>\n",
       "      <td>0.049347</td>\n",
       "    </tr>\n",
       "    <tr>\n",
       "      <th>1</th>\n",
       "      <td>21.6</td>\n",
       "      <td>0.02731</td>\n",
       "      <td>37.07</td>\n",
       "      <td>0.469</td>\n",
       "      <td>6.421</td>\n",
       "      <td>78.9</td>\n",
       "      <td>4.99</td>\n",
       "      <td>4.70</td>\n",
       "      <td>5.12</td>\n",
       "      <td>5.06</td>\n",
       "      <td>22.2</td>\n",
       "      <td>9.14</td>\n",
       "      <td>NO</td>\n",
       "      <td>7.332</td>\n",
       "      <td>12.1728</td>\n",
       "      <td>Lake</td>\n",
       "      <td>42</td>\n",
       "      <td>YES</td>\n",
       "      <td>0.046146</td>\n",
       "    </tr>\n",
       "    <tr>\n",
       "      <th>2</th>\n",
       "      <td>34.7</td>\n",
       "      <td>0.02729</td>\n",
       "      <td>37.07</td>\n",
       "      <td>0.469</td>\n",
       "      <td>7.185</td>\n",
       "      <td>61.1</td>\n",
       "      <td>5.03</td>\n",
       "      <td>4.86</td>\n",
       "      <td>5.01</td>\n",
       "      <td>4.97</td>\n",
       "      <td>22.2</td>\n",
       "      <td>4.03</td>\n",
       "      <td>NO</td>\n",
       "      <td>7.394</td>\n",
       "      <td>101.1200</td>\n",
       "      <td>None</td>\n",
       "      <td>38</td>\n",
       "      <td>YES</td>\n",
       "      <td>0.045764</td>\n",
       "    </tr>\n",
       "    <tr>\n",
       "      <th>3</th>\n",
       "      <td>33.4</td>\n",
       "      <td>0.03237</td>\n",
       "      <td>32.18</td>\n",
       "      <td>0.458</td>\n",
       "      <td>6.998</td>\n",
       "      <td>45.8</td>\n",
       "      <td>6.21</td>\n",
       "      <td>5.93</td>\n",
       "      <td>6.16</td>\n",
       "      <td>5.96</td>\n",
       "      <td>21.3</td>\n",
       "      <td>2.94</td>\n",
       "      <td>YES</td>\n",
       "      <td>9.268</td>\n",
       "      <td>11.2672</td>\n",
       "      <td>Lake</td>\n",
       "      <td>45</td>\n",
       "      <td>YES</td>\n",
       "      <td>0.047151</td>\n",
       "    </tr>\n",
       "    <tr>\n",
       "      <th>4</th>\n",
       "      <td>36.2</td>\n",
       "      <td>0.06905</td>\n",
       "      <td>32.18</td>\n",
       "      <td>0.458</td>\n",
       "      <td>7.147</td>\n",
       "      <td>54.2</td>\n",
       "      <td>6.16</td>\n",
       "      <td>5.86</td>\n",
       "      <td>6.37</td>\n",
       "      <td>5.86</td>\n",
       "      <td>21.3</td>\n",
       "      <td>5.33</td>\n",
       "      <td>NO</td>\n",
       "      <td>8.824</td>\n",
       "      <td>11.2896</td>\n",
       "      <td>Lake</td>\n",
       "      <td>55</td>\n",
       "      <td>YES</td>\n",
       "      <td>0.039474</td>\n",
       "    </tr>\n",
       "  </tbody>\n",
       "</table>\n",
       "</div>"
      ],
      "text/plain": [
       "   price  crime_rate  resid_area  air_qual  room_num   age  dist1  dist2  \\\n",
       "0   24.0     0.00632       32.31     0.538     6.575  65.2   4.35   3.81   \n",
       "1   21.6     0.02731       37.07     0.469     6.421  78.9   4.99   4.70   \n",
       "2   34.7     0.02729       37.07     0.469     7.185  61.1   5.03   4.86   \n",
       "3   33.4     0.03237       32.18     0.458     6.998  45.8   6.21   5.93   \n",
       "4   36.2     0.06905       32.18     0.458     7.147  54.2   6.16   5.86   \n",
       "\n",
       "   dist3  dist4  teachers  poor_prop airport  n_hos_beds  n_hot_rooms  \\\n",
       "0   4.18   4.01      24.7       4.98     YES       5.480      11.1920   \n",
       "1   5.12   5.06      22.2       9.14      NO       7.332      12.1728   \n",
       "2   5.01   4.97      22.2       4.03      NO       7.394     101.1200   \n",
       "3   6.16   5.96      21.3       2.94     YES       9.268      11.2672   \n",
       "4   6.37   5.86      21.3       5.33      NO       8.824      11.2896   \n",
       "\n",
       "  waterbody  rainfall bus_ter     parks  \n",
       "0     River        23     YES  0.049347  \n",
       "1      Lake        42     YES  0.046146  \n",
       "2      None        38     YES  0.045764  \n",
       "3      Lake        45     YES  0.047151  \n",
       "4      Lake        55     YES  0.039474  "
      ]
     },
     "execution_count": 5,
     "metadata": {},
     "output_type": "execute_result"
    }
   ],
   "source": [
    "source_dataset.head()"
   ]
  },
  {
   "cell_type": "code",
   "execution_count": 6,
   "metadata": {},
   "outputs": [
    {
     "data": {
      "text/html": [
       "<div>\n",
       "<style scoped>\n",
       "    .dataframe tbody tr th:only-of-type {\n",
       "        vertical-align: middle;\n",
       "    }\n",
       "\n",
       "    .dataframe tbody tr th {\n",
       "        vertical-align: top;\n",
       "    }\n",
       "\n",
       "    .dataframe thead th {\n",
       "        text-align: right;\n",
       "    }\n",
       "</style>\n",
       "<table border=\"1\" class=\"dataframe\">\n",
       "  <thead>\n",
       "    <tr style=\"text-align: right;\">\n",
       "      <th></th>\n",
       "      <th>price</th>\n",
       "      <th>n_hot_rooms</th>\n",
       "      <th>n_hos_beds</th>\n",
       "      <th>crime_rate</th>\n",
       "      <th>room_num</th>\n",
       "      <th>teachers</th>\n",
       "      <th>waterbody</th>\n",
       "      <th>dist1</th>\n",
       "      <th>dist2</th>\n",
       "      <th>dist3</th>\n",
       "      <th>dist4</th>\n",
       "    </tr>\n",
       "  </thead>\n",
       "  <tbody>\n",
       "    <tr>\n",
       "      <th>0</th>\n",
       "      <td>24.0</td>\n",
       "      <td>11.1920</td>\n",
       "      <td>5.480</td>\n",
       "      <td>0.00632</td>\n",
       "      <td>6.575</td>\n",
       "      <td>24.7</td>\n",
       "      <td>River</td>\n",
       "      <td>4.35</td>\n",
       "      <td>3.81</td>\n",
       "      <td>4.18</td>\n",
       "      <td>4.01</td>\n",
       "    </tr>\n",
       "    <tr>\n",
       "      <th>1</th>\n",
       "      <td>21.6</td>\n",
       "      <td>12.1728</td>\n",
       "      <td>7.332</td>\n",
       "      <td>0.02731</td>\n",
       "      <td>6.421</td>\n",
       "      <td>22.2</td>\n",
       "      <td>Lake</td>\n",
       "      <td>4.99</td>\n",
       "      <td>4.70</td>\n",
       "      <td>5.12</td>\n",
       "      <td>5.06</td>\n",
       "    </tr>\n",
       "    <tr>\n",
       "      <th>2</th>\n",
       "      <td>34.7</td>\n",
       "      <td>101.1200</td>\n",
       "      <td>7.394</td>\n",
       "      <td>0.02729</td>\n",
       "      <td>7.185</td>\n",
       "      <td>22.2</td>\n",
       "      <td>None</td>\n",
       "      <td>5.03</td>\n",
       "      <td>4.86</td>\n",
       "      <td>5.01</td>\n",
       "      <td>4.97</td>\n",
       "    </tr>\n",
       "    <tr>\n",
       "      <th>3</th>\n",
       "      <td>33.4</td>\n",
       "      <td>11.2672</td>\n",
       "      <td>9.268</td>\n",
       "      <td>0.03237</td>\n",
       "      <td>6.998</td>\n",
       "      <td>21.3</td>\n",
       "      <td>Lake</td>\n",
       "      <td>6.21</td>\n",
       "      <td>5.93</td>\n",
       "      <td>6.16</td>\n",
       "      <td>5.96</td>\n",
       "    </tr>\n",
       "    <tr>\n",
       "      <th>4</th>\n",
       "      <td>36.2</td>\n",
       "      <td>11.2896</td>\n",
       "      <td>8.824</td>\n",
       "      <td>0.06905</td>\n",
       "      <td>7.147</td>\n",
       "      <td>21.3</td>\n",
       "      <td>Lake</td>\n",
       "      <td>6.16</td>\n",
       "      <td>5.86</td>\n",
       "      <td>6.37</td>\n",
       "      <td>5.86</td>\n",
       "    </tr>\n",
       "  </tbody>\n",
       "</table>\n",
       "</div>"
      ],
      "text/plain": [
       "   price  n_hot_rooms  n_hos_beds  crime_rate  room_num  teachers waterbody  \\\n",
       "0   24.0      11.1920       5.480     0.00632     6.575      24.7     River   \n",
       "1   21.6      12.1728       7.332     0.02731     6.421      22.2      Lake   \n",
       "2   34.7     101.1200       7.394     0.02729     7.185      22.2      None   \n",
       "3   33.4      11.2672       9.268     0.03237     6.998      21.3      Lake   \n",
       "4   36.2      11.2896       8.824     0.06905     7.147      21.3      Lake   \n",
       "\n",
       "   dist1  dist2  dist3  dist4  \n",
       "0   4.35   3.81   4.18   4.01  \n",
       "1   4.99   4.70   5.12   5.06  \n",
       "2   5.03   4.86   5.01   4.97  \n",
       "3   6.21   5.93   6.16   5.96  \n",
       "4   6.16   5.86   6.37   5.86  "
      ]
     },
     "execution_count": 6,
     "metadata": {},
     "output_type": "execute_result"
    }
   ],
   "source": [
    "df = minimize_dataset(source_dataset)\n",
    "df.head()"
   ]
  },
  {
   "cell_type": "code",
   "execution_count": 7,
   "metadata": {},
   "outputs": [],
   "source": [
    "class ColumnAvgTransformer(BaseEstimator, TransformerMixin):\n",
    "    \n",
    "    def __init__(self,columns):\n",
    "        self.columns=columns\n",
    "    \n",
    "    \n",
    "    def fit(self, X, y=None):\n",
    "        return self\n",
    "    \n",
    "    def transform(self, X, y=None):\n",
    "        X['avg_dist'] = X[self.columns].mean(axis=1)\n",
    "        X = X.drop(self.columns, axis=1)\n",
    "        return X\n",
    "    "
   ]
  },
  {
   "cell_type": "code",
   "execution_count": 8,
   "metadata": {},
   "outputs": [],
   "source": [
    "# Prep the data for training and prediction\n",
    "if 'price' in df: \n",
    "    y = df.pop('price')\n"
   ]
  },
  {
   "cell_type": "code",
   "execution_count": 9,
   "metadata": {},
   "outputs": [],
   "source": [
    "def get_training_testing_data():\n",
    "    X_train, X_test, y_train, y_test = train_test_split(df, y, test_size=0.2, random_state=42)\n",
    "    return X_train, X_test, y_train, y_test"
   ]
  },
  {
   "cell_type": "code",
   "execution_count": 28,
   "metadata": {},
   "outputs": [
    {
     "data": {
      "text/html": [
       "<style>#sk-container-id-7 {color: black;background-color: white;}#sk-container-id-7 pre{padding: 0;}#sk-container-id-7 div.sk-toggleable {background-color: white;}#sk-container-id-7 label.sk-toggleable__label {cursor: pointer;display: block;width: 100%;margin-bottom: 0;padding: 0.3em;box-sizing: border-box;text-align: center;}#sk-container-id-7 label.sk-toggleable__label-arrow:before {content: \"▸\";float: left;margin-right: 0.25em;color: #696969;}#sk-container-id-7 label.sk-toggleable__label-arrow:hover:before {color: black;}#sk-container-id-7 div.sk-estimator:hover label.sk-toggleable__label-arrow:before {color: black;}#sk-container-id-7 div.sk-toggleable__content {max-height: 0;max-width: 0;overflow: hidden;text-align: left;background-color: #f0f8ff;}#sk-container-id-7 div.sk-toggleable__content pre {margin: 0.2em;color: black;border-radius: 0.25em;background-color: #f0f8ff;}#sk-container-id-7 input.sk-toggleable__control:checked~div.sk-toggleable__content {max-height: 200px;max-width: 100%;overflow: auto;}#sk-container-id-7 input.sk-toggleable__control:checked~label.sk-toggleable__label-arrow:before {content: \"▾\";}#sk-container-id-7 div.sk-estimator input.sk-toggleable__control:checked~label.sk-toggleable__label {background-color: #d4ebff;}#sk-container-id-7 div.sk-label input.sk-toggleable__control:checked~label.sk-toggleable__label {background-color: #d4ebff;}#sk-container-id-7 input.sk-hidden--visually {border: 0;clip: rect(1px 1px 1px 1px);clip: rect(1px, 1px, 1px, 1px);height: 1px;margin: -1px;overflow: hidden;padding: 0;position: absolute;width: 1px;}#sk-container-id-7 div.sk-estimator {font-family: monospace;background-color: #f0f8ff;border: 1px dotted black;border-radius: 0.25em;box-sizing: border-box;margin-bottom: 0.5em;}#sk-container-id-7 div.sk-estimator:hover {background-color: #d4ebff;}#sk-container-id-7 div.sk-parallel-item::after {content: \"\";width: 100%;border-bottom: 1px solid gray;flex-grow: 1;}#sk-container-id-7 div.sk-label:hover label.sk-toggleable__label {background-color: #d4ebff;}#sk-container-id-7 div.sk-serial::before {content: \"\";position: absolute;border-left: 1px solid gray;box-sizing: border-box;top: 0;bottom: 0;left: 50%;z-index: 0;}#sk-container-id-7 div.sk-serial {display: flex;flex-direction: column;align-items: center;background-color: white;padding-right: 0.2em;padding-left: 0.2em;position: relative;}#sk-container-id-7 div.sk-item {position: relative;z-index: 1;}#sk-container-id-7 div.sk-parallel {display: flex;align-items: stretch;justify-content: center;background-color: white;position: relative;}#sk-container-id-7 div.sk-item::before, #sk-container-id-7 div.sk-parallel-item::before {content: \"\";position: absolute;border-left: 1px solid gray;box-sizing: border-box;top: 0;bottom: 0;left: 50%;z-index: -1;}#sk-container-id-7 div.sk-parallel-item {display: flex;flex-direction: column;z-index: 1;position: relative;background-color: white;}#sk-container-id-7 div.sk-parallel-item:first-child::after {align-self: flex-end;width: 50%;}#sk-container-id-7 div.sk-parallel-item:last-child::after {align-self: flex-start;width: 50%;}#sk-container-id-7 div.sk-parallel-item:only-child::after {width: 0;}#sk-container-id-7 div.sk-dashed-wrapped {border: 1px dashed gray;margin: 0 0.4em 0.5em 0.4em;box-sizing: border-box;padding-bottom: 0.4em;background-color: white;}#sk-container-id-7 div.sk-label label {font-family: monospace;font-weight: bold;display: inline-block;line-height: 1.2em;}#sk-container-id-7 div.sk-label-container {text-align: center;}#sk-container-id-7 div.sk-container {/* jupyter's `normalize.less` sets `[hidden] { display: none; }` but bootstrap.min.css set `[hidden] { display: none !important; }` so we also need the `!important` here to be able to override the default hidden behavior on the sphinx rendered scikit-learn.org. See: https://github.com/scikit-learn/scikit-learn/issues/21755 */display: inline-block !important;position: relative;}#sk-container-id-7 div.sk-text-repr-fallback {display: none;}</style><div id=\"sk-container-id-7\" class=\"sk-top-container\"><div class=\"sk-text-repr-fallback\"><pre>ColumnTransformer(remainder=&#x27;passthrough&#x27;,\n",
       "                  transformers=[(&#x27;num&#x27;,\n",
       "                                 Pipeline(steps=[(&#x27;imputer&#x27;, SimpleImputer())]),\n",
       "                                 [&#x27;n_hot_rooms&#x27;, &#x27;n_hos_beds&#x27;, &#x27;room_num&#x27;,\n",
       "                                  &#x27;teachers&#x27;, &#x27;avg_dist&#x27;]),\n",
       "                                (&#x27;cat&#x27;,\n",
       "                                 Pipeline(steps=[(&#x27;imputer&#x27;,\n",
       "                                                  SimpleImputer(fill_value=0,\n",
       "                                                                strategy=&#x27;constant&#x27;)),\n",
       "                                                 (&#x27;ordinal_encoder&#x27;,\n",
       "                                                  OrdinalEncoder())]),\n",
       "                                 [&#x27;waterbody&#x27;]),\n",
       "                                (&#x27;log&#x27;,\n",
       "                                 Pipeline(steps=[(&#x27;imputer&#x27;,\n",
       "                                                  SimpleImputer(strategy=&#x27;median&#x27;)),\n",
       "                                                 (&#x27;log_tranformer&#x27;,\n",
       "                                                  FunctionTransformer(feature_names_out=&#x27;one-to-one&#x27;,\n",
       "                                                                      func=&lt;ufunc &#x27;log1p&#x27;&gt;,\n",
       "                                                                      validate=True))]),\n",
       "                                 [&#x27;crime_rate&#x27;])])</pre><b>In a Jupyter environment, please rerun this cell to show the HTML representation or trust the notebook. <br />On GitHub, the HTML representation is unable to render, please try loading this page with nbviewer.org.</b></div><div class=\"sk-container\" hidden><div class=\"sk-item sk-dashed-wrapped\"><div class=\"sk-label-container\"><div class=\"sk-label sk-toggleable\"><input class=\"sk-toggleable__control sk-hidden--visually\" id=\"sk-estimator-id-65\" type=\"checkbox\" ><label for=\"sk-estimator-id-65\" class=\"sk-toggleable__label sk-toggleable__label-arrow\">ColumnTransformer</label><div class=\"sk-toggleable__content\"><pre>ColumnTransformer(remainder=&#x27;passthrough&#x27;,\n",
       "                  transformers=[(&#x27;num&#x27;,\n",
       "                                 Pipeline(steps=[(&#x27;imputer&#x27;, SimpleImputer())]),\n",
       "                                 [&#x27;n_hot_rooms&#x27;, &#x27;n_hos_beds&#x27;, &#x27;room_num&#x27;,\n",
       "                                  &#x27;teachers&#x27;, &#x27;avg_dist&#x27;]),\n",
       "                                (&#x27;cat&#x27;,\n",
       "                                 Pipeline(steps=[(&#x27;imputer&#x27;,\n",
       "                                                  SimpleImputer(fill_value=0,\n",
       "                                                                strategy=&#x27;constant&#x27;)),\n",
       "                                                 (&#x27;ordinal_encoder&#x27;,\n",
       "                                                  OrdinalEncoder())]),\n",
       "                                 [&#x27;waterbody&#x27;]),\n",
       "                                (&#x27;log&#x27;,\n",
       "                                 Pipeline(steps=[(&#x27;imputer&#x27;,\n",
       "                                                  SimpleImputer(strategy=&#x27;median&#x27;)),\n",
       "                                                 (&#x27;log_tranformer&#x27;,\n",
       "                                                  FunctionTransformer(feature_names_out=&#x27;one-to-one&#x27;,\n",
       "                                                                      func=&lt;ufunc &#x27;log1p&#x27;&gt;,\n",
       "                                                                      validate=True))]),\n",
       "                                 [&#x27;crime_rate&#x27;])])</pre></div></div></div><div class=\"sk-parallel\"><div class=\"sk-parallel-item\"><div class=\"sk-item\"><div class=\"sk-label-container\"><div class=\"sk-label sk-toggleable\"><input class=\"sk-toggleable__control sk-hidden--visually\" id=\"sk-estimator-id-66\" type=\"checkbox\" ><label for=\"sk-estimator-id-66\" class=\"sk-toggleable__label sk-toggleable__label-arrow\">num</label><div class=\"sk-toggleable__content\"><pre>[&#x27;n_hot_rooms&#x27;, &#x27;n_hos_beds&#x27;, &#x27;room_num&#x27;, &#x27;teachers&#x27;, &#x27;avg_dist&#x27;]</pre></div></div></div><div class=\"sk-serial\"><div class=\"sk-item\"><div class=\"sk-serial\"><div class=\"sk-item\"><div class=\"sk-estimator sk-toggleable\"><input class=\"sk-toggleable__control sk-hidden--visually\" id=\"sk-estimator-id-67\" type=\"checkbox\" ><label for=\"sk-estimator-id-67\" class=\"sk-toggleable__label sk-toggleable__label-arrow\">SimpleImputer</label><div class=\"sk-toggleable__content\"><pre>SimpleImputer()</pre></div></div></div></div></div></div></div></div><div class=\"sk-parallel-item\"><div class=\"sk-item\"><div class=\"sk-label-container\"><div class=\"sk-label sk-toggleable\"><input class=\"sk-toggleable__control sk-hidden--visually\" id=\"sk-estimator-id-68\" type=\"checkbox\" ><label for=\"sk-estimator-id-68\" class=\"sk-toggleable__label sk-toggleable__label-arrow\">cat</label><div class=\"sk-toggleable__content\"><pre>[&#x27;waterbody&#x27;]</pre></div></div></div><div class=\"sk-serial\"><div class=\"sk-item\"><div class=\"sk-serial\"><div class=\"sk-item\"><div class=\"sk-estimator sk-toggleable\"><input class=\"sk-toggleable__control sk-hidden--visually\" id=\"sk-estimator-id-69\" type=\"checkbox\" ><label for=\"sk-estimator-id-69\" class=\"sk-toggleable__label sk-toggleable__label-arrow\">SimpleImputer</label><div class=\"sk-toggleable__content\"><pre>SimpleImputer(fill_value=0, strategy=&#x27;constant&#x27;)</pre></div></div></div><div class=\"sk-item\"><div class=\"sk-estimator sk-toggleable\"><input class=\"sk-toggleable__control sk-hidden--visually\" id=\"sk-estimator-id-70\" type=\"checkbox\" ><label for=\"sk-estimator-id-70\" class=\"sk-toggleable__label sk-toggleable__label-arrow\">OrdinalEncoder</label><div class=\"sk-toggleable__content\"><pre>OrdinalEncoder()</pre></div></div></div></div></div></div></div></div><div class=\"sk-parallel-item\"><div class=\"sk-item\"><div class=\"sk-label-container\"><div class=\"sk-label sk-toggleable\"><input class=\"sk-toggleable__control sk-hidden--visually\" id=\"sk-estimator-id-71\" type=\"checkbox\" ><label for=\"sk-estimator-id-71\" class=\"sk-toggleable__label sk-toggleable__label-arrow\">log</label><div class=\"sk-toggleable__content\"><pre>[&#x27;crime_rate&#x27;]</pre></div></div></div><div class=\"sk-serial\"><div class=\"sk-item\"><div class=\"sk-serial\"><div class=\"sk-item\"><div class=\"sk-estimator sk-toggleable\"><input class=\"sk-toggleable__control sk-hidden--visually\" id=\"sk-estimator-id-72\" type=\"checkbox\" ><label for=\"sk-estimator-id-72\" class=\"sk-toggleable__label sk-toggleable__label-arrow\">SimpleImputer</label><div class=\"sk-toggleable__content\"><pre>SimpleImputer(strategy=&#x27;median&#x27;)</pre></div></div></div><div class=\"sk-item\"><div class=\"sk-estimator sk-toggleable\"><input class=\"sk-toggleable__control sk-hidden--visually\" id=\"sk-estimator-id-73\" type=\"checkbox\" ><label for=\"sk-estimator-id-73\" class=\"sk-toggleable__label sk-toggleable__label-arrow\">FunctionTransformer</label><div class=\"sk-toggleable__content\"><pre>FunctionTransformer(feature_names_out=&#x27;one-to-one&#x27;, func=&lt;ufunc &#x27;log1p&#x27;&gt;,\n",
       "                    validate=True)</pre></div></div></div></div></div></div></div></div><div class=\"sk-parallel-item\"><div class=\"sk-item\"><div class=\"sk-label-container\"><div class=\"sk-label sk-toggleable\"><input class=\"sk-toggleable__control sk-hidden--visually\" id=\"sk-estimator-id-74\" type=\"checkbox\" ><label for=\"sk-estimator-id-74\" class=\"sk-toggleable__label sk-toggleable__label-arrow\">remainder</label><div class=\"sk-toggleable__content\"><pre></pre></div></div></div><div class=\"sk-serial\"><div class=\"sk-item\"><div class=\"sk-estimator sk-toggleable\"><input class=\"sk-toggleable__control sk-hidden--visually\" id=\"sk-estimator-id-75\" type=\"checkbox\" ><label for=\"sk-estimator-id-75\" class=\"sk-toggleable__label sk-toggleable__label-arrow\">passthrough</label><div class=\"sk-toggleable__content\"><pre>passthrough</pre></div></div></div></div></div></div></div></div></div></div>"
      ],
      "text/plain": [
       "ColumnTransformer(remainder='passthrough',\n",
       "                  transformers=[('num',\n",
       "                                 Pipeline(steps=[('imputer', SimpleImputer())]),\n",
       "                                 ['n_hot_rooms', 'n_hos_beds', 'room_num',\n",
       "                                  'teachers', 'avg_dist']),\n",
       "                                ('cat',\n",
       "                                 Pipeline(steps=[('imputer',\n",
       "                                                  SimpleImputer(fill_value=0,\n",
       "                                                                strategy='constant')),\n",
       "                                                 ('ordinal_encoder',\n",
       "                                                  OrdinalEncoder())]),\n",
       "                                 ['waterbody']),\n",
       "                                ('log',\n",
       "                                 Pipeline(steps=[('imputer',\n",
       "                                                  SimpleImputer(strategy='median')),\n",
       "                                                 ('log_tranformer',\n",
       "                                                  FunctionTransformer(feature_names_out='one-to-one',\n",
       "                                                                      func=<ufunc 'log1p'>,\n",
       "                                                                      validate=True))]),\n",
       "                                 ['crime_rate'])])"
      ]
     },
     "execution_count": 28,
     "metadata": {},
     "output_type": "execute_result"
    }
   ],
   "source": [
    "## Feature preprocessing\n",
    "\n",
    "numeric_features = ['n_hot_rooms','n_hos_beds','room_num','teachers', 'avg_dist']\n",
    "numeric_transformer = Pipeline(steps=[\n",
    "     ('imputer', SimpleImputer(strategy='mean'))]) #('scaler', StandardScaler())\n",
    "\n",
    "categorical_features = [ 'waterbody']\n",
    "categorical_transformer = Pipeline(steps=[ \n",
    "     ('imputer', SimpleImputer(strategy='constant',fill_value=0)),\n",
    "     ('ordinal_encoder', preprocessing.OrdinalEncoder())])\n",
    "\n",
    "log_features = ['crime_rate']\n",
    "log_transformer = Pipeline(steps=[\n",
    "     ('imputer', SimpleImputer(strategy='median')),\n",
    "     ('log_tranformer', FunctionTransformer(np.log1p, validate=True, feature_names_out='one-to-one'))\n",
    "])\n",
    "\n",
    "preprocessor = ColumnTransformer(\n",
    "     transformers=[\n",
    "               ('num', numeric_transformer, numeric_features),\n",
    "               ('cat', categorical_transformer, categorical_features),\n",
    "               ('log', log_transformer, log_features)\n",
    "          ], remainder='passthrough'\n",
    "     )\n",
    "preprocessor.set_output(transform=\"pandas\")"
   ]
  },
  {
   "cell_type": "code",
   "execution_count": 11,
   "metadata": {},
   "outputs": [],
   "source": [
    "def eval_metrics(actual, pred):\n",
    "    rmse = np.sqrt(mean_squared_error(actual, pred))\n",
    "    mae = mean_absolute_error(actual, pred)\n",
    "    r2 = r2_score(actual, pred)\n",
    "    return rmse, mae, r2"
   ]
  },
  {
   "cell_type": "code",
   "execution_count": 12,
   "metadata": {},
   "outputs": [],
   "source": [
    "X_train, X_test, y_train, y_test = get_training_testing_data()"
   ]
  },
  {
   "cell_type": "code",
   "execution_count": 29,
   "metadata": {},
   "outputs": [
    {
     "name": "stdout",
     "output_type": "stream",
     "text": [
      "[Pipeline]  (step 1 of 3) Processing avg_dist_transformer, total=   0.0s\n",
      "[Pipeline] ...... (step 2 of 3) Processing preprocessor, total=   0.0s\n",
      "[Pipeline] ........ (step 3 of 3) Processing classifier, total=   0.2s\n",
      "[Pipeline]  (step 1 of 2) Processing avg_dist_transformer, total=   0.0s\n",
      "[Pipeline] ...... (step 2 of 2) Processing preprocessor, total=   0.0s\n"
     ]
    },
    {
     "data": {
      "text/html": [
       "<div>\n",
       "<style scoped>\n",
       "    .dataframe tbody tr th:only-of-type {\n",
       "        vertical-align: middle;\n",
       "    }\n",
       "\n",
       "    .dataframe tbody tr th {\n",
       "        vertical-align: top;\n",
       "    }\n",
       "\n",
       "    .dataframe thead th {\n",
       "        text-align: right;\n",
       "    }\n",
       "</style>\n",
       "<table border=\"1\" class=\"dataframe\">\n",
       "  <thead>\n",
       "    <tr style=\"text-align: right;\">\n",
       "      <th></th>\n",
       "      <th>num__n_hot_rooms</th>\n",
       "      <th>num__n_hos_beds</th>\n",
       "      <th>num__room_num</th>\n",
       "      <th>num__teachers</th>\n",
       "      <th>num__avg_dist</th>\n",
       "      <th>cat__waterbody</th>\n",
       "      <th>log__crime_rate</th>\n",
       "    </tr>\n",
       "  </thead>\n",
       "  <tbody>\n",
       "    <tr>\n",
       "      <th>477</th>\n",
       "      <td>15.0960</td>\n",
       "      <td>9.340</td>\n",
       "      <td>5.304</td>\n",
       "      <td>19.8</td>\n",
       "      <td>2.1025</td>\n",
       "      <td>0.0</td>\n",
       "      <td>2.774050</td>\n",
       "    </tr>\n",
       "    <tr>\n",
       "      <th>15</th>\n",
       "      <td>14.1592</td>\n",
       "      <td>8.498</td>\n",
       "      <td>5.834</td>\n",
       "      <td>19.0</td>\n",
       "      <td>4.4975</td>\n",
       "      <td>3.0</td>\n",
       "      <td>0.486978</td>\n",
       "    </tr>\n",
       "    <tr>\n",
       "      <th>332</th>\n",
       "      <td>14.1552</td>\n",
       "      <td>7.488</td>\n",
       "      <td>6.031</td>\n",
       "      <td>23.1</td>\n",
       "      <td>6.6400</td>\n",
       "      <td>2.0</td>\n",
       "      <td>0.034073</td>\n",
       "    </tr>\n",
       "    <tr>\n",
       "      <th>423</th>\n",
       "      <td>81.1200</td>\n",
       "      <td>8.268</td>\n",
       "      <td>6.103</td>\n",
       "      <td>19.8</td>\n",
       "      <td>2.0225</td>\n",
       "      <td>0.0</td>\n",
       "      <td>2.085724</td>\n",
       "    </tr>\n",
       "    <tr>\n",
       "      <th>19</th>\n",
       "      <td>12.1456</td>\n",
       "      <td>8.564</td>\n",
       "      <td>5.727</td>\n",
       "      <td>19.0</td>\n",
       "      <td>3.8000</td>\n",
       "      <td>1.0</td>\n",
       "      <td>0.545691</td>\n",
       "    </tr>\n",
       "    <tr>\n",
       "      <th>...</th>\n",
       "      <td>...</td>\n",
       "      <td>...</td>\n",
       "      <td>...</td>\n",
       "      <td>...</td>\n",
       "      <td>...</td>\n",
       "      <td>...</td>\n",
       "      <td>...</td>\n",
       "    </tr>\n",
       "    <tr>\n",
       "      <th>106</th>\n",
       "      <td>14.1560</td>\n",
       "      <td>10.290</td>\n",
       "      <td>5.836</td>\n",
       "      <td>19.1</td>\n",
       "      <td>2.2100</td>\n",
       "      <td>0.0</td>\n",
       "      <td>0.158029</td>\n",
       "    </tr>\n",
       "    <tr>\n",
       "      <th>270</th>\n",
       "      <td>15.1688</td>\n",
       "      <td>6.222</td>\n",
       "      <td>5.856</td>\n",
       "      <td>21.4</td>\n",
       "      <td>4.4300</td>\n",
       "      <td>2.0</td>\n",
       "      <td>0.261718</td>\n",
       "    </tr>\n",
       "    <tr>\n",
       "      <th>348</th>\n",
       "      <td>13.1960</td>\n",
       "      <td>6.290</td>\n",
       "      <td>6.635</td>\n",
       "      <td>23.0</td>\n",
       "      <td>8.3425</td>\n",
       "      <td>2.0</td>\n",
       "      <td>0.014898</td>\n",
       "    </tr>\n",
       "    <tr>\n",
       "      <th>435</th>\n",
       "      <td>12.1072</td>\n",
       "      <td>10.168</td>\n",
       "      <td>6.629</td>\n",
       "      <td>19.8</td>\n",
       "      <td>2.1250</td>\n",
       "      <td>1.0</td>\n",
       "      <td>2.498185</td>\n",
       "    </tr>\n",
       "    <tr>\n",
       "      <th>102</th>\n",
       "      <td>13.1488</td>\n",
       "      <td>6.772</td>\n",
       "      <td>6.405</td>\n",
       "      <td>19.1</td>\n",
       "      <td>2.7150</td>\n",
       "      <td>1.0</td>\n",
       "      <td>0.206006</td>\n",
       "    </tr>\n",
       "  </tbody>\n",
       "</table>\n",
       "<p>404 rows × 7 columns</p>\n",
       "</div>"
      ],
      "text/plain": [
       "     num__n_hot_rooms  num__n_hos_beds  num__room_num  num__teachers  \\\n",
       "477           15.0960            9.340          5.304           19.8   \n",
       "15            14.1592            8.498          5.834           19.0   \n",
       "332           14.1552            7.488          6.031           23.1   \n",
       "423           81.1200            8.268          6.103           19.8   \n",
       "19            12.1456            8.564          5.727           19.0   \n",
       "..                ...              ...            ...            ...   \n",
       "106           14.1560           10.290          5.836           19.1   \n",
       "270           15.1688            6.222          5.856           21.4   \n",
       "348           13.1960            6.290          6.635           23.0   \n",
       "435           12.1072           10.168          6.629           19.8   \n",
       "102           13.1488            6.772          6.405           19.1   \n",
       "\n",
       "     num__avg_dist  cat__waterbody  log__crime_rate  \n",
       "477         2.1025             0.0         2.774050  \n",
       "15          4.4975             3.0         0.486978  \n",
       "332         6.6400             2.0         0.034073  \n",
       "423         2.0225             0.0         2.085724  \n",
       "19          3.8000             1.0         0.545691  \n",
       "..             ...             ...              ...  \n",
       "106         2.2100             0.0         0.158029  \n",
       "270         4.4300             2.0         0.261718  \n",
       "348         8.3425             2.0         0.014898  \n",
       "435         2.1250             1.0         2.498185  \n",
       "102         2.7150             1.0         0.206006  \n",
       "\n",
       "[404 rows x 7 columns]"
      ]
     },
     "execution_count": 29,
     "metadata": {},
     "output_type": "execute_result"
    }
   ],
   "source": [
    "#('classifier', xgb.XGBRegressor(**params))\n",
    "\n",
    "params = {'max_depth':13, 'n_estimators':1000, 'learning_rate':1.0, 'subsample':0.7, 'colsample_bytree':0.8}\n",
    "\n",
    "\n",
    "model = Pipeline(steps=[\n",
    "    ('avg_dist_transformer', ColumnAvgTransformer(['dist1', 'dist2', 'dist3', 'dist4'])),\n",
    "    ('preprocessor', preprocessor),\n",
    "    ('classifier', xgb.XGBRegressor(**params))\n",
    "    ], verbose=True)\n",
    "\n",
    "\n",
    "\n",
    "model.fit(X_train, y_train)\n",
    "model[0:2].fit_transform(X_train)\n"
   ]
  },
  {
   "cell_type": "code",
   "execution_count": 16,
   "metadata": {},
   "outputs": [
    {
     "name": "stdout",
     "output_type": "stream",
     "text": [
      "[Pipeline]  (step 1 of 1) Processing avg_dist_transformer, total=   0.0s\n"
     ]
    },
    {
     "data": {
      "text/html": [
       "<div>\n",
       "<style scoped>\n",
       "    .dataframe tbody tr th:only-of-type {\n",
       "        vertical-align: middle;\n",
       "    }\n",
       "\n",
       "    .dataframe tbody tr th {\n",
       "        vertical-align: top;\n",
       "    }\n",
       "\n",
       "    .dataframe thead th {\n",
       "        text-align: right;\n",
       "    }\n",
       "</style>\n",
       "<table border=\"1\" class=\"dataframe\">\n",
       "  <thead>\n",
       "    <tr style=\"text-align: right;\">\n",
       "      <th></th>\n",
       "      <th>n_hot_rooms</th>\n",
       "      <th>n_hos_beds</th>\n",
       "      <th>crime_rate</th>\n",
       "      <th>room_num</th>\n",
       "      <th>teachers</th>\n",
       "      <th>waterbody</th>\n",
       "      <th>avg_dist</th>\n",
       "    </tr>\n",
       "  </thead>\n",
       "  <tbody>\n",
       "    <tr>\n",
       "      <th>477</th>\n",
       "      <td>15.0960</td>\n",
       "      <td>9.340</td>\n",
       "      <td>15.02340</td>\n",
       "      <td>5.304</td>\n",
       "      <td>19.8</td>\n",
       "      <td>Lake</td>\n",
       "      <td>2.1025</td>\n",
       "    </tr>\n",
       "    <tr>\n",
       "      <th>15</th>\n",
       "      <td>14.1592</td>\n",
       "      <td>8.498</td>\n",
       "      <td>0.62739</td>\n",
       "      <td>5.834</td>\n",
       "      <td>19.0</td>\n",
       "      <td>River</td>\n",
       "      <td>4.4975</td>\n",
       "    </tr>\n",
       "    <tr>\n",
       "      <th>332</th>\n",
       "      <td>14.1552</td>\n",
       "      <td>7.488</td>\n",
       "      <td>0.03466</td>\n",
       "      <td>6.031</td>\n",
       "      <td>23.1</td>\n",
       "      <td>None</td>\n",
       "      <td>6.6400</td>\n",
       "    </tr>\n",
       "    <tr>\n",
       "      <th>423</th>\n",
       "      <td>81.1200</td>\n",
       "      <td>8.268</td>\n",
       "      <td>7.05042</td>\n",
       "      <td>6.103</td>\n",
       "      <td>19.8</td>\n",
       "      <td>Lake</td>\n",
       "      <td>2.0225</td>\n",
       "    </tr>\n",
       "    <tr>\n",
       "      <th>19</th>\n",
       "      <td>12.1456</td>\n",
       "      <td>8.564</td>\n",
       "      <td>0.72580</td>\n",
       "      <td>5.727</td>\n",
       "      <td>19.0</td>\n",
       "      <td>Lake and River</td>\n",
       "      <td>3.8000</td>\n",
       "    </tr>\n",
       "    <tr>\n",
       "      <th>...</th>\n",
       "      <td>...</td>\n",
       "      <td>...</td>\n",
       "      <td>...</td>\n",
       "      <td>...</td>\n",
       "      <td>...</td>\n",
       "      <td>...</td>\n",
       "      <td>...</td>\n",
       "    </tr>\n",
       "    <tr>\n",
       "      <th>106</th>\n",
       "      <td>14.1560</td>\n",
       "      <td>10.290</td>\n",
       "      <td>0.17120</td>\n",
       "      <td>5.836</td>\n",
       "      <td>19.1</td>\n",
       "      <td>Lake</td>\n",
       "      <td>2.2100</td>\n",
       "    </tr>\n",
       "    <tr>\n",
       "      <th>270</th>\n",
       "      <td>15.1688</td>\n",
       "      <td>6.222</td>\n",
       "      <td>0.29916</td>\n",
       "      <td>5.856</td>\n",
       "      <td>21.4</td>\n",
       "      <td>None</td>\n",
       "      <td>4.4300</td>\n",
       "    </tr>\n",
       "    <tr>\n",
       "      <th>348</th>\n",
       "      <td>13.1960</td>\n",
       "      <td>6.290</td>\n",
       "      <td>0.01501</td>\n",
       "      <td>6.635</td>\n",
       "      <td>23.0</td>\n",
       "      <td>None</td>\n",
       "      <td>8.3425</td>\n",
       "    </tr>\n",
       "    <tr>\n",
       "      <th>435</th>\n",
       "      <td>12.1072</td>\n",
       "      <td>10.168</td>\n",
       "      <td>11.16040</td>\n",
       "      <td>6.629</td>\n",
       "      <td>19.8</td>\n",
       "      <td>Lake and River</td>\n",
       "      <td>2.1250</td>\n",
       "    </tr>\n",
       "    <tr>\n",
       "      <th>102</th>\n",
       "      <td>13.1488</td>\n",
       "      <td>6.772</td>\n",
       "      <td>0.22876</td>\n",
       "      <td>6.405</td>\n",
       "      <td>19.1</td>\n",
       "      <td>Lake and River</td>\n",
       "      <td>2.7150</td>\n",
       "    </tr>\n",
       "  </tbody>\n",
       "</table>\n",
       "<p>404 rows × 7 columns</p>\n",
       "</div>"
      ],
      "text/plain": [
       "     n_hot_rooms  n_hos_beds  crime_rate  room_num  teachers       waterbody  \\\n",
       "477      15.0960       9.340    15.02340     5.304      19.8            Lake   \n",
       "15       14.1592       8.498     0.62739     5.834      19.0           River   \n",
       "332      14.1552       7.488     0.03466     6.031      23.1            None   \n",
       "423      81.1200       8.268     7.05042     6.103      19.8            Lake   \n",
       "19       12.1456       8.564     0.72580     5.727      19.0  Lake and River   \n",
       "..           ...         ...         ...       ...       ...             ...   \n",
       "106      14.1560      10.290     0.17120     5.836      19.1            Lake   \n",
       "270      15.1688       6.222     0.29916     5.856      21.4            None   \n",
       "348      13.1960       6.290     0.01501     6.635      23.0            None   \n",
       "435      12.1072      10.168    11.16040     6.629      19.8  Lake and River   \n",
       "102      13.1488       6.772     0.22876     6.405      19.1  Lake and River   \n",
       "\n",
       "     avg_dist  \n",
       "477    2.1025  \n",
       "15     4.4975  \n",
       "332    6.6400  \n",
       "423    2.0225  \n",
       "19     3.8000  \n",
       "..        ...  \n",
       "106    2.2100  \n",
       "270    4.4300  \n",
       "348    8.3425  \n",
       "435    2.1250  \n",
       "102    2.7150  \n",
       "\n",
       "[404 rows x 7 columns]"
      ]
     },
     "execution_count": 16,
     "metadata": {},
     "output_type": "execute_result"
    }
   ],
   "source": [
    "model[0:1].fit_transform(X_train)"
   ]
  },
  {
   "cell_type": "code",
   "execution_count": 30,
   "metadata": {},
   "outputs": [
    {
     "name": "stdout",
     "output_type": "stream",
     "text": [
      "experiment_id: 11\n"
     ]
    }
   ],
   "source": [
    "MODEL_ARTIFACTS_PATH=\"skl_pipe_xgb_house_prices_path\"\n",
    "EXPERIMENT_NAME = \"experiment_1_house_prices_xgb_ipynb\"\n",
    "mlflow.set_tracking_uri('http://localhost:5000')\n",
    "mlflow.set_experiment(EXPERIMENT_NAME)\n",
    "experiment = mlflow.get_experiment_by_name(EXPERIMENT_NAME)\n",
    "print(\"experiment_id:\", experiment.experiment_id)\n"
   ]
  },
  {
   "cell_type": "code",
   "execution_count": 31,
   "metadata": {},
   "outputs": [
    {
     "ename": "ValueError",
     "evalue": "A given column is not a column of the dataframe",
     "output_type": "error",
     "traceback": [
      "\u001b[0;31m---------------------------------------------------------------------------\u001b[0m",
      "\u001b[0;31mKeyError\u001b[0m                                  Traceback (most recent call last)",
      "\u001b[0;32m~/anaconda3/envs/xgboost/lib/python3.8/site-packages/pandas/core/indexes/base.py\u001b[0m in \u001b[0;36mget_loc\u001b[0;34m(self, key, method, tolerance)\u001b[0m\n\u001b[1;32m   3802\u001b[0m             \u001b[0;32mtry\u001b[0m\u001b[0;34m:\u001b[0m\u001b[0;34m\u001b[0m\u001b[0;34m\u001b[0m\u001b[0m\n\u001b[0;32m-> 3803\u001b[0;31m                 \u001b[0;32mreturn\u001b[0m \u001b[0mself\u001b[0m\u001b[0;34m.\u001b[0m\u001b[0m_engine\u001b[0m\u001b[0;34m.\u001b[0m\u001b[0mget_loc\u001b[0m\u001b[0;34m(\u001b[0m\u001b[0mcasted_key\u001b[0m\u001b[0;34m)\u001b[0m\u001b[0;34m\u001b[0m\u001b[0;34m\u001b[0m\u001b[0m\n\u001b[0m\u001b[1;32m   3804\u001b[0m             \u001b[0;32mexcept\u001b[0m \u001b[0mKeyError\u001b[0m \u001b[0;32mas\u001b[0m \u001b[0merr\u001b[0m\u001b[0;34m:\u001b[0m\u001b[0;34m\u001b[0m\u001b[0;34m\u001b[0m\u001b[0m\n",
      "\u001b[0;32m~/anaconda3/envs/xgboost/lib/python3.8/site-packages/pandas/_libs/index.pyx\u001b[0m in \u001b[0;36mpandas._libs.index.IndexEngine.get_loc\u001b[0;34m()\u001b[0m\n",
      "\u001b[0;32m~/anaconda3/envs/xgboost/lib/python3.8/site-packages/pandas/_libs/index.pyx\u001b[0m in \u001b[0;36mpandas._libs.index.IndexEngine.get_loc\u001b[0;34m()\u001b[0m\n",
      "\u001b[0;32mpandas/_libs/hashtable_class_helper.pxi\u001b[0m in \u001b[0;36mpandas._libs.hashtable.PyObjectHashTable.get_item\u001b[0;34m()\u001b[0m\n",
      "\u001b[0;32mpandas/_libs/hashtable_class_helper.pxi\u001b[0m in \u001b[0;36mpandas._libs.hashtable.PyObjectHashTable.get_item\u001b[0;34m()\u001b[0m\n",
      "\u001b[0;31mKeyError\u001b[0m: 'avg_dist'",
      "\nThe above exception was the direct cause of the following exception:\n",
      "\u001b[0;31mKeyError\u001b[0m                                  Traceback (most recent call last)",
      "\u001b[0;32m~/anaconda3/envs/xgboost/lib/python3.8/site-packages/sklearn/utils/__init__.py\u001b[0m in \u001b[0;36m_get_column_indices\u001b[0;34m(X, key)\u001b[0m\n\u001b[1;32m    447\u001b[0m             \u001b[0;32mfor\u001b[0m \u001b[0mcol\u001b[0m \u001b[0;32min\u001b[0m \u001b[0mcolumns\u001b[0m\u001b[0;34m:\u001b[0m\u001b[0;34m\u001b[0m\u001b[0;34m\u001b[0m\u001b[0m\n\u001b[0;32m--> 448\u001b[0;31m                 \u001b[0mcol_idx\u001b[0m \u001b[0;34m=\u001b[0m \u001b[0mall_columns\u001b[0m\u001b[0;34m.\u001b[0m\u001b[0mget_loc\u001b[0m\u001b[0;34m(\u001b[0m\u001b[0mcol\u001b[0m\u001b[0;34m)\u001b[0m\u001b[0;34m\u001b[0m\u001b[0;34m\u001b[0m\u001b[0m\n\u001b[0m\u001b[1;32m    449\u001b[0m                 \u001b[0;32mif\u001b[0m \u001b[0;32mnot\u001b[0m \u001b[0misinstance\u001b[0m\u001b[0;34m(\u001b[0m\u001b[0mcol_idx\u001b[0m\u001b[0;34m,\u001b[0m \u001b[0mnumbers\u001b[0m\u001b[0;34m.\u001b[0m\u001b[0mIntegral\u001b[0m\u001b[0;34m)\u001b[0m\u001b[0;34m:\u001b[0m\u001b[0;34m\u001b[0m\u001b[0;34m\u001b[0m\u001b[0m\n",
      "\u001b[0;32m~/anaconda3/envs/xgboost/lib/python3.8/site-packages/pandas/core/indexes/base.py\u001b[0m in \u001b[0;36mget_loc\u001b[0;34m(self, key, method, tolerance)\u001b[0m\n\u001b[1;32m   3804\u001b[0m             \u001b[0;32mexcept\u001b[0m \u001b[0mKeyError\u001b[0m \u001b[0;32mas\u001b[0m \u001b[0merr\u001b[0m\u001b[0;34m:\u001b[0m\u001b[0;34m\u001b[0m\u001b[0;34m\u001b[0m\u001b[0m\n\u001b[0;32m-> 3805\u001b[0;31m                 \u001b[0;32mraise\u001b[0m \u001b[0mKeyError\u001b[0m\u001b[0;34m(\u001b[0m\u001b[0mkey\u001b[0m\u001b[0;34m)\u001b[0m \u001b[0;32mfrom\u001b[0m \u001b[0merr\u001b[0m\u001b[0;34m\u001b[0m\u001b[0;34m\u001b[0m\u001b[0m\n\u001b[0m\u001b[1;32m   3806\u001b[0m             \u001b[0;32mexcept\u001b[0m \u001b[0mTypeError\u001b[0m\u001b[0;34m:\u001b[0m\u001b[0;34m\u001b[0m\u001b[0;34m\u001b[0m\u001b[0m\n",
      "\u001b[0;31mKeyError\u001b[0m: 'avg_dist'",
      "\nThe above exception was the direct cause of the following exception:\n",
      "\u001b[0;31mValueError\u001b[0m                                Traceback (most recent call last)",
      "\u001b[0;32m/tmp/ipykernel_449658/233454082.py\u001b[0m in \u001b[0;36m<module>\u001b[0;34m\u001b[0m\n\u001b[1;32m     15\u001b[0m         ], verbose=True)\n\u001b[1;32m     16\u001b[0m \u001b[0;34m\u001b[0m\u001b[0m\n\u001b[0;32m---> 17\u001b[0;31m     \u001b[0mmodel\u001b[0m\u001b[0;34m.\u001b[0m\u001b[0mfit\u001b[0m\u001b[0;34m(\u001b[0m\u001b[0mX_train\u001b[0m\u001b[0;34m,\u001b[0m \u001b[0my_train\u001b[0m\u001b[0;34m)\u001b[0m\u001b[0;34m\u001b[0m\u001b[0;34m\u001b[0m\u001b[0m\n\u001b[0m\u001b[1;32m     18\u001b[0m \u001b[0;34m\u001b[0m\u001b[0m\n\u001b[1;32m     19\u001b[0m     \u001b[0mpredictions\u001b[0m \u001b[0;34m=\u001b[0m \u001b[0mmodel\u001b[0m\u001b[0;34m.\u001b[0m\u001b[0mpredict\u001b[0m\u001b[0;34m(\u001b[0m\u001b[0mX_test\u001b[0m\u001b[0;34m)\u001b[0m\u001b[0;34m\u001b[0m\u001b[0;34m\u001b[0m\u001b[0m\n",
      "\u001b[0;32m~/anaconda3/envs/xgboost/lib/python3.8/site-packages/sklearn/pipeline.py\u001b[0m in \u001b[0;36mfit\u001b[0;34m(self, X, y, **fit_params)\u001b[0m\n\u001b[1;32m    399\u001b[0m         \"\"\"\n\u001b[1;32m    400\u001b[0m         \u001b[0mfit_params_steps\u001b[0m \u001b[0;34m=\u001b[0m \u001b[0mself\u001b[0m\u001b[0;34m.\u001b[0m\u001b[0m_check_fit_params\u001b[0m\u001b[0;34m(\u001b[0m\u001b[0;34m**\u001b[0m\u001b[0mfit_params\u001b[0m\u001b[0;34m)\u001b[0m\u001b[0;34m\u001b[0m\u001b[0;34m\u001b[0m\u001b[0m\n\u001b[0;32m--> 401\u001b[0;31m         \u001b[0mXt\u001b[0m \u001b[0;34m=\u001b[0m \u001b[0mself\u001b[0m\u001b[0;34m.\u001b[0m\u001b[0m_fit\u001b[0m\u001b[0;34m(\u001b[0m\u001b[0mX\u001b[0m\u001b[0;34m,\u001b[0m \u001b[0my\u001b[0m\u001b[0;34m,\u001b[0m \u001b[0;34m**\u001b[0m\u001b[0mfit_params_steps\u001b[0m\u001b[0;34m)\u001b[0m\u001b[0;34m\u001b[0m\u001b[0;34m\u001b[0m\u001b[0m\n\u001b[0m\u001b[1;32m    402\u001b[0m         \u001b[0;32mwith\u001b[0m \u001b[0m_print_elapsed_time\u001b[0m\u001b[0;34m(\u001b[0m\u001b[0;34m\"Pipeline\"\u001b[0m\u001b[0;34m,\u001b[0m \u001b[0mself\u001b[0m\u001b[0;34m.\u001b[0m\u001b[0m_log_message\u001b[0m\u001b[0;34m(\u001b[0m\u001b[0mlen\u001b[0m\u001b[0;34m(\u001b[0m\u001b[0mself\u001b[0m\u001b[0;34m.\u001b[0m\u001b[0msteps\u001b[0m\u001b[0;34m)\u001b[0m \u001b[0;34m-\u001b[0m \u001b[0;36m1\u001b[0m\u001b[0;34m)\u001b[0m\u001b[0;34m)\u001b[0m\u001b[0;34m:\u001b[0m\u001b[0;34m\u001b[0m\u001b[0;34m\u001b[0m\u001b[0m\n\u001b[1;32m    403\u001b[0m             \u001b[0;32mif\u001b[0m \u001b[0mself\u001b[0m\u001b[0;34m.\u001b[0m\u001b[0m_final_estimator\u001b[0m \u001b[0;34m!=\u001b[0m \u001b[0;34m\"passthrough\"\u001b[0m\u001b[0;34m:\u001b[0m\u001b[0;34m\u001b[0m\u001b[0;34m\u001b[0m\u001b[0m\n",
      "\u001b[0;32m~/anaconda3/envs/xgboost/lib/python3.8/site-packages/sklearn/pipeline.py\u001b[0m in \u001b[0;36m_fit\u001b[0;34m(self, X, y, **fit_params_steps)\u001b[0m\n\u001b[1;32m    357\u001b[0m                 \u001b[0mcloned_transformer\u001b[0m \u001b[0;34m=\u001b[0m \u001b[0mclone\u001b[0m\u001b[0;34m(\u001b[0m\u001b[0mtransformer\u001b[0m\u001b[0;34m)\u001b[0m\u001b[0;34m\u001b[0m\u001b[0;34m\u001b[0m\u001b[0m\n\u001b[1;32m    358\u001b[0m             \u001b[0;31m# Fit or load from cache the current transformer\u001b[0m\u001b[0;34m\u001b[0m\u001b[0;34m\u001b[0m\u001b[0;34m\u001b[0m\u001b[0m\n\u001b[0;32m--> 359\u001b[0;31m             X, fitted_transformer = fit_transform_one_cached(\n\u001b[0m\u001b[1;32m    360\u001b[0m                 \u001b[0mcloned_transformer\u001b[0m\u001b[0;34m,\u001b[0m\u001b[0;34m\u001b[0m\u001b[0;34m\u001b[0m\u001b[0m\n\u001b[1;32m    361\u001b[0m                 \u001b[0mX\u001b[0m\u001b[0;34m,\u001b[0m\u001b[0;34m\u001b[0m\u001b[0;34m\u001b[0m\u001b[0m\n",
      "\u001b[0;32m~/anaconda3/envs/xgboost/lib/python3.8/site-packages/joblib/memory.py\u001b[0m in \u001b[0;36m__call__\u001b[0;34m(self, *args, **kwargs)\u001b[0m\n\u001b[1;32m    347\u001b[0m \u001b[0;34m\u001b[0m\u001b[0m\n\u001b[1;32m    348\u001b[0m     \u001b[0;32mdef\u001b[0m \u001b[0m__call__\u001b[0m\u001b[0;34m(\u001b[0m\u001b[0mself\u001b[0m\u001b[0;34m,\u001b[0m \u001b[0;34m*\u001b[0m\u001b[0margs\u001b[0m\u001b[0;34m,\u001b[0m \u001b[0;34m**\u001b[0m\u001b[0mkwargs\u001b[0m\u001b[0;34m)\u001b[0m\u001b[0;34m:\u001b[0m\u001b[0;34m\u001b[0m\u001b[0;34m\u001b[0m\u001b[0m\n\u001b[0;32m--> 349\u001b[0;31m         \u001b[0;32mreturn\u001b[0m \u001b[0mself\u001b[0m\u001b[0;34m.\u001b[0m\u001b[0mfunc\u001b[0m\u001b[0;34m(\u001b[0m\u001b[0;34m*\u001b[0m\u001b[0margs\u001b[0m\u001b[0;34m,\u001b[0m \u001b[0;34m**\u001b[0m\u001b[0mkwargs\u001b[0m\u001b[0;34m)\u001b[0m\u001b[0;34m\u001b[0m\u001b[0;34m\u001b[0m\u001b[0m\n\u001b[0m\u001b[1;32m    350\u001b[0m \u001b[0;34m\u001b[0m\u001b[0m\n\u001b[1;32m    351\u001b[0m     \u001b[0;32mdef\u001b[0m \u001b[0mcall_and_shelve\u001b[0m\u001b[0;34m(\u001b[0m\u001b[0mself\u001b[0m\u001b[0;34m,\u001b[0m \u001b[0;34m*\u001b[0m\u001b[0margs\u001b[0m\u001b[0;34m,\u001b[0m \u001b[0;34m**\u001b[0m\u001b[0mkwargs\u001b[0m\u001b[0;34m)\u001b[0m\u001b[0;34m:\u001b[0m\u001b[0;34m\u001b[0m\u001b[0;34m\u001b[0m\u001b[0m\n",
      "\u001b[0;32m~/anaconda3/envs/xgboost/lib/python3.8/site-packages/sklearn/pipeline.py\u001b[0m in \u001b[0;36m_fit_transform_one\u001b[0;34m(transformer, X, y, weight, message_clsname, message, **fit_params)\u001b[0m\n\u001b[1;32m    891\u001b[0m     \u001b[0;32mwith\u001b[0m \u001b[0m_print_elapsed_time\u001b[0m\u001b[0;34m(\u001b[0m\u001b[0mmessage_clsname\u001b[0m\u001b[0;34m,\u001b[0m \u001b[0mmessage\u001b[0m\u001b[0;34m)\u001b[0m\u001b[0;34m:\u001b[0m\u001b[0;34m\u001b[0m\u001b[0;34m\u001b[0m\u001b[0m\n\u001b[1;32m    892\u001b[0m         \u001b[0;32mif\u001b[0m \u001b[0mhasattr\u001b[0m\u001b[0;34m(\u001b[0m\u001b[0mtransformer\u001b[0m\u001b[0;34m,\u001b[0m \u001b[0;34m\"fit_transform\"\u001b[0m\u001b[0;34m)\u001b[0m\u001b[0;34m:\u001b[0m\u001b[0;34m\u001b[0m\u001b[0;34m\u001b[0m\u001b[0m\n\u001b[0;32m--> 893\u001b[0;31m             \u001b[0mres\u001b[0m \u001b[0;34m=\u001b[0m \u001b[0mtransformer\u001b[0m\u001b[0;34m.\u001b[0m\u001b[0mfit_transform\u001b[0m\u001b[0;34m(\u001b[0m\u001b[0mX\u001b[0m\u001b[0;34m,\u001b[0m \u001b[0my\u001b[0m\u001b[0;34m,\u001b[0m \u001b[0;34m**\u001b[0m\u001b[0mfit_params\u001b[0m\u001b[0;34m)\u001b[0m\u001b[0;34m\u001b[0m\u001b[0;34m\u001b[0m\u001b[0m\n\u001b[0m\u001b[1;32m    894\u001b[0m         \u001b[0;32melse\u001b[0m\u001b[0;34m:\u001b[0m\u001b[0;34m\u001b[0m\u001b[0;34m\u001b[0m\u001b[0m\n\u001b[1;32m    895\u001b[0m             \u001b[0mres\u001b[0m \u001b[0;34m=\u001b[0m \u001b[0mtransformer\u001b[0m\u001b[0;34m.\u001b[0m\u001b[0mfit\u001b[0m\u001b[0;34m(\u001b[0m\u001b[0mX\u001b[0m\u001b[0;34m,\u001b[0m \u001b[0my\u001b[0m\u001b[0;34m,\u001b[0m \u001b[0;34m**\u001b[0m\u001b[0mfit_params\u001b[0m\u001b[0;34m)\u001b[0m\u001b[0;34m.\u001b[0m\u001b[0mtransform\u001b[0m\u001b[0;34m(\u001b[0m\u001b[0mX\u001b[0m\u001b[0;34m)\u001b[0m\u001b[0;34m\u001b[0m\u001b[0;34m\u001b[0m\u001b[0m\n",
      "\u001b[0;32m~/anaconda3/envs/xgboost/lib/python3.8/site-packages/sklearn/utils/_set_output.py\u001b[0m in \u001b[0;36mwrapped\u001b[0;34m(self, X, *args, **kwargs)\u001b[0m\n\u001b[1;32m    138\u001b[0m     \u001b[0;34m@\u001b[0m\u001b[0mwraps\u001b[0m\u001b[0;34m(\u001b[0m\u001b[0mf\u001b[0m\u001b[0;34m)\u001b[0m\u001b[0;34m\u001b[0m\u001b[0;34m\u001b[0m\u001b[0m\n\u001b[1;32m    139\u001b[0m     \u001b[0;32mdef\u001b[0m \u001b[0mwrapped\u001b[0m\u001b[0;34m(\u001b[0m\u001b[0mself\u001b[0m\u001b[0;34m,\u001b[0m \u001b[0mX\u001b[0m\u001b[0;34m,\u001b[0m \u001b[0;34m*\u001b[0m\u001b[0margs\u001b[0m\u001b[0;34m,\u001b[0m \u001b[0;34m**\u001b[0m\u001b[0mkwargs\u001b[0m\u001b[0;34m)\u001b[0m\u001b[0;34m:\u001b[0m\u001b[0;34m\u001b[0m\u001b[0;34m\u001b[0m\u001b[0m\n\u001b[0;32m--> 140\u001b[0;31m         \u001b[0mdata_to_wrap\u001b[0m \u001b[0;34m=\u001b[0m \u001b[0mf\u001b[0m\u001b[0;34m(\u001b[0m\u001b[0mself\u001b[0m\u001b[0;34m,\u001b[0m \u001b[0mX\u001b[0m\u001b[0;34m,\u001b[0m \u001b[0;34m*\u001b[0m\u001b[0margs\u001b[0m\u001b[0;34m,\u001b[0m \u001b[0;34m**\u001b[0m\u001b[0mkwargs\u001b[0m\u001b[0;34m)\u001b[0m\u001b[0;34m\u001b[0m\u001b[0;34m\u001b[0m\u001b[0m\n\u001b[0m\u001b[1;32m    141\u001b[0m         \u001b[0;32mif\u001b[0m \u001b[0misinstance\u001b[0m\u001b[0;34m(\u001b[0m\u001b[0mdata_to_wrap\u001b[0m\u001b[0;34m,\u001b[0m \u001b[0mtuple\u001b[0m\u001b[0;34m)\u001b[0m\u001b[0;34m:\u001b[0m\u001b[0;34m\u001b[0m\u001b[0;34m\u001b[0m\u001b[0m\n\u001b[1;32m    142\u001b[0m             \u001b[0;31m# only wrap the first output for cross decomposition\u001b[0m\u001b[0;34m\u001b[0m\u001b[0;34m\u001b[0m\u001b[0;34m\u001b[0m\u001b[0m\n",
      "\u001b[0;32m~/anaconda3/envs/xgboost/lib/python3.8/site-packages/sklearn/compose/_column_transformer.py\u001b[0m in \u001b[0;36mfit_transform\u001b[0;34m(self, X, y)\u001b[0m\n\u001b[1;32m    722\u001b[0m         \u001b[0mself\u001b[0m\u001b[0;34m.\u001b[0m\u001b[0m_check_n_features\u001b[0m\u001b[0;34m(\u001b[0m\u001b[0mX\u001b[0m\u001b[0;34m,\u001b[0m \u001b[0mreset\u001b[0m\u001b[0;34m=\u001b[0m\u001b[0;32mTrue\u001b[0m\u001b[0;34m)\u001b[0m\u001b[0;34m\u001b[0m\u001b[0;34m\u001b[0m\u001b[0m\n\u001b[1;32m    723\u001b[0m         \u001b[0mself\u001b[0m\u001b[0;34m.\u001b[0m\u001b[0m_validate_transformers\u001b[0m\u001b[0;34m(\u001b[0m\u001b[0;34m)\u001b[0m\u001b[0;34m\u001b[0m\u001b[0;34m\u001b[0m\u001b[0m\n\u001b[0;32m--> 724\u001b[0;31m         \u001b[0mself\u001b[0m\u001b[0;34m.\u001b[0m\u001b[0m_validate_column_callables\u001b[0m\u001b[0;34m(\u001b[0m\u001b[0mX\u001b[0m\u001b[0;34m)\u001b[0m\u001b[0;34m\u001b[0m\u001b[0;34m\u001b[0m\u001b[0m\n\u001b[0m\u001b[1;32m    725\u001b[0m         \u001b[0mself\u001b[0m\u001b[0;34m.\u001b[0m\u001b[0m_validate_remainder\u001b[0m\u001b[0;34m(\u001b[0m\u001b[0mX\u001b[0m\u001b[0;34m)\u001b[0m\u001b[0;34m\u001b[0m\u001b[0;34m\u001b[0m\u001b[0m\n\u001b[1;32m    726\u001b[0m \u001b[0;34m\u001b[0m\u001b[0m\n",
      "\u001b[0;32m~/anaconda3/envs/xgboost/lib/python3.8/site-packages/sklearn/compose/_column_transformer.py\u001b[0m in \u001b[0;36m_validate_column_callables\u001b[0;34m(self, X)\u001b[0m\n\u001b[1;32m    424\u001b[0m                 \u001b[0mcolumns\u001b[0m \u001b[0;34m=\u001b[0m \u001b[0mcolumns\u001b[0m\u001b[0;34m(\u001b[0m\u001b[0mX\u001b[0m\u001b[0;34m)\u001b[0m\u001b[0;34m\u001b[0m\u001b[0;34m\u001b[0m\u001b[0m\n\u001b[1;32m    425\u001b[0m             \u001b[0mall_columns\u001b[0m\u001b[0;34m.\u001b[0m\u001b[0mappend\u001b[0m\u001b[0;34m(\u001b[0m\u001b[0mcolumns\u001b[0m\u001b[0;34m)\u001b[0m\u001b[0;34m\u001b[0m\u001b[0;34m\u001b[0m\u001b[0m\n\u001b[0;32m--> 426\u001b[0;31m             \u001b[0mtransformer_to_input_indices\u001b[0m\u001b[0;34m[\u001b[0m\u001b[0mname\u001b[0m\u001b[0;34m]\u001b[0m \u001b[0;34m=\u001b[0m \u001b[0m_get_column_indices\u001b[0m\u001b[0;34m(\u001b[0m\u001b[0mX\u001b[0m\u001b[0;34m,\u001b[0m \u001b[0mcolumns\u001b[0m\u001b[0;34m)\u001b[0m\u001b[0;34m\u001b[0m\u001b[0;34m\u001b[0m\u001b[0m\n\u001b[0m\u001b[1;32m    427\u001b[0m \u001b[0;34m\u001b[0m\u001b[0m\n\u001b[1;32m    428\u001b[0m         \u001b[0mself\u001b[0m\u001b[0;34m.\u001b[0m\u001b[0m_columns\u001b[0m \u001b[0;34m=\u001b[0m \u001b[0mall_columns\u001b[0m\u001b[0;34m\u001b[0m\u001b[0;34m\u001b[0m\u001b[0m\n",
      "\u001b[0;32m~/anaconda3/envs/xgboost/lib/python3.8/site-packages/sklearn/utils/__init__.py\u001b[0m in \u001b[0;36m_get_column_indices\u001b[0;34m(X, key)\u001b[0m\n\u001b[1;32m    454\u001b[0m \u001b[0;34m\u001b[0m\u001b[0m\n\u001b[1;32m    455\u001b[0m         \u001b[0;32mexcept\u001b[0m \u001b[0mKeyError\u001b[0m \u001b[0;32mas\u001b[0m \u001b[0me\u001b[0m\u001b[0;34m:\u001b[0m\u001b[0;34m\u001b[0m\u001b[0;34m\u001b[0m\u001b[0m\n\u001b[0;32m--> 456\u001b[0;31m             \u001b[0;32mraise\u001b[0m \u001b[0mValueError\u001b[0m\u001b[0;34m(\u001b[0m\u001b[0;34m\"A given column is not a column of the dataframe\"\u001b[0m\u001b[0;34m)\u001b[0m \u001b[0;32mfrom\u001b[0m \u001b[0me\u001b[0m\u001b[0;34m\u001b[0m\u001b[0;34m\u001b[0m\u001b[0m\n\u001b[0m\u001b[1;32m    457\u001b[0m \u001b[0;34m\u001b[0m\u001b[0m\n\u001b[1;32m    458\u001b[0m         \u001b[0;32mreturn\u001b[0m \u001b[0mcolumn_indices\u001b[0m\u001b[0;34m\u001b[0m\u001b[0;34m\u001b[0m\u001b[0m\n",
      "\u001b[0;31mValueError\u001b[0m: A given column is not a column of the dataframe"
     ]
    }
   ],
   "source": [
    "with mlflow.start_run() as model_tracking_run:\n",
    "\n",
    "    ## Get Training Data\n",
    "    X_train, X_test, y_train, y_test = get_training_testing_data()\n",
    "    \n",
    "    ## Construct Model \n",
    "    params = {'max_depth':12, 'n_estimators':1000, 'learning_rate':0.1, 'subsample':0.8, 'colsample_bytree':0.8}\n",
    "\n",
    "    ## Log model params in MLFlow\n",
    "    mlflow.log_params(params)\n",
    "\n",
    "    model = Pipeline(steps=[\n",
    "        ('preprocessor', preprocessor),\n",
    "        ('classifier', xgb.XGBRegressor(**params))\n",
    "        ], verbose=True)\n",
    "    \n",
    "    model.fit(X_train, y_train)\n",
    "\n",
    "    predictions = model.predict(X_test)\n",
    "\n",
    "    artifact_path = f\"artifacts_stage/run_{model_tracking_run.info.run_id}\"\n",
    "\n",
    "    ## Log model in MLFlow - registered_model_name = \"house_prices_xgb_model_1\"\n",
    "    mlflow.sklearn.log_model(sk_model = model, \n",
    "        artifact_path=MODEL_ARTIFACTS_PATH)\n",
    "\n",
    "    rmse, mae, r2 = eval_metrics(y_test, predictions)\n",
    "\n",
    "    mlflow.log_metric(\"rmse\", rmse)\n",
    "    mlflow.log_metric(\"mae\", mae)\n",
    "    mlflow.log_metric(\"r2\", r2)\n",
    "\n",
    "    artifact_path = f\"artifacts_stage/run_{model_tracking_run.info.run_id}\"\n",
    "    os.mkdir(artifact_path)\n",
    "\n",
    "\n",
    "    ## Save and log predicted values\n",
    "    prediction_file = f\"{artifact_path}/prediction.csv\"\n",
    "    savetxt(prediction_file, predictions)\n",
    "    mlflow.log_artifact(prediction_file)\n",
    "\n",
    "    ## Create a plot that shows predicted vs true prices\n",
    "    compare = pd.DataFrame({0:y_test.values, 1:predictions })\n",
    "    compare.columns=['true_price', 'predicted_price']\n",
    "    fig = compare.plot(use_index=True).get_figure()\n",
    "    fig_file = f\"{artifact_path}/true_vs_predicted.png\"\n",
    "    fig.savefig(fig_file)\n",
    "    mlflow.log_artifact(fig_file)\n",
    "\n",
    "\n"
   ]
  },
  {
   "cell_type": "code",
   "execution_count": null,
   "metadata": {},
   "outputs": [
    {
     "ename": "ValueError",
     "evalue": "A given column is not a column of the dataframe",
     "output_type": "error",
     "traceback": [
      "\u001b[0;31m---------------------------------------------------------------------------\u001b[0m\n",
      "\u001b[0;31mKeyError\u001b[0m                                  Traceback (most recent call last)\n",
      "\u001b[0;32m~/anaconda3/envs/xgboost/lib/python3.8/site-packages/pandas/core/indexes/base.py\u001b[0m in \u001b[0;36mget_loc\u001b[0;34m(self, key, method, tolerance)\u001b[0m\n",
      "\u001b[1;32m   3802\u001b[0m             \u001b[0;32mtry\u001b[0m\u001b[0;34m:\u001b[0m\u001b[0;34m\u001b[0m\u001b[0;34m\u001b[0m\u001b[0m\n",
      "\u001b[0;32m-> 3803\u001b[0;31m                 \u001b[0;32mreturn\u001b[0m \u001b[0mself\u001b[0m\u001b[0;34m.\u001b[0m\u001b[0m_engine\u001b[0m\u001b[0;34m.\u001b[0m\u001b[0mget_loc\u001b[0m\u001b[0;34m(\u001b[0m\u001b[0mcasted_key\u001b[0m\u001b[0;34m)\u001b[0m\u001b[0;34m\u001b[0m\u001b[0;34m\u001b[0m\u001b[0m\n",
      "\u001b[0m\u001b[1;32m   3804\u001b[0m             \u001b[0;32mexcept\u001b[0m \u001b[0mKeyError\u001b[0m \u001b[0;32mas\u001b[0m \u001b[0merr\u001b[0m\u001b[0;34m:\u001b[0m\u001b[0;34m\u001b[0m\u001b[0;34m\u001b[0m\u001b[0m\n",
      "\n",
      "\u001b[0;32m~/anaconda3/envs/xgboost/lib/python3.8/site-packages/pandas/_libs/index.pyx\u001b[0m in \u001b[0;36mpandas._libs.index.IndexEngine.get_loc\u001b[0;34m()\u001b[0m\n",
      "\n",
      "\u001b[0;32m~/anaconda3/envs/xgboost/lib/python3.8/site-packages/pandas/_libs/index.pyx\u001b[0m in \u001b[0;36mpandas._libs.index.IndexEngine.get_loc\u001b[0;34m()\u001b[0m\n",
      "\n",
      "\u001b[0;32mpandas/_libs/hashtable_class_helper.pxi\u001b[0m in \u001b[0;36mpandas._libs.hashtable.PyObjectHashTable.get_item\u001b[0;34m()\u001b[0m\n",
      "\n",
      "\u001b[0;32mpandas/_libs/hashtable_class_helper.pxi\u001b[0m in \u001b[0;36mpandas._libs.hashtable.PyObjectHashTable.get_item\u001b[0;34m()\u001b[0m\n",
      "\n",
      "\u001b[0;31mKeyError\u001b[0m: 'avg_dist'\n",
      "\n",
      "The above exception was the direct cause of the following exception:\n",
      "\n",
      "\u001b[0;31mKeyError\u001b[0m                                  Traceback (most recent call last)\n",
      "\u001b[0;32m~/anaconda3/envs/xgboost/lib/python3.8/site-packages/sklearn/utils/__init__.py\u001b[0m in \u001b[0;36m_get_column_indices\u001b[0;34m(X, key)\u001b[0m\n",
      "\u001b[1;32m    447\u001b[0m             \u001b[0;32mfor\u001b[0m \u001b[0mcol\u001b[0m \u001b[0;32min\u001b[0m \u001b[0mcolumns\u001b[0m\u001b[0;34m:\u001b[0m\u001b[0;34m\u001b[0m\u001b[0;34m\u001b[0m\u001b[0m\n",
      "\u001b[0;32m--> 448\u001b[0;31m                 \u001b[0mcol_idx\u001b[0m \u001b[0;34m=\u001b[0m \u001b[0mall_columns\u001b[0m\u001b[0;34m.\u001b[0m\u001b[0mget_loc\u001b[0m\u001b[0;34m(\u001b[0m\u001b[0mcol\u001b[0m\u001b[0;34m)\u001b[0m\u001b[0;34m\u001b[0m\u001b[0;34m\u001b[0m\u001b[0m\n",
      "\u001b[0m\u001b[1;32m    449\u001b[0m                 \u001b[0;32mif\u001b[0m \u001b[0;32mnot\u001b[0m \u001b[0misinstance\u001b[0m\u001b[0;34m(\u001b[0m\u001b[0mcol_idx\u001b[0m\u001b[0;34m,\u001b[0m \u001b[0mnumbers\u001b[0m\u001b[0;34m.\u001b[0m\u001b[0mIntegral\u001b[0m\u001b[0;34m)\u001b[0m\u001b[0;34m:\u001b[0m\u001b[0;34m\u001b[0m\u001b[0;34m\u001b[0m\u001b[0m\n",
      "\n",
      "\u001b[0;32m~/anaconda3/envs/xgboost/lib/python3.8/site-packages/pandas/core/indexes/base.py\u001b[0m in \u001b[0;36mget_loc\u001b[0;34m(self, key, method, tolerance)\u001b[0m\n",
      "\u001b[1;32m   3804\u001b[0m             \u001b[0;32mexcept\u001b[0m \u001b[0mKeyError\u001b[0m \u001b[0;32mas\u001b[0m \u001b[0merr\u001b[0m\u001b[0;34m:\u001b[0m\u001b[0;34m\u001b[0m\u001b[0;34m\u001b[0m\u001b[0m\n",
      "\u001b[0;32m-> 3805\u001b[0;31m                 \u001b[0;32mraise\u001b[0m \u001b[0mKeyError\u001b[0m\u001b[0;34m(\u001b[0m\u001b[0mkey\u001b[0m\u001b[0;34m)\u001b[0m \u001b[0;32mfrom\u001b[0m \u001b[0merr\u001b[0m\u001b[0;34m\u001b[0m\u001b[0;34m\u001b[0m\u001b[0m\n",
      "\u001b[0m\u001b[1;32m   3806\u001b[0m             \u001b[0;32mexcept\u001b[0m \u001b[0mTypeError\u001b[0m\u001b[0;34m:\u001b[0m\u001b[0;34m\u001b[0m\u001b[0;34m\u001b[0m\u001b[0m\n",
      "\n",
      "\u001b[0;31mKeyError\u001b[0m: 'avg_dist'\n",
      "\n",
      "The above exception was the direct cause of the following exception:\n",
      "\n",
      "\u001b[0;31mValueError\u001b[0m                                Traceback (most recent call last)\n",
      "\u001b[0;32m/tmp/ipykernel_449658/233454082.py\u001b[0m in \u001b[0;36m<module>\u001b[0;34m\u001b[0m\n",
      "\u001b[1;32m     15\u001b[0m         ], verbose=True)\n",
      "\u001b[1;32m     16\u001b[0m \u001b[0;34m\u001b[0m\u001b[0m\n",
      "\u001b[0;32m---> 17\u001b[0;31m     \u001b[0mmodel\u001b[0m\u001b[0;34m.\u001b[0m\u001b[0mfit\u001b[0m\u001b[0;34m(\u001b[0m\u001b[0mX_train\u001b[0m\u001b[0;34m,\u001b[0m \u001b[0my_train\u001b[0m\u001b[0;34m)\u001b[0m\u001b[0;34m\u001b[0m\u001b[0;34m\u001b[0m\u001b[0m\n",
      "\u001b[0m\u001b[1;32m     18\u001b[0m \u001b[0;34m\u001b[0m\u001b[0m\n",
      "\u001b[1;32m     19\u001b[0m     \u001b[0mpredictions\u001b[0m \u001b[0;34m=\u001b[0m \u001b[0mmodel\u001b[0m\u001b[0;34m.\u001b[0m\u001b[0mpredict\u001b[0m\u001b[0;34m(\u001b[0m\u001b[0mX_test\u001b[0m\u001b[0;34m)\u001b[0m\u001b[0;34m\u001b[0m\u001b[0;34m\u001b[0m\u001b[0m\n",
      "\n",
      "\u001b[0;32m~/anaconda3/envs/xgboost/lib/python3.8/site-packages/sklearn/pipeline.py\u001b[0m in \u001b[0;36mfit\u001b[0;34m(self, X, y, **fit_params)\u001b[0m\n",
      "\u001b[1;32m    399\u001b[0m         \"\"\"\n",
      "\u001b[1;32m    400\u001b[0m         \u001b[0mfit_params_steps\u001b[0m \u001b[0;34m=\u001b[0m \u001b[0mself\u001b[0m\u001b[0;34m.\u001b[0m\u001b[0m_check_fit_params\u001b[0m\u001b[0;34m(\u001b[0m\u001b[0;34m**\u001b[0m\u001b[0mfit_params\u001b[0m\u001b[0;34m)\u001b[0m\u001b[0;34m\u001b[0m\u001b[0;34m\u001b[0m\u001b[0m\n",
      "\u001b[0;32m--> 401\u001b[0;31m         \u001b[0mXt\u001b[0m \u001b[0;34m=\u001b[0m \u001b[0mself\u001b[0m\u001b[0;34m.\u001b[0m\u001b[0m_fit\u001b[0m\u001b[0;34m(\u001b[0m\u001b[0mX\u001b[0m\u001b[0;34m,\u001b[0m \u001b[0my\u001b[0m\u001b[0;34m,\u001b[0m \u001b[0;34m**\u001b[0m\u001b[0mfit_params_steps\u001b[0m\u001b[0;34m)\u001b[0m\u001b[0;34m\u001b[0m\u001b[0;34m\u001b[0m\u001b[0m\n",
      "\u001b[0m\u001b[1;32m    402\u001b[0m         \u001b[0;32mwith\u001b[0m \u001b[0m_print_elapsed_time\u001b[0m\u001b[0;34m(\u001b[0m\u001b[0;34m\"Pipeline\"\u001b[0m\u001b[0;34m,\u001b[0m \u001b[0mself\u001b[0m\u001b[0;34m.\u001b[0m\u001b[0m_log_message\u001b[0m\u001b[0;34m(\u001b[0m\u001b[0mlen\u001b[0m\u001b[0;34m(\u001b[0m\u001b[0mself\u001b[0m\u001b[0;34m.\u001b[0m\u001b[0msteps\u001b[0m\u001b[0;34m)\u001b[0m \u001b[0;34m-\u001b[0m \u001b[0;36m1\u001b[0m\u001b[0;34m)\u001b[0m\u001b[0;34m)\u001b[0m\u001b[0;34m:\u001b[0m\u001b[0;34m\u001b[0m\u001b[0;34m\u001b[0m\u001b[0m\n",
      "\u001b[1;32m    403\u001b[0m             \u001b[0;32mif\u001b[0m \u001b[0mself\u001b[0m\u001b[0;34m.\u001b[0m\u001b[0m_final_estimator\u001b[0m \u001b[0;34m!=\u001b[0m \u001b[0;34m\"passthrough\"\u001b[0m\u001b[0;34m:\u001b[0m\u001b[0;34m\u001b[0m\u001b[0;34m\u001b[0m\u001b[0m\n",
      "\n",
      "\u001b[0;32m~/anaconda3/envs/xgboost/lib/python3.8/site-packages/sklearn/pipeline.py\u001b[0m in \u001b[0;36m_fit\u001b[0;34m(self, X, y, **fit_params_steps)\u001b[0m\n",
      "\u001b[1;32m    357\u001b[0m                 \u001b[0mcloned_transformer\u001b[0m \u001b[0;34m=\u001b[0m \u001b[0mclone\u001b[0m\u001b[0;34m(\u001b[0m\u001b[0mtransformer\u001b[0m\u001b[0;34m)\u001b[0m\u001b[0;34m\u001b[0m\u001b[0;34m\u001b[0m\u001b[0m\n",
      "\u001b[1;32m    358\u001b[0m             \u001b[0;31m# Fit or load from cache the current transformer\u001b[0m\u001b[0;34m\u001b[0m\u001b[0;34m\u001b[0m\u001b[0;34m\u001b[0m\u001b[0m\n",
      "\u001b[0;32m--> 359\u001b[0;31m             X, fitted_transformer = fit_transform_one_cached(\n",
      "\u001b[0m\u001b[1;32m    360\u001b[0m                 \u001b[0mcloned_transformer\u001b[0m\u001b[0;34m,\u001b[0m\u001b[0;34m\u001b[0m\u001b[0;34m\u001b[0m\u001b[0m\n",
      "\u001b[1;32m    361\u001b[0m                 \u001b[0mX\u001b[0m\u001b[0;34m,\u001b[0m\u001b[0;34m\u001b[0m\u001b[0;34m\u001b[0m\u001b[0m\n",
      "\n",
      "\u001b[0;32m~/anaconda3/envs/xgboost/lib/python3.8/site-packages/joblib/memory.py\u001b[0m in \u001b[0;36m__call__\u001b[0;34m(self, *args, **kwargs)\u001b[0m\n",
      "\u001b[1;32m    347\u001b[0m \u001b[0;34m\u001b[0m\u001b[0m\n",
      "\u001b[1;32m    348\u001b[0m     \u001b[0;32mdef\u001b[0m \u001b[0m__call__\u001b[0m\u001b[0;34m(\u001b[0m\u001b[0mself\u001b[0m\u001b[0;34m,\u001b[0m \u001b[0;34m*\u001b[0m\u001b[0margs\u001b[0m\u001b[0;34m,\u001b[0m \u001b[0;34m**\u001b[0m\u001b[0mkwargs\u001b[0m\u001b[0;34m)\u001b[0m\u001b[0;34m:\u001b[0m\u001b[0;34m\u001b[0m\u001b[0;34m\u001b[0m\u001b[0m\n",
      "\u001b[0;32m--> 349\u001b[0;31m         \u001b[0;32mreturn\u001b[0m \u001b[0mself\u001b[0m\u001b[0;34m.\u001b[0m\u001b[0mfunc\u001b[0m\u001b[0;34m(\u001b[0m\u001b[0;34m*\u001b[0m\u001b[0margs\u001b[0m\u001b[0;34m,\u001b[0m \u001b[0;34m**\u001b[0m\u001b[0mkwargs\u001b[0m\u001b[0;34m)\u001b[0m\u001b[0;34m\u001b[0m\u001b[0;34m\u001b[0m\u001b[0m\n",
      "\u001b[0m\u001b[1;32m    350\u001b[0m \u001b[0;34m\u001b[0m\u001b[0m\n",
      "\u001b[1;32m    351\u001b[0m     \u001b[0;32mdef\u001b[0m \u001b[0mcall_and_shelve\u001b[0m\u001b[0;34m(\u001b[0m\u001b[0mself\u001b[0m\u001b[0;34m,\u001b[0m \u001b[0;34m*\u001b[0m\u001b[0margs\u001b[0m\u001b[0;34m,\u001b[0m \u001b[0;34m**\u001b[0m\u001b[0mkwargs\u001b[0m\u001b[0;34m)\u001b[0m\u001b[0;34m:\u001b[0m\u001b[0;34m\u001b[0m\u001b[0;34m\u001b[0m\u001b[0m\n",
      "\n",
      "\u001b[0;32m~/anaconda3/envs/xgboost/lib/python3.8/site-packages/sklearn/pipeline.py\u001b[0m in \u001b[0;36m_fit_transform_one\u001b[0;34m(transformer, X, y, weight, message_clsname, message, **fit_params)\u001b[0m\n",
      "\u001b[1;32m    891\u001b[0m     \u001b[0;32mwith\u001b[0m \u001b[0m_print_elapsed_time\u001b[0m\u001b[0;34m(\u001b[0m\u001b[0mmessage_clsname\u001b[0m\u001b[0;34m,\u001b[0m \u001b[0mmessage\u001b[0m\u001b[0;34m)\u001b[0m\u001b[0;34m:\u001b[0m\u001b[0;34m\u001b[0m\u001b[0;34m\u001b[0m\u001b[0m\n",
      "\u001b[1;32m    892\u001b[0m         \u001b[0;32mif\u001b[0m \u001b[0mhasattr\u001b[0m\u001b[0;34m(\u001b[0m\u001b[0mtransformer\u001b[0m\u001b[0;34m,\u001b[0m \u001b[0;34m\"fit_transform\"\u001b[0m\u001b[0;34m)\u001b[0m\u001b[0;34m:\u001b[0m\u001b[0;34m\u001b[0m\u001b[0;34m\u001b[0m\u001b[0m\n",
      "\u001b[0;32m--> 893\u001b[0;31m             \u001b[0mres\u001b[0m \u001b[0;34m=\u001b[0m \u001b[0mtransformer\u001b[0m\u001b[0;34m.\u001b[0m\u001b[0mfit_transform\u001b[0m\u001b[0;34m(\u001b[0m\u001b[0mX\u001b[0m\u001b[0;34m,\u001b[0m \u001b[0my\u001b[0m\u001b[0;34m,\u001b[0m \u001b[0;34m**\u001b[0m\u001b[0mfit_params\u001b[0m\u001b[0;34m)\u001b[0m\u001b[0;34m\u001b[0m\u001b[0;34m\u001b[0m\u001b[0m\n",
      "\u001b[0m\u001b[1;32m    894\u001b[0m         \u001b[0;32melse\u001b[0m\u001b[0;34m:\u001b[0m\u001b[0;34m\u001b[0m\u001b[0;34m\u001b[0m\u001b[0m\n",
      "\u001b[1;32m    895\u001b[0m             \u001b[0mres\u001b[0m \u001b[0;34m=\u001b[0m \u001b[0mtransformer\u001b[0m\u001b[0;34m.\u001b[0m\u001b[0mfit\u001b[0m\u001b[0;34m(\u001b[0m\u001b[0mX\u001b[0m\u001b[0;34m,\u001b[0m \u001b[0my\u001b[0m\u001b[0;34m,\u001b[0m \u001b[0;34m**\u001b[0m\u001b[0mfit_params\u001b[0m\u001b[0;34m)\u001b[0m\u001b[0;34m.\u001b[0m\u001b[0mtransform\u001b[0m\u001b[0;34m(\u001b[0m\u001b[0mX\u001b[0m\u001b[0;34m)\u001b[0m\u001b[0;34m\u001b[0m\u001b[0;34m\u001b[0m\u001b[0m\n",
      "\n",
      "\u001b[0;32m~/anaconda3/envs/xgboost/lib/python3.8/site-packages/sklearn/utils/_set_output.py\u001b[0m in \u001b[0;36mwrapped\u001b[0;34m(self, X, *args, **kwargs)\u001b[0m\n",
      "\u001b[1;32m    138\u001b[0m     \u001b[0;34m@\u001b[0m\u001b[0mwraps\u001b[0m\u001b[0;34m(\u001b[0m\u001b[0mf\u001b[0m\u001b[0;34m)\u001b[0m\u001b[0;34m\u001b[0m\u001b[0;34m\u001b[0m\u001b[0m\n",
      "\u001b[1;32m    139\u001b[0m     \u001b[0;32mdef\u001b[0m \u001b[0mwrapped\u001b[0m\u001b[0;34m(\u001b[0m\u001b[0mself\u001b[0m\u001b[0;34m,\u001b[0m \u001b[0mX\u001b[0m\u001b[0;34m,\u001b[0m \u001b[0;34m*\u001b[0m\u001b[0margs\u001b[0m\u001b[0;34m,\u001b[0m \u001b[0;34m**\u001b[0m\u001b[0mkwargs\u001b[0m\u001b[0;34m)\u001b[0m\u001b[0;34m:\u001b[0m\u001b[0;34m\u001b[0m\u001b[0;34m\u001b[0m\u001b[0m\n",
      "\u001b[0;32m--> 140\u001b[0;31m         \u001b[0mdata_to_wrap\u001b[0m \u001b[0;34m=\u001b[0m \u001b[0mf\u001b[0m\u001b[0;34m(\u001b[0m\u001b[0mself\u001b[0m\u001b[0;34m,\u001b[0m \u001b[0mX\u001b[0m\u001b[0;34m,\u001b[0m \u001b[0;34m*\u001b[0m\u001b[0margs\u001b[0m\u001b[0;34m,\u001b[0m \u001b[0;34m**\u001b[0m\u001b[0mkwargs\u001b[0m\u001b[0;34m)\u001b[0m\u001b[0;34m\u001b[0m\u001b[0;34m\u001b[0m\u001b[0m\n",
      "\u001b[0m\u001b[1;32m    141\u001b[0m         \u001b[0;32mif\u001b[0m \u001b[0misinstance\u001b[0m\u001b[0;34m(\u001b[0m\u001b[0mdata_to_wrap\u001b[0m\u001b[0;34m,\u001b[0m \u001b[0mtuple\u001b[0m\u001b[0;34m)\u001b[0m\u001b[0;34m:\u001b[0m\u001b[0;34m\u001b[0m\u001b[0;34m\u001b[0m\u001b[0m\n",
      "\u001b[1;32m    142\u001b[0m             \u001b[0;31m# only wrap the first output for cross decomposition\u001b[0m\u001b[0;34m\u001b[0m\u001b[0;34m\u001b[0m\u001b[0;34m\u001b[0m\u001b[0m\n",
      "\n",
      "\u001b[0;32m~/anaconda3/envs/xgboost/lib/python3.8/site-packages/sklearn/compose/_column_transformer.py\u001b[0m in \u001b[0;36mfit_transform\u001b[0;34m(self, X, y)\u001b[0m\n",
      "\u001b[1;32m    722\u001b[0m         \u001b[0mself\u001b[0m\u001b[0;34m.\u001b[0m\u001b[0m_check_n_features\u001b[0m\u001b[0;34m(\u001b[0m\u001b[0mX\u001b[0m\u001b[0;34m,\u001b[0m \u001b[0mreset\u001b[0m\u001b[0;34m=\u001b[0m\u001b[0;32mTrue\u001b[0m\u001b[0;34m)\u001b[0m\u001b[0;34m\u001b[0m\u001b[0;34m\u001b[0m\u001b[0m\n",
      "\u001b[1;32m    723\u001b[0m         \u001b[0mself\u001b[0m\u001b[0;34m.\u001b[0m\u001b[0m_validate_transformers\u001b[0m\u001b[0;34m(\u001b[0m\u001b[0;34m)\u001b[0m\u001b[0;34m\u001b[0m\u001b[0;34m\u001b[0m\u001b[0m\n",
      "\u001b[0;32m--> 724\u001b[0;31m         \u001b[0mself\u001b[0m\u001b[0;34m.\u001b[0m\u001b[0m_validate_column_callables\u001b[0m\u001b[0;34m(\u001b[0m\u001b[0mX\u001b[0m\u001b[0;34m)\u001b[0m\u001b[0;34m\u001b[0m\u001b[0;34m\u001b[0m\u001b[0m\n",
      "\u001b[0m\u001b[1;32m    725\u001b[0m         \u001b[0mself\u001b[0m\u001b[0;34m.\u001b[0m\u001b[0m_validate_remainder\u001b[0m\u001b[0;34m(\u001b[0m\u001b[0mX\u001b[0m\u001b[0;34m)\u001b[0m\u001b[0;34m\u001b[0m\u001b[0;34m\u001b[0m\u001b[0m\n",
      "\u001b[1;32m    726\u001b[0m \u001b[0;34m\u001b[0m\u001b[0m\n",
      "\n",
      "\u001b[0;32m~/anaconda3/envs/xgboost/lib/python3.8/site-packages/sklearn/compose/_column_transformer.py\u001b[0m in \u001b[0;36m_validate_column_callables\u001b[0;34m(self, X)\u001b[0m\n",
      "\u001b[1;32m    424\u001b[0m                 \u001b[0mcolumns\u001b[0m \u001b[0;34m=\u001b[0m \u001b[0mcolumns\u001b[0m\u001b[0;34m(\u001b[0m\u001b[0mX\u001b[0m\u001b[0;34m)\u001b[0m\u001b[0;34m\u001b[0m\u001b[0;34m\u001b[0m\u001b[0m\n",
      "\u001b[1;32m    425\u001b[0m             \u001b[0mall_columns\u001b[0m\u001b[0;34m.\u001b[0m\u001b[0mappend\u001b[0m\u001b[0;34m(\u001b[0m\u001b[0mcolumns\u001b[0m\u001b[0;34m)\u001b[0m\u001b[0;34m\u001b[0m\u001b[0;34m\u001b[0m\u001b[0m\n",
      "\u001b[0;32m--> 426\u001b[0;31m             \u001b[0mtransformer_to_input_indices\u001b[0m\u001b[0;34m[\u001b[0m\u001b[0mname\u001b[0m\u001b[0;34m]\u001b[0m \u001b[0;34m=\u001b[0m \u001b[0m_get_column_indices\u001b[0m\u001b[0;34m(\u001b[0m\u001b[0mX\u001b[0m\u001b[0;34m,\u001b[0m \u001b[0mcolumns\u001b[0m\u001b[0;34m)\u001b[0m\u001b[0;34m\u001b[0m\u001b[0;34m\u001b[0m\u001b[0m\n",
      "\u001b[0m\u001b[1;32m    427\u001b[0m \u001b[0;34m\u001b[0m\u001b[0m\n",
      "\u001b[1;32m    428\u001b[0m         \u001b[0mself\u001b[0m\u001b[0;34m.\u001b[0m\u001b[0m_columns\u001b[0m \u001b[0;34m=\u001b[0m \u001b[0mall_columns\u001b[0m\u001b[0;34m\u001b[0m\u001b[0;34m\u001b[0m\u001b[0m\n",
      "\n",
      "\u001b[0;32m~/anaconda3/envs/xgboost/lib/python3.8/site-packages/sklearn/utils/__init__.py\u001b[0m in \u001b[0;36m_get_column_indices\u001b[0;34m(X, key)\u001b[0m\n",
      "\u001b[1;32m    454\u001b[0m \u001b[0;34m\u001b[0m\u001b[0m\n",
      "\u001b[1;32m    455\u001b[0m         \u001b[0;32mexcept\u001b[0m \u001b[0mKeyError\u001b[0m \u001b[0;32mas\u001b[0m \u001b[0me\u001b[0m\u001b[0;34m:\u001b[0m\u001b[0;34m\u001b[0m\u001b[0;34m\u001b[0m\u001b[0m\n",
      "\u001b[0;32m--> 456\u001b[0;31m             \u001b[0;32mraise\u001b[0m \u001b[0mValueError\u001b[0m\u001b[0;34m(\u001b[0m\u001b[0;34m\"A given column is not a column of the dataframe\"\u001b[0m\u001b[0;34m)\u001b[0m \u001b[0;32mfrom\u001b[0m \u001b[0me\u001b[0m\u001b[0;34m\u001b[0m\u001b[0;34m\u001b[0m\u001b[0m\n",
      "\u001b[0m\u001b[1;32m    457\u001b[0m \u001b[0;34m\u001b[0m\u001b[0m\n",
      "\u001b[1;32m    458\u001b[0m         \u001b[0;32mreturn\u001b[0m \u001b[0mcolumn_indices\u001b[0m\u001b[0;34m\u001b[0m\u001b[0;34m\u001b[0m\u001b[0m\n",
      "\n",
      "\u001b[0;31mValueError\u001b[0m: A given column is not a column of the dataframe"
     ]
    }
   ],
   "source": [
    "# MLFlow Run Scope \n",
    "with mlflow.start_run() as model_tracking_run:\n",
    "\n",
    "    ## Get Training Data\n",
    "    X_train, X_test, y_train, y_test = get_training_testing_data()\n",
    "    \n",
    "    ## Construct Model \n",
    "    params = {'max_depth':12, 'n_estimators':1000, 'learning_rate':0.1, 'subsample':0.8, 'colsample_bytree':0.8}\n",
    "\n",
    "    ## Log model params in MLFlow\n",
    "    mlflow.log_params(params)\n",
    "\n",
    "    model = Pipeline(steps=[\n",
    "        ('preprocessor', preprocessor),\n",
    "        ('classifier', xgb.XGBRegressor(**params))\n",
    "        ], verbose=True)\n",
    "    \n",
    "    # Train and perform prediction\n",
    "    model.fit(X_train, y_train)\n",
    "    predictions = model.predict(X_test)\n",
    "\n",
    "    ## Log model in MLFlow \n",
    "    mlflow.sklearn.log_model(sk_model = model, \n",
    "        artifact_path=MODEL_ARTIFACTS_PATH)\n",
    "\n",
    "    rmse, mae, r2 = eval_metrics(y_test, predictions)\n",
    "\n",
    "    # Log model performance metrics\n",
    "    mlflow.log_metric(\"rmse\", rmse)\n",
    "    mlflow.log_metric(\"mae\", mae)\n",
    "    mlflow.log_metric(\"r2\", r2)\n",
    "\n",
    "    artifact_path = f\"artifacts_stage/run_{model_tracking_run.info.run_id}\"\n",
    "    os.mkdir(artifact_path)\n",
    "\n",
    "    ## Save and log predicted values\n",
    "    prediction_file = f\"{artifact_path}/prediction.csv\"\n",
    "    savetxt(prediction_file, predictions)\n",
    "    mlflow.log_artifact(prediction_file)\n",
    "\n",
    "    ## Create a plot that shows predicted vs true prices\n",
    "    compare = pd.DataFrame({0:y_test.values, 1:predictions })\n",
    "    compare.columns=['true_price', 'predicted_price']\n",
    "    fig = compare.plot(use_index=True).get_figure()\n",
    "    fig_file = f\"{artifact_path}/true_vs_predicted.png\"\n",
    "    fig.savefig(fig_file)\n",
    "    mlflow.log_artifact(fig_file)\n",
    "\n",
    "\n"
   ]
  },
  {
   "cell_type": "code",
   "execution_count": 60,
   "metadata": {},
   "outputs": [],
   "source": [
    "logged_model = 'runs:/c2796c5207b5410cb0a68ba4ed5a6b33/skl_pipe_xgb_house_prices'\n",
    "\n",
    "# Load model as a PyFuncModel.\n",
    "loaded_model = mlflow.pyfunc.load_model(logged_model)"
   ]
  },
  {
   "cell_type": "code",
   "execution_count": 77,
   "metadata": {},
   "outputs": [
    {
     "name": "stdout",
     "output_type": "stream",
     "text": [
      "models:/house_prices_xgb_model_1/Staging\n"
     ]
    },
    {
     "data": {
      "text/plain": [
       "array([22.981283, 30.136358, 17.367483, 22.758842, 19.641615, 22.305285,\n",
       "       19.027924, 14.624709, 20.839834, 18.13437 , 21.552773, 20.82225 ,\n",
       "       11.442851, 23.997944, 20.47921 , 31.649529, 19.965816,  9.975837,\n",
       "       44.33097 , 12.684249, 24.990417, 26.749693, 16.397635, 21.941044,\n",
       "       11.926445, 13.364957, 22.191189, 12.907046, 21.53167 , 17.329403,\n",
       "       20.316465, 23.641134, 21.432373, 17.420328, 18.567915, 19.495022,\n",
       "       34.89803 , 19.695057, 22.674723, 22.045515, 17.237652, 28.93987 ,\n",
       "       49.165432, 18.854998, 25.261135, 18.260849, 15.550772, 23.528383,\n",
       "       19.560045, 22.660078, 20.357428, 32.772358, 17.198944, 26.671457,\n",
       "       48.977634, 20.827562, 20.47024 , 27.866272, 23.022234, 19.787113,\n",
       "       23.9338  , 35.53965 , 26.959204, 16.159908, 22.49341 , 18.218952,\n",
       "       15.509234, 23.838472, 27.373453, 17.61049 , 21.294327, 28.604715,\n",
       "       14.582991, 17.010658, 23.160679,  8.789547, 19.671293, 47.17371 ,\n",
       "        7.768948, 16.476809, 22.799988, 14.243485, 21.607403, 11.345765,\n",
       "       19.858803, 26.758423, 22.426855, 25.052763, 23.513536, 17.075966,\n",
       "       23.162983,  9.026719, 16.861973, 19.681103, 20.86818 , 20.136055,\n",
       "       17.635036, 11.039606, 11.479721, 14.815902, 21.020245, 22.40028 ],\n",
       "      dtype=float32)"
      ]
     },
     "execution_count": 77,
     "metadata": {},
     "output_type": "execute_result"
    }
   ],
   "source": [
    "import mlflow.pyfunc\n",
    "\n",
    "model_name = \"house_prices_xgb_model_1\"\n",
    "stage = 'Staging'\n",
    "model_uri=f\"models:/{model_name}/{stage}\"\n",
    "\n",
    "\n",
    "model = mlflow.pyfunc.load_model(model_uri)\n",
    "print(model_uri)\n",
    "model.predict(X_test)"
   ]
  },
  {
   "cell_type": "code",
   "execution_count": 100,
   "metadata": {},
   "outputs": [
    {
     "name": "stdout",
     "output_type": "stream",
     "text": [
      "Predictions: {\"predictions\": [22.98128318786621, 30.1363582611084, 17.367483139038086, 22.75884246826172, 19.64161491394043, 22.30528450012207, 19.027923583984375, 14.624709129333496, 20.839834213256836, 18.134370803833008, 21.552772521972656, 20.822250366210938, 11.442851066589355, 23.997943878173828, 20.479209899902344, 31.64952850341797, 19.965816497802734, 9.975836753845215, 44.330970764160156, 12.684248924255371, 24.99041748046875, 26.749692916870117, 16.397634506225586, 21.941043853759766, 11.926445007324219, 13.364956855773926, 22.19118881225586, 12.9070463180542, 21.53166961669922, 17.329402923583984, 20.316465377807617, 23.64113426208496, 21.432373046875, 17.42032814025879, 18.567914962768555, 19.49502182006836, 34.89802932739258, 19.695056915283203, 22.67472267150879, 22.045515060424805, 17.237651824951172, 28.939870834350586, 49.16543197631836, 18.854997634887695, 25.26113510131836, 18.260848999023438, 15.550771713256836, 23.528383255004883, 19.56004524230957, 22.660078048706055, 20.3574275970459, 32.77235794067383, 17.198944091796875, 26.671457290649414, 48.97763442993164, 20.82756233215332, 20.470239639282227, 27.86627197265625, 23.022233963012695, 19.787113189697266, 23.933799743652344, 35.539649963378906, 26.959203720092773, 16.159908294677734, 22.493410110473633, 18.218952178955078, 15.509234428405762, 23.838472366333008, 27.37345314025879, 17.610490798950195, 21.294326782226562, 28.60471534729004, 14.582990646362305, 17.010658264160156, 23.16067886352539, 8.789546966552734, 19.671293258666992, 47.173709869384766, 7.768948078155518, 16.476808547973633, 22.79998779296875, 14.243485450744629, 21.607402801513672, 11.345765113830566, 19.858802795410156, 26.7584228515625, 22.426855087280273, 25.052762985229492, 23.51353645324707, 17.075965881347656, 23.162982940673828, 9.026719093322754, 16.86197280883789, 19.681102752685547, 20.868179321289062, 20.13605499267578, 17.63503646850586, 11.039606094360352, 11.479721069335938, 14.815901756286621, 21.020244598388672, 22.400279998779297]}\n"
     ]
    }
   ],
   "source": [
    "\n",
    "import requests\n",
    "from json import JSONEncoder\n",
    "\n",
    "host = '0.0.0.0'\n",
    "port = '8001'\n",
    "\n",
    "url = f'http://{host}:{port}/invocations'\n",
    "\n",
    "headers = {\n",
    "    'Content-Type': 'application/json',\n",
    "}\n",
    "\n",
    "# test_data is a Pandas dataframe with data for testing the ML model\n",
    "http_data = X_test.to_dict(orient='split')\n",
    "\n",
    "x = JSONEncoder().encode({\"dataframe_split\": http_data})\n",
    "\n",
    "r = requests.post(url=url, headers=headers, data=x)\n",
    "\n",
    "print(f'Predictions: {r.text}')"
   ]
  },
  {
   "cell_type": "code",
   "execution_count": 21,
   "metadata": {},
   "outputs": [
    {
     "name": "stdout",
     "output_type": "stream",
     "text": [
      "{   'creation_timestamp': 1677505289106,\n",
      "    'description': '',\n",
      "    'last_updated_timestamp': 1677506861344,\n",
      "    'latest_versions': [   <ModelVersion: creation_timestamp=1677505289239, current_stage='Staging', description='', last_updated_timestamp=1677506861344, name='HousePrices_Model_A', run_id='123224b04e3748a6a79f4ae615902225', run_link='', source='mlflow-artifacts:/2/123224b04e3748a6a79f4ae615902225/artifacts/preprocess_and_xgb', status='READY', status_message='', tags={}, user_id='', version='1'>,\n",
      "                           <ModelVersion: creation_timestamp=1677506774841, current_stage='None', description='', last_updated_timestamp=1677506774841, name='HousePrices_Model_A', run_id='2f72025b8d63454b8cdddd034107ca2f', run_link='', source='mlflow-artifacts:/2/2f72025b8d63454b8cdddd034107ca2f/artifacts/preprocess_and_xgb', status='READY', status_message='', tags={}, user_id='', version='2'>],\n",
      "    'name': 'HousePrices_Model_A',\n",
      "    'tags': {}}\n",
      "{   'creation_timestamp': 1677586806039,\n",
      "    'description': '',\n",
      "    'last_updated_timestamp': 1677591512428,\n",
      "    'latest_versions': [   <ModelVersion: creation_timestamp=1677591512428, current_stage='None', description='', last_updated_timestamp=1677591512428, name='house_prices_xgb_mlflow.ipynb', run_id='050e38859c5848308b89975f1e9f8615', run_link='', source='./mlartifacts/5/050e38859c5848308b89975f1e9f8615/artifacts/artifacts_stage/run_050e38859c5848308b89975f1e9f8615', status='READY', status_message='', tags={}, user_id='', version='4'>],\n",
      "    'name': 'house_prices_xgb_mlflow.ipynb',\n",
      "    'tags': {}}\n",
      "{   'creation_timestamp': 1677634811631,\n",
      "    'description': '',\n",
      "    'last_updated_timestamp': 1678143027966,\n",
      "    'latest_versions': [   <ModelVersion: creation_timestamp=1677634811746, current_stage='Staging', description='', last_updated_timestamp=1677635100316, name='house_prices_xgb_model_1', run_id='c2796c5207b5410cb0a68ba4ed5a6b33', run_link='', source='mlflow-artifacts:/7/c2796c5207b5410cb0a68ba4ed5a6b33/artifacts/skl_pipe_xgb_house_prices', status='READY', status_message='', tags={}, user_id='', version='1'>,\n",
      "                           <ModelVersion: creation_timestamp=1678143027966, current_stage='None', description='', last_updated_timestamp=1678143027966, name='house_prices_xgb_model_1', run_id='3f0276516ff54e04b65362d16b12633e', run_link='', source='mlflow-artifacts:/10/3f0276516ff54e04b65362d16b12633e/artifacts/skl_pipe_xgb_house_prices', status='READY', status_message='', tags={}, user_id='', version='8'>],\n",
      "    'name': 'house_prices_xgb_model_1',\n",
      "    'tags': {}}\n",
      "{   'creation_timestamp': 1678143345048,\n",
      "    'description': '',\n",
      "    'last_updated_timestamp': 1678143529696,\n",
      "    'latest_versions': [   <ModelVersion: creation_timestamp=1678143529696, current_stage='None', description='', last_updated_timestamp=1678143529696, name='test_model_registry', run_id='ce5873dad3f041c995b00863a1e4b4ce', run_link='', source='mlflow-artifacts:/10/ce5873dad3f041c995b00863a1e4b4ce/artifacts/artifacts', status='READY', status_message='', tags={}, user_id='', version='3'>],\n",
      "    'name': 'test_model_registry',\n",
      "    'tags': {}}\n",
      "{   'creation_timestamp': 1678143410498,\n",
      "    'description': '',\n",
      "    'last_updated_timestamp': 1678143529878,\n",
      "    'latest_versions': [   <ModelVersion: creation_timestamp=1678143529878, current_stage='None', description='', last_updated_timestamp=1678143529878, name='test_model_registry_2', run_id='ce5873dad3f041c995b00863a1e4b4ce', run_link='', source='mlflow-artifacts:/10/ce5873dad3f041c995b00863a1e4b4ce/artifacts/mlflow-artifacts', status='READY', status_message='', tags={}, user_id='', version='2'>],\n",
      "    'name': 'test_model_registry_2',\n",
      "    'tags': {}}\n",
      "{   'creation_timestamp': 1678143946132,\n",
      "    'description': '',\n",
      "    'last_updated_timestamp': 1678143962924,\n",
      "    'latest_versions': [   <ModelVersion: creation_timestamp=1678143962924, current_stage='None', description='', last_updated_timestamp=1678143962924, name='test_model_registry_3', run_id='3f0276516ff54e04b65362d16b12633e', run_link='', source='mlflow-artifacts:/10/3f0276516ff54e04b65362d16b12633e/artifacts/artifacts', status='READY', status_message='', tags={}, user_id='', version='1'>],\n",
      "    'name': 'test_model_registry_3',\n",
      "    'tags': {}}\n",
      "{   'creation_timestamp': 1678144323948,\n",
      "    'description': '',\n",
      "    'last_updated_timestamp': 1678144478301,\n",
      "    'latest_versions': [   <ModelVersion: creation_timestamp=1678144478301, current_stage='None', description='', last_updated_timestamp=1678144478301, name='test_model_registry_4', run_id='ce5873dad3f041c995b00863a1e4b4ce', run_link='', source='mlflow-artifacts:/10/ce5873dad3f041c995b00863a1e4b4ce/artifacts', status='READY', status_message='', tags={}, user_id='', version='2'>],\n",
      "    'name': 'test_model_registry_4',\n",
      "    'tags': {}}\n"
     ]
    }
   ],
   "source": [
    "from pprint import pprint\n",
    "from mlflow import MlflowClient\n",
    "\n",
    "client = MlflowClient()\n",
    "for rm in client.search_registered_models():\n",
    "    pprint(dict(rm), indent=4)"
   ]
  },
  {
   "cell_type": "code",
   "execution_count": 40,
   "metadata": {},
   "outputs": [
    {
     "data": {
      "text/plain": [
       "'Staging'"
      ]
     },
     "execution_count": 40,
     "metadata": {},
     "output_type": "execute_result"
    }
   ],
   "source": [
    "x = client.search_registered_models().to_list()[0].latest_versions[0].current_stage\n",
    "x"
   ]
  },
  {
   "cell_type": "code",
   "execution_count": 32,
   "metadata": {},
   "outputs": [],
   "source": [
    "\n",
    "mlflow models serve --model-uri runs:/a00a3ca187b943c4bdb644787bd6b277/model"
   ]
  },
  {
   "cell_type": "code",
   "execution_count": 40,
   "metadata": {},
   "outputs": [],
   "source": [
    "y_pred = pd.Series(data =predictions, name=\"Predicted_Price\")"
   ]
  },
  {
   "cell_type": "code",
   "execution_count": 59,
   "metadata": {},
   "outputs": [
    {
     "name": "stderr",
     "output_type": "stream",
     "text": [
      "/tmp/ipykernel_415888/2907599412.py:1: FutureWarning: Support for multi-dimensional indexing (e.g. `obj[:, None]`) is deprecated and will be removed in a future version.  Convert to a numpy array before indexing instead.\n",
      "  compare = pd.DataFrame(np.hstack((y_pred[:, None], y_test[:, None])))\n"
     ]
    }
   ],
   "source": [
    "compare = pd.DataFrame(np.hstack((y_pred[:, None], y_test[:, None])))"
   ]
  },
  {
   "cell_type": "code",
   "execution_count": 68,
   "metadata": {},
   "outputs": [],
   "source": [
    "compare = pd.DataFrame({0:y_test.values, 1:predictions })\n",
    "compare.columns=['true_price', 'predicted_price']"
   ]
  },
  {
   "cell_type": "code",
   "execution_count": 76,
   "metadata": {},
   "outputs": [
    {
     "data": {
      "image/png": "[encoded data removed]",
      "text/plain": [
       "<Figure size 640x480 with 1 Axes>"
      ]
     },
     "metadata": {},
     "output_type": "display_data"
    }
   ],
   "source": [
    "fig = compare.plot(use_index=True).get_figure()\n",
    "xf = 1234\n",
    "fig.savefig(f\"some_file_{xf}.png\")"
   ]
  },
  {
   "cell_type": "code",
   "execution_count": 247,
   "metadata": {},
   "outputs": [],
   "source": [
    "class Pipeline_Eval:\n",
    "    def __init__(self, X_dataset, y_dataset):\n",
    "        self.__pipelines = set()\n",
    "        self.transformers = []\n",
    "        self.estimators = []\n",
    "        self.X_train, self.X_test, self.y_train, self.y_test = train_test_split(df, y, test_size=0.2, random_state=42)\n",
    "        return self\n",
    "    \n",
    "    \n",
    "    def constructor(self):\n",
    "        \"\"\"Combine the treansfors and estiators list into pipelines\"\"\"\n",
    "        for e in self.estimators:\n",
    "            steps = self.transformers.copy()\n",
    "            steps.append(e)\n",
    "            print(steps)\n",
    "            pipe = Pipeline(steps)\n",
    "            print(\"Pipeline was created\")\n",
    "            print(pipe)\n",
    "            self.__pipelines.add(pickle.dumps(pipe))\n",
    "\n",
    "\n",
    "\n",
    "    def eval_pipeline(self, pipe):\n",
    "        print(\"Eval Pipeline\")\n",
    "        pipe.fit(self.X_train, self.y_train)\n",
    "        pred = pipe.predict(self.X_test)\n",
    "        mae = mean_absolute_error(pred, self.y_test)\n",
    "        print(\"PIpeline:\")\n",
    "        print(pipe)\n",
    "        print(f\"Mean Absolute Error {mae:.4f}\")\n",
    "\n",
    "\n",
    "    def add_pipeline(self, pipe):\n",
    "        self.__pipelines.add(pickle.dumps(pipe))\n",
    "\n",
    "\n",
    "    def fit_predict(self):\n",
    "        for pipe in self.__pipelines:\n",
    "            self.eval_pipeline(pickle.loads(pipe))\n",
    "\n",
    "    "
   ]
  },
  {
   "cell_type": "code",
   "execution_count": 248,
   "metadata": {},
   "outputs": [],
   "source": [
    "peval = Pipeline_Eval(df, y)"
   ]
  },
  {
   "cell_type": "code",
   "execution_count": 249,
   "metadata": {},
   "outputs": [
    {
     "name": "stdout",
     "output_type": "stream",
     "text": [
      "[('simple_imputer', SimpleImputer()), ('linear_reg', LinearRegression())]\n",
      "Pipeline was created\n",
      "Pipeline(steps=[('simple_imputer', SimpleImputer()),\n",
      "                ('linear_reg', LinearRegression())])\n",
      "Eval Pipeline\n",
      "PIpeline:\n",
      "Pipeline(steps=[('simple_imputer', SimpleImputer()),\n",
      "                ('linear_reg', LinearRegression())])\n",
      "Mean Absolute Error 3.8229\n"
     ]
    }
   ],
   "source": [
    "peval.transformers.append(('simple_imputer', SimpleImputer(missing_values=np.nan, strategy='mean')))\n",
    "peval.estimators.append(('linear_reg', LinearRegression()))\n",
    "peval.constructor()\n",
    "peval.fit_predict()"
   ]
  },
  {
   "cell_type": "code",
   "execution_count": 250,
   "metadata": {},
   "outputs": [
    {
     "name": "stdout",
     "output_type": "stream",
     "text": [
      "[('simple_imputer', SimpleImputer()), ('linear_reg', LinearRegression())]\n",
      "Pipeline was created\n",
      "Pipeline(steps=[('simple_imputer', SimpleImputer()),\n",
      "                ('linear_reg', LinearRegression())])\n",
      "[('simple_imputer', SimpleImputer()), ('xgb_reg', XGBRFRegressor(base_score=None, booster=None, callbacks=None,\n",
      "               colsample_bylevel=None, colsample_bytree=None,\n",
      "               early_stopping_rounds=None, enable_categorical=False,\n",
      "               eval_metric=None, feature_types=None, gamma=None, gpu_id=None,\n",
      "               grow_policy=None, importance_type=None,\n",
      "               interaction_constraints=None, max_bin=None,\n",
      "               max_cat_threshold=None, max_cat_to_onehot=None,\n",
      "               max_delta_step=None, max_depth=13, max_leaves=None,\n",
      "               min_child_weight=None, missing=nan, monotone_constraints=None,\n",
      "               n_estimators=100, n_jobs=None, num_parallel_tree=None,\n",
      "               objective='reg:squarederror', predictor=None, random_state=None,\n",
      "               reg_alpha=None, ...))]\n",
      "Pipeline was created\n",
      "Pipeline(steps=[('simple_imputer', SimpleImputer()),\n",
      "                ('xgb_reg',\n",
      "                 XGBRFRegressor(base_score=None, booster=None, callbacks=None,\n",
      "                                colsample_bylevel=None, colsample_bytree=None,\n",
      "                                early_stopping_rounds=None,\n",
      "                                enable_categorical=False, eval_metric=None,\n",
      "                                feature_types=None, gamma=None, gpu_id=None,\n",
      "                                grow_policy=None, importance_type=None,\n",
      "                                interaction_constraints=None, max_bin=None,\n",
      "                                max_cat_threshold=None, max_cat_to_onehot=None,\n",
      "                                max_delta_step=None, max_depth=13,\n",
      "                                max_leaves=None, min_child_weight=None,\n",
      "                                missing=nan, monotone_constraints=None,\n",
      "                                n_estimators=100, n_jobs=None,\n",
      "                                num_parallel_tree=None,\n",
      "                                objective='reg:squarederror', predictor=None,\n",
      "                                random_state=None, reg_alpha=None, ...))])\n",
      "Eval Pipeline\n",
      "PIpeline:\n",
      "Pipeline(steps=[('simple_imputer', SimpleImputer()),\n",
      "                ('xgb_reg',\n",
      "                 XGBRFRegressor(base_score=0.5, booster='gbtree',\n",
      "                                callbacks=None, colsample_bylevel=1,\n",
      "                                colsample_bytree=1, early_stopping_rounds=None,\n",
      "                                enable_categorical=False, eval_metric=None,\n",
      "                                feature_types=None, gamma=0, gpu_id=-1,\n",
      "                                grow_policy='depthwise', importance_type=None,\n",
      "                                interaction_constraints='', max_bin=256,\n",
      "                                max_cat_threshold=64, max_cat_to_onehot=4,\n",
      "                                max_delta_step=0, max_depth=13, max_leaves=0,\n",
      "                                min_child_weight=1, missing=nan,\n",
      "                                monotone_constraints='()', n_estimators=100,\n",
      "                                n_jobs=0, num_parallel_tree=100,\n",
      "                                objective='reg:squarederror', predictor='auto',\n",
      "                                random_state=0, reg_alpha=0, ...))])\n",
      "Mean Absolute Error 3.0667\n",
      "Eval Pipeline\n",
      "PIpeline:\n",
      "Pipeline(steps=[('simple_imputer', SimpleImputer()),\n",
      "                ('linear_reg', LinearRegression())])\n",
      "Mean Absolute Error 3.8229\n"
     ]
    }
   ],
   "source": [
    "peval.estimators.append(('xgb_reg', xgb.XGBRFRegressor(max_depth=13, learning_rate=1.0)))\n",
    "\n",
    "peval.constructor()\n",
    "peval.fit_predict()\n",
    "\n"
   ]
  },
  {
   "cell_type": "code",
   "execution_count": 251,
   "metadata": {},
   "outputs": [
    {
     "name": "stdout",
     "output_type": "stream",
     "text": [
      "Eval Pipeline\n",
      "PIpeline:\n",
      "Pipeline(steps=[('simple_imputer', SimpleImputer()),\n",
      "                ('xgb_reg',\n",
      "                 XGBRFRegressor(base_score=0.5, booster='gbtree',\n",
      "                                callbacks=None, colsample_bylevel=1,\n",
      "                                colsample_bytree=1, early_stopping_rounds=None,\n",
      "                                enable_categorical=False, eval_metric=None,\n",
      "                                feature_types=None, gamma=0, gpu_id=-1,\n",
      "                                grow_policy='depthwise', importance_type=None,\n",
      "                                interaction_constraints='', max_bin=256,\n",
      "                                max_cat_threshold=64, max_cat_to_onehot=4,\n",
      "                                max_delta_step=0, max_depth=13, max_leaves=0,\n",
      "                                min_child_weight=1, missing=nan,\n",
      "                                monotone_constraints='()', n_estimators=100,\n",
      "                                n_jobs=0, num_parallel_tree=100,\n",
      "                                objective='reg:squarederror', predictor='auto',\n",
      "                                random_state=0, reg_alpha=0, ...))])\n",
      "Mean Absolute Error 3.0667\n",
      "Eval Pipeline\n",
      "PIpeline:\n",
      "Pipeline(steps=[('simple_imputer', SimpleImputer()),\n",
      "                ('linear_reg', LinearRegression())])\n",
      "Mean Absolute Error 3.8229\n"
     ]
    }
   ],
   "source": [
    "peval.fit_predict()"
   ]
  },
  {
   "cell_type": "code",
   "execution_count": 232,
   "metadata": {},
   "outputs": [],
   "source": [
    "peval.add_pipeline(Pipeline([\n",
    "    ('simple_imputer', SimpleImputer(missing_values=np.nan, strategy='mean')),\n",
    "    ('lasso_regression', linear_model.Lasso(alpha=0.1))\n",
    "]))"
   ]
  },
  {
   "cell_type": "code",
   "execution_count": 252,
   "metadata": {},
   "outputs": [],
   "source": [
    "peval.estimators.append(('lasso_regression', linear_model.Lasso(alpha=0.1)))"
   ]
  },
  {
   "cell_type": "code",
   "execution_count": 253,
   "metadata": {},
   "outputs": [],
   "source": [
    "peval.transformers.append(('standard_scaler', StandardScaler()))"
   ]
  },
  {
   "cell_type": "code",
   "execution_count": 255,
   "metadata": {},
   "outputs": [
    {
     "name": "stdout",
     "output_type": "stream",
     "text": [
      "[('simple_imputer', SimpleImputer()), ('standard_scaler', StandardScaler()), ('linear_reg', LinearRegression())]\n",
      "Pipeline was created\n",
      "Pipeline(steps=[('simple_imputer', SimpleImputer()),\n",
      "                ('standard_scaler', StandardScaler()),\n",
      "                ('linear_reg', LinearRegression())])\n",
      "[('simple_imputer', SimpleImputer()), ('standard_scaler', StandardScaler()), ('xgb_reg', XGBRFRegressor(base_score=None, booster=None, callbacks=None,\n",
      "               colsample_bylevel=None, colsample_bytree=None,\n",
      "               early_stopping_rounds=None, enable_categorical=False,\n",
      "               eval_metric=None, feature_types=None, gamma=None, gpu_id=None,\n",
      "               grow_policy=None, importance_type=None,\n",
      "               interaction_constraints=None, max_bin=None,\n",
      "               max_cat_threshold=None, max_cat_to_onehot=None,\n",
      "               max_delta_step=None, max_depth=13, max_leaves=None,\n",
      "               min_child_weight=None, missing=nan, monotone_constraints=None,\n",
      "               n_estimators=100, n_jobs=None, num_parallel_tree=None,\n",
      "               objective='reg:squarederror', predictor=None, random_state=None,\n",
      "               reg_alpha=None, ...))]\n",
      "Pipeline was created\n",
      "Pipeline(steps=[('simple_imputer', SimpleImputer()),\n",
      "                ('standard_scaler', StandardScaler()),\n",
      "                ('xgb_reg',\n",
      "                 XGBRFRegressor(base_score=None, booster=None, callbacks=None,\n",
      "                                colsample_bylevel=None, colsample_bytree=None,\n",
      "                                early_stopping_rounds=None,\n",
      "                                enable_categorical=False, eval_metric=None,\n",
      "                                feature_types=None, gamma=None, gpu_id=None,\n",
      "                                grow_policy=None, importance_type=None,\n",
      "                                interaction_constraints=None, max_bin=None,\n",
      "                                max_cat_threshold=None, max_cat_to_onehot=None,\n",
      "                                max_delta_step=None, max_depth=13,\n",
      "                                max_leaves=None, min_child_weight=None,\n",
      "                                missing=nan, monotone_constraints=None,\n",
      "                                n_estimators=100, n_jobs=None,\n",
      "                                num_parallel_tree=None,\n",
      "                                objective='reg:squarederror', predictor=None,\n",
      "                                random_state=None, reg_alpha=None, ...))])\n",
      "[('simple_imputer', SimpleImputer()), ('standard_scaler', StandardScaler()), ('lasso_regression', Lasso(alpha=0.1))]\n",
      "Pipeline was created\n",
      "Pipeline(steps=[('simple_imputer', SimpleImputer()),\n",
      "                ('standard_scaler', StandardScaler()),\n",
      "                ('lasso_regression', Lasso(alpha=0.1))])\n"
     ]
    }
   ],
   "source": [
    "peval.constructor()"
   ]
  },
  {
   "cell_type": "code",
   "execution_count": 256,
   "metadata": {},
   "outputs": [
    {
     "name": "stdout",
     "output_type": "stream",
     "text": [
      "Eval Pipeline\n",
      "PIpeline:\n",
      "Pipeline(steps=[('simple_imputer', SimpleImputer()),\n",
      "                ('standard_scaler', StandardScaler()),\n",
      "                ('lasso_regression', Lasso(alpha=0.1))])\n",
      "Mean Absolute Error 3.8122\n",
      "Eval Pipeline\n",
      "PIpeline:\n",
      "Pipeline(steps=[('simple_imputer', SimpleImputer()),\n",
      "                ('standard_scaler', StandardScaler()),\n",
      "                ('xgb_reg',\n",
      "                 XGBRFRegressor(base_score=0.5, booster='gbtree',\n",
      "                                callbacks=None, colsample_bylevel=1,\n",
      "                                colsample_bytree=1, early_stopping_rounds=None,\n",
      "                                enable_categorical=False, eval_metric=None,\n",
      "                                feature_types=None, gamma=0, gpu_id=-1,\n",
      "                                grow_policy='depthwise', importance_type=None,\n",
      "                                interaction_constraints='', max_bin=256,\n",
      "                                max_cat_threshold=64, max_cat_to_onehot=4,\n",
      "                                max_delta_step=0, max_depth=13, max_leaves=0,\n",
      "                                min_child_weight=1, missing=nan,\n",
      "                                monotone_constraints='()', n_estimators=100,\n",
      "                                n_jobs=0, num_parallel_tree=100,\n",
      "                                objective='reg:squarederror', predictor='auto',\n",
      "                                random_state=0, reg_alpha=0, ...))])\n",
      "Mean Absolute Error 3.0695\n",
      "Eval Pipeline\n",
      "PIpeline:\n",
      "Pipeline(steps=[('simple_imputer', SimpleImputer()),\n",
      "                ('linear_reg', LinearRegression())])\n",
      "Mean Absolute Error 3.8229\n",
      "Eval Pipeline\n",
      "PIpeline:\n",
      "Pipeline(steps=[('simple_imputer', SimpleImputer()),\n",
      "                ('xgb_reg',\n",
      "                 XGBRFRegressor(base_score=0.5, booster='gbtree',\n",
      "                                callbacks=None, colsample_bylevel=1,\n",
      "                                colsample_bytree=1, early_stopping_rounds=None,\n",
      "                                enable_categorical=False, eval_metric=None,\n",
      "                                feature_types=None, gamma=0, gpu_id=-1,\n",
      "                                grow_policy='depthwise', importance_type=None,\n",
      "                                interaction_constraints='', max_bin=256,\n",
      "                                max_cat_threshold=64, max_cat_to_onehot=4,\n",
      "                                max_delta_step=0, max_depth=13, max_leaves=0,\n",
      "                                min_child_weight=1, missing=nan,\n",
      "                                monotone_constraints='()', n_estimators=100,\n",
      "                                n_jobs=0, num_parallel_tree=100,\n",
      "                                objective='reg:squarederror', predictor='auto',\n",
      "                                random_state=0, reg_alpha=0, ...))])\n",
      "Mean Absolute Error 3.0667\n",
      "Eval Pipeline\n",
      "PIpeline:\n",
      "Pipeline(steps=[('simple_imputer', SimpleImputer()),\n",
      "                ('standard_scaler', StandardScaler()),\n",
      "                ('linear_reg', LinearRegression())])\n",
      "Mean Absolute Error 3.8229\n"
     ]
    }
   ],
   "source": [
    "peval.fit_predict()"
   ]
  },
  {
   "attachments": {},
   "cell_type": "markdown",
   "metadata": {},
   "source": [
    "Standard Scaler\n",
    "The standard scaler shift the data so that the mean is zero and the std deviation (unit variance) is one. "
   ]
  },
  {
   "attachments": {},
   "cell_type": "markdown",
   "metadata": {},
   "source": [
    "## Simple example from https://scikit-learn.org/stable/modules/preprocessing.html\n",
    "\n"
   ]
  },
  {
   "cell_type": "code",
   "execution_count": 7,
   "metadata": {},
   "outputs": [
    {
     "name": "stdout",
     "output_type": "stream",
     "text": [
      "Data mean: [1.         0.         0.33333333]\n",
      "Data scaler to adjust to zero mean: [0.81649658 0.81649658 1.24721913]\n",
      "Scaled data\n"
     ]
    },
    {
     "data": {
      "text/plain": [
       "array([[ 0.        , -1.22474487,  1.33630621],\n",
       "       [ 1.22474487,  0.        , -0.26726124],\n",
       "       [-1.22474487,  1.22474487, -1.06904497]])"
      ]
     },
     "execution_count": 7,
     "metadata": {},
     "output_type": "execute_result"
    }
   ],
   "source": [
    "raw_data = np.array([[1., -1., 2.],\n",
    "                [2.,  0., 0.],\n",
    "                [0., 1., -1.]])\n",
    "\n",
    "# Scaler is being fit to data \n",
    "scaler = preprocessing.StandardScaler().fit(raw_data)\n",
    "\n",
    "print(f\"Data mean: {scaler.mean_}\")\n",
    "print(f\"Data scaler to adjust to zero mean: {scaler.scale_}\")\n",
    "\n",
    "# The scaler is used to transform the data\n",
    "scaled_data = scaler.transform(raw_data)\n",
    "print(\"Scaled data\")\n",
    "scaled_data"
   ]
  },
  {
   "cell_type": "code",
   "execution_count": 8,
   "metadata": {},
   "outputs": [
    {
     "data": {
      "text/html": [
       "<div>\n",
       "<style scoped>\n",
       "    .dataframe tbody tr th:only-of-type {\n",
       "        vertical-align: middle;\n",
       "    }\n",
       "\n",
       "    .dataframe tbody tr th {\n",
       "        vertical-align: top;\n",
       "    }\n",
       "\n",
       "    .dataframe thead th {\n",
       "        text-align: right;\n",
       "    }\n",
       "</style>\n",
       "<table border=\"1\" class=\"dataframe\">\n",
       "  <thead>\n",
       "    <tr style=\"text-align: right;\">\n",
       "      <th></th>\n",
       "      <th>price</th>\n",
       "      <th>resid_area</th>\n",
       "      <th>room_num</th>\n",
       "      <th>teachers</th>\n",
       "    </tr>\n",
       "  </thead>\n",
       "  <tbody>\n",
       "    <tr>\n",
       "      <th>0</th>\n",
       "      <td>24.0</td>\n",
       "      <td>32.31</td>\n",
       "      <td>6.575</td>\n",
       "      <td>24.7</td>\n",
       "    </tr>\n",
       "    <tr>\n",
       "      <th>1</th>\n",
       "      <td>21.6</td>\n",
       "      <td>37.07</td>\n",
       "      <td>6.421</td>\n",
       "      <td>22.2</td>\n",
       "    </tr>\n",
       "    <tr>\n",
       "      <th>2</th>\n",
       "      <td>34.7</td>\n",
       "      <td>37.07</td>\n",
       "      <td>7.185</td>\n",
       "      <td>22.2</td>\n",
       "    </tr>\n",
       "    <tr>\n",
       "      <th>3</th>\n",
       "      <td>33.4</td>\n",
       "      <td>32.18</td>\n",
       "      <td>6.998</td>\n",
       "      <td>21.3</td>\n",
       "    </tr>\n",
       "    <tr>\n",
       "      <th>4</th>\n",
       "      <td>36.2</td>\n",
       "      <td>32.18</td>\n",
       "      <td>7.147</td>\n",
       "      <td>21.3</td>\n",
       "    </tr>\n",
       "  </tbody>\n",
       "</table>\n",
       "</div>"
      ],
      "text/plain": [
       "   price  resid_area  room_num  teachers\n",
       "0   24.0       32.31     6.575      24.7\n",
       "1   21.6       37.07     6.421      22.2\n",
       "2   34.7       37.07     7.185      22.2\n",
       "3   33.4       32.18     6.998      21.3\n",
       "4   36.2       32.18     7.147      21.3"
      ]
     },
     "execution_count": 8,
     "metadata": {},
     "output_type": "execute_result"
    }
   ],
   "source": [
    "# Use StandardScaler to normalized number of hospital beds\n",
    "nor_hosp_beds = preprocessing.StandardScaler().fit_transform(df[['n_hos_beds']])\n",
    "\n",
    "type(nor_hosp_beds)\n",
    "\n",
    "\n",
    "hp.head()"
   ]
  },
  {
   "cell_type": "code",
   "execution_count": 19,
   "metadata": {},
   "outputs": [
    {
     "data": {
      "text/html": [
       "<div>\n",
       "<style scoped>\n",
       "    .dataframe tbody tr th:only-of-type {\n",
       "        vertical-align: middle;\n",
       "    }\n",
       "\n",
       "    .dataframe tbody tr th {\n",
       "        vertical-align: top;\n",
       "    }\n",
       "\n",
       "    .dataframe thead th {\n",
       "        text-align: right;\n",
       "    }\n",
       "</style>\n",
       "<table border=\"1\" class=\"dataframe\">\n",
       "  <thead>\n",
       "    <tr style=\"text-align: right;\">\n",
       "      <th></th>\n",
       "      <th>price</th>\n",
       "      <th>resid_area</th>\n",
       "      <th>room_num</th>\n",
       "      <th>teachers</th>\n",
       "    </tr>\n",
       "  </thead>\n",
       "  <tbody>\n",
       "    <tr>\n",
       "      <th>0</th>\n",
       "      <td>24.0</td>\n",
       "      <td>-1.287909</td>\n",
       "      <td>0.413672</td>\n",
       "      <td>1.459000</td>\n",
       "    </tr>\n",
       "    <tr>\n",
       "      <th>1</th>\n",
       "      <td>21.6</td>\n",
       "      <td>-0.593381</td>\n",
       "      <td>0.194274</td>\n",
       "      <td>0.303094</td>\n",
       "    </tr>\n",
       "    <tr>\n",
       "      <th>2</th>\n",
       "      <td>34.7</td>\n",
       "      <td>-0.593381</td>\n",
       "      <td>1.282714</td>\n",
       "      <td>0.303094</td>\n",
       "    </tr>\n",
       "    <tr>\n",
       "      <th>3</th>\n",
       "      <td>33.4</td>\n",
       "      <td>-1.306878</td>\n",
       "      <td>1.016303</td>\n",
       "      <td>-0.113032</td>\n",
       "    </tr>\n",
       "    <tr>\n",
       "      <th>4</th>\n",
       "      <td>36.2</td>\n",
       "      <td>-1.306878</td>\n",
       "      <td>1.228577</td>\n",
       "      <td>-0.113032</td>\n",
       "    </tr>\n",
       "  </tbody>\n",
       "</table>\n",
       "</div>"
      ],
      "text/plain": [
       "   price  resid_area  room_num  teachers\n",
       "0   24.0   -1.287909  0.413672  1.459000\n",
       "1   21.6   -0.593381  0.194274  0.303094\n",
       "2   34.7   -0.593381  1.282714  0.303094\n",
       "3   33.4   -1.306878  1.016303 -0.113032\n",
       "4   36.2   -1.306878  1.228577 -0.113032"
      ]
     },
     "execution_count": 19,
     "metadata": {},
     "output_type": "execute_result"
    }
   ],
   "source": [
    "# hp = house prices\n",
    "# shp = scale house prices. It's imported to explicitly copy the data frame. \n",
    "# Otherwise pandas will use a view of the original data frame \n",
    "shp = hp.copy()\n",
    "shp.loc[:, ('resid_area', 'room_num', 'teachers')] = scaler.fit_transform(\n",
    "    shp[['resid_area', 'room_num', 'teachers']].to_numpy())\n",
    "\n",
    "shp.head()"
   ]
  },
  {
   "attachments": {},
   "cell_type": "markdown",
   "metadata": {},
   "source": [
    "## Simple pipeline that use the standard scaler and classification problem \n",
    "source: https://scikit-learn.org/stable/modules/preprocessing.html"
   ]
  },
  {
   "cell_type": "code",
   "execution_count": 21,
   "metadata": {},
   "outputs": [],
   "source": [
    "from sklearn.datasets import make_classification\n",
    "from sklearn.datasets import make_regression\n",
    "from sklearn.linear_model import LogisticRegression\n",
    "from sklearn.model_selection import train_test_split\n",
    "from sklearn.pipeline import make_pipeline\n",
    "from sklearn.preprocessing import StandardScaler"
   ]
  },
  {
   "cell_type": "code",
   "execution_count": 22,
   "metadata": {},
   "outputs": [
    {
     "data": {
      "text/plain": [
       "0.96"
      ]
     },
     "execution_count": 22,
     "metadata": {},
     "output_type": "execute_result"
    }
   ],
   "source": [
    "X, y = make_classification(random_state=42)\n",
    "X_train, X_test, y_train, y_test = train_test_split(X, y, random_state=42)\n",
    "pipe = make_pipeline(StandardScaler(), LogisticRegression())\n",
    "pipe.fit(X_train, y_train)\n",
    "\n",
    "pipe.score(X_test, y_test)\n"
   ]
  },
  {
   "cell_type": "code",
   "execution_count": 181,
   "metadata": {},
   "outputs": [
    {
     "name": "stdout",
     "output_type": "stream",
     "text": [
      "PIpeline:\n",
      "Pipeline(steps=[('simple_imputer', SimpleImputer()),\n",
      "                ('standard_scaler', StandardScaler()),\n",
      "                ('linear_reg', LinearRegression())])\n",
      "Mean Absolute Error 3.8229\n"
     ]
    }
   ],
   "source": [
    "pipe = Pipeline([\n",
    "    ('simple_imputer', SimpleImputer(missing_values=np.nan, strategy='mean')),\n",
    "    ('standard_scaler', StandardScaler()),\n",
    "    ('linear_reg', LinearRegression())\n",
    "])\n",
    "peval.eval_pipeline(pipe)"
   ]
  },
  {
   "attachments": {},
   "cell_type": "markdown",
   "metadata": {},
   "source": [
    "### Standardize value range, scalling the feature to lie between minimum and a maximum using `MinMaxScaler` and `MaxAbsScaler`\n",
    "\n",
    "The motivation for standardize to a range is to increase the effectiveness of data with small standard deviations and preserve zero enteries. "
   ]
  },
  {
   "cell_type": "code",
   "execution_count": 24,
   "metadata": {},
   "outputs": [
    {
     "data": {
      "text/plain": [
       "array([[ 1., -1.,  2.],\n",
       "       [ 2.,  0.,  0.],\n",
       "       [ 0.,  1., -1.]])"
      ]
     },
     "execution_count": 24,
     "metadata": {},
     "output_type": "execute_result"
    }
   ],
   "source": [
    "raw_data"
   ]
  },
  {
   "cell_type": "code",
   "execution_count": 36,
   "metadata": {},
   "outputs": [
    {
     "data": {
      "text/plain": [
       "array([[0.5       , 0.        , 1.        ],\n",
       "       [1.        , 0.5       , 0.33333333],\n",
       "       [0.        , 1.        , 0.        ]])"
      ]
     },
     "execution_count": 36,
     "metadata": {},
     "output_type": "execute_result"
    }
   ],
   "source": [
    "min_max_scaler = preprocessing.MinMaxScaler()\n",
    "raw_data_minmax_scaled = min_max_scaler.fit_transform(raw_data)\n",
    "raw_data_minmax_scaled\n",
    "\n",
    "# Why zero have two different value below? "
   ]
  },
  {
   "cell_type": "code",
   "execution_count": 35,
   "metadata": {},
   "outputs": [
    {
     "data": {
      "text/plain": [
       "array([[0.5       , 0.        , 1.        ],\n",
       "       [1.        , 0.5       , 0.33333333],\n",
       "       [0.        , 1.        , 0.        ]])"
      ]
     },
     "execution_count": 35,
     "metadata": {},
     "output_type": "execute_result"
    }
   ],
   "source": [
    "max_abs_scaler = preprocessing.MaxAbsScaler()\n",
    "raw_data_maxabs_scaled = max_abs_scaler.fit_transform(raw_data)\n",
    "raw_data_minmax_scaled"
   ]
  },
  {
   "cell_type": "code",
   "execution_count": 31,
   "metadata": {},
   "outputs": [
    {
     "data": {
      "text/plain": [
       "array([ 0., -1., -1.])"
      ]
     },
     "execution_count": 31,
     "metadata": {},
     "output_type": "execute_result"
    }
   ],
   "source": [
    "raw_data.min(axis=0)"
   ]
  },
  {
   "attachments": {},
   "cell_type": "markdown",
   "metadata": {},
   "source": [
    "### Standardize sparse data\n",
    "Normalize sparse data to a center will destroy the sparseness struture of the data. However, it can be useful to scale sparse inputs if the feature are on different scales. \n",
    "\n",
    "If there is a need to scale sparse data, use the MaxAbsScaler or the StandardScaler with_mean = False"
   ]
  },
  {
   "cell_type": "code",
   "execution_count": 39,
   "metadata": {},
   "outputs": [],
   "source": [
    "#todo learn what is sparse data and play with examples. \n",
    "\n",
    "sparse_data = np.array([[1., -1., 0., 0., 1., 0.],\n",
    "                        [2.,  0., 0., 0., 0., 0.],\n",
    "                        [0.,  1., 0., 0., 0., 1.],\n",
    "                        [1.,  0., 0., 0., 0., 1.],\n",
    "                        [0.,  1., 0., 0., 0., 0.]])\n"
   ]
  },
  {
   "cell_type": "code",
   "execution_count": 44,
   "metadata": {},
   "outputs": [],
   "source": [
    "max_abs_scaler = preprocessing.MaxAbsScaler()\n",
    "snd_scaler = preprocessing.StandardScaler(with_mean=False)"
   ]
  },
  {
   "cell_type": "code",
   "execution_count": 45,
   "metadata": {},
   "outputs": [
    {
     "data": {
      "text/plain": [
       "array([[ 0.5, -1. ,  0. ,  0. ,  1. ,  0. ],\n",
       "       [ 1. ,  0. ,  0. ,  0. ,  0. ,  0. ],\n",
       "       [ 0. ,  1. ,  0. ,  0. ,  0. ,  1. ],\n",
       "       [ 0.5,  0. ,  0. ,  0. ,  0. ,  1. ],\n",
       "       [ 0. ,  1. ,  0. ,  0. ,  0. ,  0. ]])"
      ]
     },
     "execution_count": 45,
     "metadata": {},
     "output_type": "execute_result"
    }
   ],
   "source": [
    "sparse_data_max_abs_scaled = max_abs_scaler.fit_transform(sparse_data)\n",
    "sparse_data_max_abs_scaled"
   ]
  },
  {
   "cell_type": "code",
   "execution_count": 46,
   "metadata": {},
   "outputs": [
    {
     "data": {
      "text/plain": [
       "array([[ 0.5, -1. ,  0. ,  0. ,  1. ,  0. ],\n",
       "       [ 1. ,  0. ,  0. ,  0. ,  0. ,  0. ],\n",
       "       [ 0. ,  1. ,  0. ,  0. ,  0. ,  1. ],\n",
       "       [ 0.5,  0. ,  0. ,  0. ,  0. ,  1. ],\n",
       "       [ 0. ,  1. ,  0. ,  0. ,  0. ,  0. ]])"
      ]
     },
     "execution_count": 46,
     "metadata": {},
     "output_type": "execute_result"
    }
   ],
   "source": [
    "sparse_data_snd_scaled = snd_scaler.fit_transform(sparse_data)\n",
    "sparse_data_max_abs_scaled"
   ]
  },
  {
   "attachments": {},
   "cell_type": "markdown",
   "metadata": {},
   "source": [
    "## Using RobustScaler to deal with outlier\n",
    "\n",
    "Test data will by the number of hospital rooms in the house pricing dataset"
   ]
  },
  {
   "cell_type": "code",
   "execution_count": 48,
   "metadata": {},
   "outputs": [
    {
     "data": {
      "text/html": [
       "<div>\n",
       "<style scoped>\n",
       "    .dataframe tbody tr th:only-of-type {\n",
       "        vertical-align: middle;\n",
       "    }\n",
       "\n",
       "    .dataframe tbody tr th {\n",
       "        vertical-align: top;\n",
       "    }\n",
       "\n",
       "    .dataframe thead th {\n",
       "        text-align: right;\n",
       "    }\n",
       "</style>\n",
       "<table border=\"1\" class=\"dataframe\">\n",
       "  <thead>\n",
       "    <tr style=\"text-align: right;\">\n",
       "      <th></th>\n",
       "      <th>price</th>\n",
       "      <th>crime_rate</th>\n",
       "      <th>resid_area</th>\n",
       "      <th>air_qual</th>\n",
       "      <th>room_num</th>\n",
       "      <th>age</th>\n",
       "      <th>dist1</th>\n",
       "      <th>dist2</th>\n",
       "      <th>dist3</th>\n",
       "      <th>dist4</th>\n",
       "      <th>teachers</th>\n",
       "      <th>poor_prop</th>\n",
       "      <th>airport</th>\n",
       "      <th>n_hos_beds</th>\n",
       "      <th>n_hot_rooms</th>\n",
       "      <th>waterbody</th>\n",
       "      <th>rainfall</th>\n",
       "      <th>bus_ter</th>\n",
       "      <th>parks</th>\n",
       "    </tr>\n",
       "  </thead>\n",
       "  <tbody>\n",
       "    <tr>\n",
       "      <th>0</th>\n",
       "      <td>24.0</td>\n",
       "      <td>0.00632</td>\n",
       "      <td>32.31</td>\n",
       "      <td>0.538</td>\n",
       "      <td>6.575</td>\n",
       "      <td>65.2</td>\n",
       "      <td>4.35</td>\n",
       "      <td>3.81</td>\n",
       "      <td>4.18</td>\n",
       "      <td>4.01</td>\n",
       "      <td>24.7</td>\n",
       "      <td>4.98</td>\n",
       "      <td>YES</td>\n",
       "      <td>5.480</td>\n",
       "      <td>11.1920</td>\n",
       "      <td>River</td>\n",
       "      <td>23</td>\n",
       "      <td>YES</td>\n",
       "      <td>0.049347</td>\n",
       "    </tr>\n",
       "    <tr>\n",
       "      <th>1</th>\n",
       "      <td>21.6</td>\n",
       "      <td>0.02731</td>\n",
       "      <td>37.07</td>\n",
       "      <td>0.469</td>\n",
       "      <td>6.421</td>\n",
       "      <td>78.9</td>\n",
       "      <td>4.99</td>\n",
       "      <td>4.70</td>\n",
       "      <td>5.12</td>\n",
       "      <td>5.06</td>\n",
       "      <td>22.2</td>\n",
       "      <td>9.14</td>\n",
       "      <td>NO</td>\n",
       "      <td>7.332</td>\n",
       "      <td>12.1728</td>\n",
       "      <td>Lake</td>\n",
       "      <td>42</td>\n",
       "      <td>YES</td>\n",
       "      <td>0.046146</td>\n",
       "    </tr>\n",
       "    <tr>\n",
       "      <th>2</th>\n",
       "      <td>34.7</td>\n",
       "      <td>0.02729</td>\n",
       "      <td>37.07</td>\n",
       "      <td>0.469</td>\n",
       "      <td>7.185</td>\n",
       "      <td>61.1</td>\n",
       "      <td>5.03</td>\n",
       "      <td>4.86</td>\n",
       "      <td>5.01</td>\n",
       "      <td>4.97</td>\n",
       "      <td>22.2</td>\n",
       "      <td>4.03</td>\n",
       "      <td>NO</td>\n",
       "      <td>7.394</td>\n",
       "      <td>101.1200</td>\n",
       "      <td>None</td>\n",
       "      <td>38</td>\n",
       "      <td>YES</td>\n",
       "      <td>0.045764</td>\n",
       "    </tr>\n",
       "    <tr>\n",
       "      <th>3</th>\n",
       "      <td>33.4</td>\n",
       "      <td>0.03237</td>\n",
       "      <td>32.18</td>\n",
       "      <td>0.458</td>\n",
       "      <td>6.998</td>\n",
       "      <td>45.8</td>\n",
       "      <td>6.21</td>\n",
       "      <td>5.93</td>\n",
       "      <td>6.16</td>\n",
       "      <td>5.96</td>\n",
       "      <td>21.3</td>\n",
       "      <td>2.94</td>\n",
       "      <td>YES</td>\n",
       "      <td>9.268</td>\n",
       "      <td>11.2672</td>\n",
       "      <td>Lake</td>\n",
       "      <td>45</td>\n",
       "      <td>YES</td>\n",
       "      <td>0.047151</td>\n",
       "    </tr>\n",
       "    <tr>\n",
       "      <th>4</th>\n",
       "      <td>36.2</td>\n",
       "      <td>0.06905</td>\n",
       "      <td>32.18</td>\n",
       "      <td>0.458</td>\n",
       "      <td>7.147</td>\n",
       "      <td>54.2</td>\n",
       "      <td>6.16</td>\n",
       "      <td>5.86</td>\n",
       "      <td>6.37</td>\n",
       "      <td>5.86</td>\n",
       "      <td>21.3</td>\n",
       "      <td>5.33</td>\n",
       "      <td>NO</td>\n",
       "      <td>8.824</td>\n",
       "      <td>11.2896</td>\n",
       "      <td>Lake</td>\n",
       "      <td>55</td>\n",
       "      <td>YES</td>\n",
       "      <td>0.039474</td>\n",
       "    </tr>\n",
       "  </tbody>\n",
       "</table>\n",
       "</div>"
      ],
      "text/plain": [
       "   price  crime_rate  resid_area  air_qual  room_num   age  dist1  dist2  \\\n",
       "0   24.0     0.00632       32.31     0.538     6.575  65.2   4.35   3.81   \n",
       "1   21.6     0.02731       37.07     0.469     6.421  78.9   4.99   4.70   \n",
       "2   34.7     0.02729       37.07     0.469     7.185  61.1   5.03   4.86   \n",
       "3   33.4     0.03237       32.18     0.458     6.998  45.8   6.21   5.93   \n",
       "4   36.2     0.06905       32.18     0.458     7.147  54.2   6.16   5.86   \n",
       "\n",
       "   dist3  dist4  teachers  poor_prop airport  n_hos_beds  n_hot_rooms  \\\n",
       "0   4.18   4.01      24.7       4.98     YES       5.480      11.1920   \n",
       "1   5.12   5.06      22.2       9.14      NO       7.332      12.1728   \n",
       "2   5.01   4.97      22.2       4.03      NO       7.394     101.1200   \n",
       "3   6.16   5.96      21.3       2.94     YES       9.268      11.2672   \n",
       "4   6.37   5.86      21.3       5.33      NO       8.824      11.2896   \n",
       "\n",
       "  waterbody  rainfall bus_ter     parks  \n",
       "0     River        23     YES  0.049347  \n",
       "1      Lake        42     YES  0.046146  \n",
       "2      None        38     YES  0.045764  \n",
       "3      Lake        45     YES  0.047151  \n",
       "4      Lake        55     YES  0.039474  "
      ]
     },
     "execution_count": 48,
     "metadata": {},
     "output_type": "execute_result"
    }
   ],
   "source": [
    "df.head()"
   ]
  },
  {
   "cell_type": "code",
   "execution_count": 64,
   "metadata": {},
   "outputs": [],
   "source": [
    "hp2 = df[['price', 'n_hot_rooms', 'rainfall']].copy()"
   ]
  },
  {
   "cell_type": "code",
   "execution_count": 56,
   "metadata": {},
   "outputs": [
    {
     "data": {
      "text/plain": [
       "<seaborn.axisgrid.JointGrid at 0x7f1fa76f2610>"
      ]
     },
     "execution_count": 56,
     "metadata": {},
     "output_type": "execute_result"
    },
    {
     "data": {
      "image/png": "[encoded data removed]",
      "text/plain": [
       "<Figure size 600x600 with 3 Axes>"
      ]
     },
     "metadata": {},
     "output_type": "display_data"
    }
   ],
   "source": [
    "sns.jointplot(x='n_hot_rooms', y='price', data=hp2)"
   ]
  },
  {
   "cell_type": "code",
   "execution_count": 59,
   "metadata": {},
   "outputs": [],
   "source": [
    "robust_scaler = preprocessing.RobustScaler(unit_variance=True)\n",
    "hp2.loc[:, ('n_hot_rooms')] = robust_scaler.fit_transform(hp2[['n_hot_rooms']])"
   ]
  },
  {
   "cell_type": "code",
   "execution_count": 60,
   "metadata": {},
   "outputs": [
    {
     "data": {
      "text/plain": [
       "<seaborn.axisgrid.JointGrid at 0x7f1fa8b4b640>"
      ]
     },
     "execution_count": 60,
     "metadata": {},
     "output_type": "execute_result"
    },
    {
     "data": {
      "image/png": "[encoded data removed]",
      "text/plain": [
       "<Figure size 600x600 with 3 Axes>"
      ]
     },
     "metadata": {},
     "output_type": "display_data"
    }
   ],
   "source": [
    "sns.jointplot(x='n_hot_rooms', y='price', data=hp2)"
   ]
  },
  {
   "cell_type": "code",
   "execution_count": 78,
   "metadata": {},
   "outputs": [
    {
     "data": {
      "text/plain": [
       "array([ 1,  1, -1,  1, -1,  1,  1,  1,  1,  1,  1,  1,  1,  1,  1,  1,  1,\n",
       "        1,  1,  1,  1,  1,  1,  1,  1,  1,  1,  1,  1,  1,  1,  1,  1,  1,\n",
       "        1,  1,  1,  1,  1,  1, -1,  1,  1,  1,  1,  1,  1,  1,  1,  1,  1,\n",
       "        1,  1,  1,  1, -1,  1, -1,  1,  1,  1,  1,  1,  1, -1,  1,  1,  1,\n",
       "        1,  1,  1,  1,  1,  1,  1,  1,  1,  1,  1,  1,  1,  1,  1,  1,  1,\n",
       "        1,  1,  1,  1, -1,  1,  1,  1,  1,  1,  1,  1, -1, -1, -1, -1, -1,\n",
       "        1,  1,  1,  1,  1,  1,  1,  1,  1,  1,  1,  1,  1,  1,  1,  1,  1,\n",
       "        1,  1,  1,  1, -1,  1,  1, -1,  1,  1, -1,  1,  1,  1, -1,  1,  1,\n",
       "       -1,  1,  1, -1, -1,  1,  1,  1, -1, -1, -1,  1,  1,  1,  1,  1, -1,\n",
       "        1,  1,  1, -1, -1,  1,  1,  1, -1, -1, -1,  1,  1, -1,  1,  1,  1,\n",
       "        1,  1,  1,  1,  1,  1,  1,  1,  1, -1, -1, -1, -1, -1, -1,  1, -1,\n",
       "       -1, -1, -1,  1,  1, -1, -1,  1, -1, -1,  1, -1, -1, -1,  1, -1, -1,\n",
       "       -1,  1,  1,  1,  1,  1,  1,  1,  1, -1,  1,  1,  1,  1,  1,  1,  1,\n",
       "        1,  1,  1, -1, -1, -1, -1, -1, -1,  1, -1, -1, -1, -1,  1,  1,  1,\n",
       "        1,  1,  1,  1,  1,  1,  1, -1,  1,  1,  1,  1,  1,  1,  1, -1,  1,\n",
       "        1, -1, -1, -1,  1,  1, -1, -1,  1, -1,  1, -1, -1, -1,  1,  1, -1,\n",
       "        1, -1,  1,  1,  1,  1, -1, -1, -1, -1, -1, -1,  1,  1,  1,  1,  1,\n",
       "        1,  1, -1,  1,  1,  1, -1, -1,  1,  1,  1,  1,  1,  1, -1, -1, -1,\n",
       "        1,  1,  1,  1,  1,  1,  1,  1,  1,  1,  1,  1,  1,  1,  1,  1,  1,\n",
       "        1,  1,  1,  1,  1,  1,  1,  1,  1,  1,  1,  1,  1,  1,  1,  1,  1,\n",
       "        1, -1,  1,  1,  1,  1,  1,  1,  1,  1,  1,  1,  1,  1,  1,  1,  1,\n",
       "        1,  1,  1, -1,  1,  1,  1,  1,  1,  1,  1, -1, -1, -1, -1, -1,  1,\n",
       "        1,  1,  1,  1,  1, -1, -1, -1,  1, -1, -1, -1, -1, -1, -1,  1,  1,\n",
       "        1, -1,  1,  1,  1,  1, -1, -1, -1, -1, -1,  1, -1, -1, -1,  1,  1,\n",
       "        1,  1,  1,  1,  1,  1, -1, -1, -1, -1, -1, -1,  1, -1,  1, -1,  1,\n",
       "       -1, -1,  1,  1, -1,  1,  1, -1, -1,  1,  1, -1, -1, -1,  1,  1,  1,\n",
       "        1,  1,  1,  1,  1,  1,  1,  1,  1,  1,  1,  1,  1,  1,  1,  1,  1,\n",
       "        1,  1,  1,  1,  1,  1,  1,  1,  1,  1,  1,  1,  1,  1, -1,  1,  1,\n",
       "        1, -1,  1,  1,  1,  1,  1,  1,  1,  1,  1,  1,  1, -1, -1,  1,  1,\n",
       "        1,  1,  1,  1,  1,  1,  1,  1,  1,  1,  1,  1,  1])"
      ]
     },
     "execution_count": 78,
     "metadata": {},
     "output_type": "execute_result"
    }
   ],
   "source": [
    "from sklearn.ensemble import IsolationForest\n",
    "isf_perdiction = IsolationForest(random_state=0).fit_predict(hp2[['n_hot_rooms']])\n",
    "#clf.predict(hp2[['n_hot_rooms']])\n",
    "isf_perdiction"
   ]
  },
  {
   "cell_type": "code",
   "execution_count": 75,
   "metadata": {},
   "outputs": [
    {
     "data": {
      "text/plain": [
       "n_hot_rooms    101.12\n",
       "dtype: float64"
      ]
     },
     "execution_count": 75,
     "metadata": {},
     "output_type": "execute_result"
    }
   ],
   "source": [
    "hp2[['n_hot_rooms']].max()"
   ]
  },
  {
   "cell_type": "code",
   "execution_count": 81,
   "metadata": {},
   "outputs": [
    {
     "data": {
      "text/plain": [
       "array([ 1,  1, -1,  1,  1, -1,  1,  1,  1,  1,  1,  1,  1,  1,  1,  1,  1,\n",
       "        1,  1,  1,  1,  1,  1,  1,  1,  1,  1,  1,  1,  1,  1,  1,  1,  1,\n",
       "        1,  1,  1,  1,  1,  1,  1, -1,  1,  1,  1,  1,  1,  1,  1,  1,  1,\n",
       "        1,  1,  1,  1,  1,  1,  1,  1,  1,  1,  1,  1,  1,  1,  1,  1,  1,\n",
       "        1,  1,  1,  1,  1,  1,  1,  1,  1,  1,  1,  1, -1,  1,  1,  1,  1,\n",
       "        1,  1,  1,  1, -1,  1,  1,  1,  1,  1, -1,  1, -1, -1,  1, -1, -1,\n",
       "        1,  1,  1,  1,  1,  1,  1,  1,  1,  1,  1,  1,  1,  1,  1,  1,  1,\n",
       "        1,  1,  1,  1,  1,  1,  1,  1,  1,  1,  1,  1,  1,  1,  1,  1,  1,\n",
       "        1,  1,  1,  1,  1,  1,  1,  1,  1,  1,  1,  1,  1,  1,  1,  1,  1,\n",
       "        1,  1,  1,  1,  1,  1,  1,  1, -1, -1, -1,  1, -1, -1,  1,  1,  1,\n",
       "        1,  1,  1,  1,  1,  1,  1,  1,  1,  1,  1,  1,  1,  1,  1,  1,  1,\n",
       "       -1,  1,  1,  1,  1,  1, -1,  1, -1,  1,  1,  1,  1,  1,  1, -1, -1,\n",
       "       -1,  1,  1,  1,  1,  1,  1,  1,  1,  1,  1, -1,  1, -1,  1,  1,  1,\n",
       "        1,  1,  1, -1,  1,  1,  1, -1,  1,  1,  1, -1, -1, -1,  1,  1,  1,\n",
       "        1,  1,  1,  1,  1,  1,  1,  1,  1,  1,  1,  1,  1, -1,  1,  1,  1,\n",
       "        1,  1, -1,  1,  1,  1, -1,  1,  1,  1,  1,  1, -1,  1,  1,  1,  1,\n",
       "        1,  1,  1,  1,  1,  1,  1,  1, -1,  1, -1,  1,  1,  1,  1,  1,  1,\n",
       "        1,  1,  1,  1,  1,  1,  1,  1,  1,  1,  1,  1,  1,  1,  1,  1, -1,\n",
       "        1,  1,  1,  1,  1,  1,  1,  1,  1,  1,  1,  1,  1,  1,  1,  1,  1,\n",
       "        1,  1,  1,  1,  1,  1,  1,  1,  1,  1,  1,  1,  1,  1,  1,  1,  1,\n",
       "        1, -1,  1,  1,  1, -1,  1,  1,  1,  1,  1,  1,  1,  1,  1,  1,  1,\n",
       "        1,  1,  1,  1,  1,  1,  1,  1,  1,  1,  1,  1, -1, -1,  1, -1,  1,\n",
       "        1,  1,  1,  1,  1,  1, -1,  1,  1,  1, -1, -1,  1, -1,  1,  1,  1,\n",
       "        1, -1,  1,  1,  1,  1, -1, -1, -1, -1, -1,  1, -1,  1, -1,  1, -1,\n",
       "        1, -1,  1,  1,  1,  1,  1, -1, -1,  1,  1, -1,  1,  1,  1, -1,  1,\n",
       "       -1, -1,  1,  1,  1,  1,  1,  1,  1,  1,  1,  1,  1, -1,  1,  1,  1,\n",
       "        1,  1,  1,  1,  1,  1,  1,  1,  1,  1,  1,  1,  1,  1,  1,  1,  1,\n",
       "        1,  1,  1,  1,  1,  1,  1,  1,  1,  1,  1,  1,  1,  1, -1,  1,  1,\n",
       "        1,  1,  1,  1,  1,  1,  1,  1,  1,  1,  1,  1,  1, -1, -1,  1,  1,\n",
       "        1,  1,  1,  1,  1,  1,  1,  1,  1,  1,  1,  1,  1])"
      ]
     },
     "execution_count": 81,
     "metadata": {},
     "output_type": "execute_result"
    }
   ],
   "source": [
    "from sklearn.neighbors import LocalOutlierFactor\n",
    "lof = LocalOutlierFactor(n_neighbors=10)\n",
    "lof_prediction = lof.fit_predict(hp2[['n_hot_rooms']])\n",
    "lof_prediction"
   ]
  },
  {
   "cell_type": "code",
   "execution_count": 84,
   "metadata": {},
   "outputs": [],
   "source": [
    "hot_rooms = hp2[['n_hot_rooms']].copy()"
   ]
  },
  {
   "cell_type": "code",
   "execution_count": 103,
   "metadata": {},
   "outputs": [],
   "source": [
    "def is_outlier(X, mean, std, std_from_mean = 2):\n",
    "    if X > (mean + (std * std_from_mean)) or X < (mean - (std * std_from_mean)):\n",
    "        return -1\n",
    "    else:\n",
    "        return 1"
   ]
  },
  {
   "cell_type": "code",
   "execution_count": 106,
   "metadata": {},
   "outputs": [
    {
     "data": {
      "text/plain": [
       "0       11.1920\n",
       "1       12.1728\n",
       "2      101.1200\n",
       "3       11.2672\n",
       "4       11.2896\n",
       "         ...   \n",
       "501     12.1792\n",
       "502     13.1648\n",
       "503     12.1912\n",
       "504     15.1760\n",
       "505     10.1520\n",
       "Name: n_hot_rooms, Length: 506, dtype: float64"
      ]
     },
     "execution_count": 106,
     "metadata": {},
     "output_type": "execute_result"
    }
   ],
   "source": [
    "hot_rooms['n_hot_rooms']"
   ]
  },
  {
   "cell_type": "code",
   "execution_count": 107,
   "metadata": {},
   "outputs": [
    {
     "name": "stdout",
     "output_type": "stream",
     "text": [
      " X: 101.12, mean: 13.041604743083003, std: 5.238956632876972\n"
     ]
    },
    {
     "data": {
      "text/plain": [
       "-1"
      ]
     },
     "execution_count": 107,
     "metadata": {},
     "output_type": "execute_result"
    }
   ],
   "source": [
    "X = hot_rooms['n_hot_rooms'][2]\n",
    "mean = hot_rooms['n_hot_rooms'].mean()\n",
    "std = hot_rooms['n_hot_rooms'].std()\n",
    "\n",
    "print(f\" X: {X}, mean: {mean}, std: {std}\")\n",
    "\n",
    "is_outlier(\n",
    "    X=X, \n",
    "    mean=mean, \n",
    "    std=std)"
   ]
  },
  {
   "cell_type": "code",
   "execution_count": 116,
   "metadata": {},
   "outputs": [],
   "source": [
    "mean = hot_rooms['n_hot_rooms'].mean()\n",
    "std = hot_rooms['n_hot_rooms'].std()\n",
    "\n",
    "hot_rooms['is_outlier'] = hot_rooms.apply(lambda x: is_outlier(\n",
    "    X = x['n_hot_rooms'],\n",
    "    mean = x.mean(),\n",
    "    std = x.std()\n",
    "), axis=1)"
   ]
  },
  {
   "cell_type": "code",
   "execution_count": 123,
   "metadata": {},
   "outputs": [],
   "source": [
    "hot_rooms['local_outlier'] = lof_prediction.tolist()"
   ]
  },
  {
   "cell_type": "code",
   "execution_count": 132,
   "metadata": {},
   "outputs": [],
   "source": [
    "hot_rooms['isolation_forest'] = isf_perdiction.tolist()"
   ]
  },
  {
   "cell_type": "code",
   "execution_count": 125,
   "metadata": {},
   "outputs": [
    {
     "data": {
      "text/plain": [
       "0.8774703557312253"
      ]
     },
     "execution_count": 125,
     "metadata": {},
     "output_type": "execute_result"
    }
   ],
   "source": [
    "from sklearn.metrics import accuracy_score\n",
    "accuracy_score(hot_rooms['is_outlier'], hot_rooms['local_outlier'])"
   ]
  },
  {
   "cell_type": "code",
   "execution_count": 134,
   "metadata": {},
   "outputs": [
    {
     "data": {
      "text/plain": [
       "0.7470355731225297"
      ]
     },
     "execution_count": 134,
     "metadata": {},
     "output_type": "execute_result"
    }
   ],
   "source": [
    "accuracy_score(hot_rooms['is_outlier'], hot_rooms['isolation_forest'])"
   ]
  },
  {
   "cell_type": "code",
   "execution_count": 147,
   "metadata": {},
   "outputs": [
    {
     "data": {
      "text/plain": [
       "1.0"
      ]
     },
     "execution_count": 147,
     "metadata": {},
     "output_type": "execute_result"
    }
   ],
   "source": [
    "lof = LocalOutlierFactor(n_neighbors=100, algorithm='brute')\n",
    "lof_prediction = lof.fit_predict(hp2[['n_hot_rooms']])\n",
    "accuracy_score(hot_rooms['is_outlier'], lof_prediction.tolist())"
   ]
  },
  {
   "cell_type": "code",
   "execution_count": 148,
   "metadata": {},
   "outputs": [],
   "source": [
    "from sklearn.covariance import EllipticEnvelope"
   ]
  },
  {
   "cell_type": "code",
   "execution_count": 172,
   "metadata": {},
   "outputs": [],
   "source": [
    "cov = EllipticEnvelope(contamination=0.0001, assume_centered=True).fit(hp2[['n_hot_rooms']])\n",
    "#accuracy_score(hot_rooms['is_outlier'], cov_prediction.tolist())"
   ]
  },
  {
   "cell_type": "code",
   "execution_count": 173,
   "metadata": {},
   "outputs": [
    {
     "data": {
      "text/plain": [
       "array([[164.91485257]])"
      ]
     },
     "execution_count": 173,
     "metadata": {},
     "output_type": "execute_result"
    }
   ],
   "source": [
    "cov.covariance_"
   ]
  },
  {
   "cell_type": "code",
   "execution_count": 162,
   "metadata": {},
   "outputs": [
    {
     "data": {
      "text/html": [
       "<div>\n",
       "<style scoped>\n",
       "    .dataframe tbody tr th:only-of-type {\n",
       "        vertical-align: middle;\n",
       "    }\n",
       "\n",
       "    .dataframe tbody tr th {\n",
       "        vertical-align: top;\n",
       "    }\n",
       "\n",
       "    .dataframe thead th {\n",
       "        text-align: right;\n",
       "    }\n",
       "</style>\n",
       "<table border=\"1\" class=\"dataframe\">\n",
       "  <thead>\n",
       "    <tr style=\"text-align: right;\">\n",
       "      <th></th>\n",
       "      <th>n_hot_rooms</th>\n",
       "      <th>is_outlier</th>\n",
       "      <th>local_outlier</th>\n",
       "      <th>isolation_forest</th>\n",
       "      <th>covariance_outlier</th>\n",
       "    </tr>\n",
       "  </thead>\n",
       "  <tbody>\n",
       "    <tr>\n",
       "      <th>0</th>\n",
       "      <td>11.1920</td>\n",
       "      <td>1</td>\n",
       "      <td>1</td>\n",
       "      <td>1</td>\n",
       "      <td>1</td>\n",
       "    </tr>\n",
       "    <tr>\n",
       "      <th>1</th>\n",
       "      <td>12.1728</td>\n",
       "      <td>1</td>\n",
       "      <td>1</td>\n",
       "      <td>1</td>\n",
       "      <td>1</td>\n",
       "    </tr>\n",
       "    <tr>\n",
       "      <th>2</th>\n",
       "      <td>101.1200</td>\n",
       "      <td>-1</td>\n",
       "      <td>-1</td>\n",
       "      <td>-1</td>\n",
       "      <td>-1</td>\n",
       "    </tr>\n",
       "    <tr>\n",
       "      <th>3</th>\n",
       "      <td>11.2672</td>\n",
       "      <td>1</td>\n",
       "      <td>1</td>\n",
       "      <td>1</td>\n",
       "      <td>1</td>\n",
       "    </tr>\n",
       "    <tr>\n",
       "      <th>4</th>\n",
       "      <td>11.2896</td>\n",
       "      <td>1</td>\n",
       "      <td>1</td>\n",
       "      <td>-1</td>\n",
       "      <td>1</td>\n",
       "    </tr>\n",
       "  </tbody>\n",
       "</table>\n",
       "</div>"
      ],
      "text/plain": [
       "   n_hot_rooms  is_outlier  local_outlier  isolation_forest  \\\n",
       "0      11.1920           1              1                 1   \n",
       "1      12.1728           1              1                 1   \n",
       "2     101.1200          -1             -1                -1   \n",
       "3      11.2672           1              1                 1   \n",
       "4      11.2896           1              1                -1   \n",
       "\n",
       "   covariance_outlier  \n",
       "0                   1  \n",
       "1                   1  \n",
       "2                  -1  \n",
       "3                   1  \n",
       "4                   1  "
      ]
     },
     "execution_count": 162,
     "metadata": {},
     "output_type": "execute_result"
    }
   ],
   "source": [
    "hot_rooms['covariance_outlier'] = cov_prediction.tolist()\n",
    "hot_rooms.head(5)"
   ]
  },
  {
   "cell_type": "code",
   "execution_count": 163,
   "metadata": {},
   "outputs": [
    {
     "data": {
      "text/html": [
       "<div>\n",
       "<style scoped>\n",
       "    .dataframe tbody tr th:only-of-type {\n",
       "        vertical-align: middle;\n",
       "    }\n",
       "\n",
       "    .dataframe tbody tr th {\n",
       "        vertical-align: top;\n",
       "    }\n",
       "\n",
       "    .dataframe thead th {\n",
       "        text-align: right;\n",
       "    }\n",
       "</style>\n",
       "<table border=\"1\" class=\"dataframe\">\n",
       "  <thead>\n",
       "    <tr style=\"text-align: right;\">\n",
       "      <th></th>\n",
       "      <th>n_hot_rooms</th>\n",
       "      <th>is_outlier</th>\n",
       "      <th>local_outlier</th>\n",
       "      <th>isolation_forest</th>\n",
       "      <th>covariance_outlier</th>\n",
       "    </tr>\n",
       "  </thead>\n",
       "  <tbody>\n",
       "    <tr>\n",
       "      <th>423</th>\n",
       "      <td>81.12</td>\n",
       "      <td>-1</td>\n",
       "      <td>-1</td>\n",
       "      <td>-1</td>\n",
       "      <td>1</td>\n",
       "    </tr>\n",
       "  </tbody>\n",
       "</table>\n",
       "</div>"
      ],
      "text/plain": [
       "     n_hot_rooms  is_outlier  local_outlier  isolation_forest  \\\n",
       "423        81.12          -1             -1                -1   \n",
       "\n",
       "     covariance_outlier  \n",
       "423                   1  "
      ]
     },
     "execution_count": 163,
     "metadata": {},
     "output_type": "execute_result"
    }
   ],
   "source": [
    "hot_rooms[hot_rooms.is_outlier != hot_rooms.covariance_outlier]"
   ]
  },
  {
   "cell_type": "code",
   "execution_count": 168,
   "metadata": {},
   "outputs": [
    {
     "data": {
      "text/html": [
       "<div>\n",
       "<style scoped>\n",
       "    .dataframe tbody tr th:only-of-type {\n",
       "        vertical-align: middle;\n",
       "    }\n",
       "\n",
       "    .dataframe tbody tr th {\n",
       "        vertical-align: top;\n",
       "    }\n",
       "\n",
       "    .dataframe thead th {\n",
       "        text-align: right;\n",
       "    }\n",
       "</style>\n",
       "<table border=\"1\" class=\"dataframe\">\n",
       "  <thead>\n",
       "    <tr style=\"text-align: right;\">\n",
       "      <th></th>\n",
       "      <th>n_hot_rooms</th>\n",
       "      <th>is_outlier</th>\n",
       "      <th>local_outlier</th>\n",
       "      <th>isolation_forest</th>\n",
       "      <th>covariance_outlier</th>\n",
       "    </tr>\n",
       "  </thead>\n",
       "  <tbody>\n",
       "    <tr>\n",
       "      <th>2</th>\n",
       "      <td>101.12</td>\n",
       "      <td>-1</td>\n",
       "      <td>-1</td>\n",
       "      <td>-1</td>\n",
       "      <td>-1</td>\n",
       "    </tr>\n",
       "    <tr>\n",
       "      <th>423</th>\n",
       "      <td>81.12</td>\n",
       "      <td>-1</td>\n",
       "      <td>-1</td>\n",
       "      <td>-1</td>\n",
       "      <td>1</td>\n",
       "    </tr>\n",
       "  </tbody>\n",
       "</table>\n",
       "</div>"
      ],
      "text/plain": [
       "     n_hot_rooms  is_outlier  local_outlier  isolation_forest  \\\n",
       "2         101.12          -1             -1                -1   \n",
       "423        81.12          -1             -1                -1   \n",
       "\n",
       "     covariance_outlier  \n",
       "2                    -1  \n",
       "423                   1  "
      ]
     },
     "execution_count": 168,
     "metadata": {},
     "output_type": "execute_result"
    }
   ],
   "source": [
    "hot_rooms[hot_rooms.is_outlier == -1] "
   ]
  },
  {
   "cell_type": "code",
   "execution_count": 11,
   "metadata": {},
   "outputs": [],
   "source": [
    "KNOWN_REGRESSORS = {\n",
    "    r.__name__: r\n",
    "    for r in [LinearRegression, XGBRegressor]\n",
    "}"
   ]
  },
  {
   "cell_type": "code",
   "execution_count": 12,
   "metadata": {},
   "outputs": [
    {
     "name": "stdout",
     "output_type": "stream",
     "text": [
      "('LinearRegression', <class 'sklearn.linear_model._base.LinearRegression'>)\n",
      "('XGBRegressor', <class 'xgboost.sklearn.XGBRegressor'>)\n"
     ]
    }
   ],
   "source": [
    "for i in KNOWN_REGRESSORS.items():\n",
    "    print(i)"
   ]
  },
  {
   "cell_type": "code",
   "execution_count": null,
   "metadata": {},
   "outputs": [],
   "source": []
  }
 ],
 "metadata": {
  "kernelspec": {
   "display_name": "xgboost",
   "language": "python",
   "name": "python3"
  },
  "language_info": {
   "codemirror_mode": {
    "name": "ipython",
    "version": 3
   },
   "file_extension": ".py",
   "mimetype": "text/x-python",
   "name": "python",
   "nbconvert_exporter": "python",
   "pygments_lexer": "ipython3",
   "version": "3.8.15"
  },
  "orig_nbformat": 4,
  "vscode": {
   "interpreter": {
    "hash": "e2aaa2bb6d2c97abc794230aa78379b9a1386dfd6dd4dee3b4fb9e60b979685c"
   }
  }
 },
 "nbformat": 4,
 "nbformat_minor": 2
}
