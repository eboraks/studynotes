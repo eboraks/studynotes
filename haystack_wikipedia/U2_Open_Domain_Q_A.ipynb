{
 "cells": [
  {
   "cell_type": "code",
   "execution_count": 1,
   "metadata": {},
   "outputs": [],
   "source": [
    "from haystack.document_stores.elasticsearch import ElasticsearchDocumentStore\n",
    "from haystack.document_stores import FAISSDocumentStore\n",
    "from haystack.nodes import TextConverter\n",
    "from haystack.nodes import BM25Retriever\n",
    "from haystack.nodes import EmbeddingRetriever\n",
    "from haystack.nodes import FARMReader\n",
    "from haystack.nodes import PreProcessor\n",
    "from haystack.pipelines import ExtractiveQAPipeline\n",
    "from haystack import Document\n",
    "from haystack.utils import convert_files_to_docs\n",
    "from pprint import  pprint\n",
    "import logging\n"
   ]
  },
  {
   "cell_type": "code",
   "execution_count": 2,
   "metadata": {},
   "outputs": [],
   "source": [
    "\n",
    "logging.basicConfig(format=\"%(levelname)s - %(name)s -  %(message)s\", level=logging.WARNING)\n",
    "logging.getLogger(\"haystack\").setLevel(logging.INFO)\n"
   ]
  },
  {
   "cell_type": "code",
   "execution_count": 3,
   "metadata": {},
   "outputs": [],
   "source": [
    "base_dir = '/home/eliran/Projects/wikipedia/data/'\n",
    "file_name = 'en.wikipedia.org.wiki.U2.txt'\n",
    "#with open(base_dir + file_name, 'r') as f:\n",
    " #   text = f.read()\n",
    "\n",
    "#paragraphs = text.split('\\n')"
   ]
  },
  {
   "cell_type": "code",
   "execution_count": 4,
   "metadata": {},
   "outputs": [],
   "source": [
    "converter = TextConverter(remove_numeric_tables=True, valid_languages=[\"en\"])\n",
    "doc_txt = converter.convert(file_path=base_dir + file_name, meta=None)[0]"
   ]
  },
  {
   "cell_type": "code",
   "execution_count": 5,
   "metadata": {},
   "outputs": [],
   "source": [
    "preprocessor = PreProcessor(\n",
    "    clean_empty_lines=True,\n",
    "    clean_whitespace=True, \n",
    "    clean_header_footer=False,\n",
    "    split_by='word',\n",
    "    split_length=100,\n",
    "    split_respect_sentence_boundary=True\n",
    ")"
   ]
  },
  {
   "cell_type": "code",
   "execution_count": 6,
   "metadata": {},
   "outputs": [
    {
     "data": {
      "application/vnd.jupyter.widget-view+json": {
       "model_id": "ba28ad83b31d4490b044db1a9434bee0",
       "version_major": 2,
       "version_minor": 0
      },
      "text/plain": [
       "Preprocessing:   0%|          | 0/1 [00:00<?, ?docs/s]"
      ]
     },
     "metadata": {},
     "output_type": "display_data"
    }
   ],
   "source": [
    "clean_docs = preprocessor.process([doc_txt])\n",
    "#clean_docs"
   ]
  },
  {
   "cell_type": "code",
   "execution_count": 7,
   "metadata": {},
   "outputs": [
    {
     "data": {
      "text/plain": [
       "'localhost'"
      ]
     },
     "execution_count": 7,
     "metadata": {},
     "output_type": "execute_result"
    }
   ],
   "source": [
    "host = os.environ.get(\"ELASTICSEARCH_HOST\", \"localhost\")\n",
    "host"
   ]
  },
  {
   "cell_type": "code",
   "execution_count": 9,
   "metadata": {},
   "outputs": [
    {
     "name": "stderr",
     "output_type": "stream",
     "text": [
      "/home/eliran/Projects/bin/haystack/haystack/document_stores/elasticsearch.py:442: DeprecationWarning: Using positional arguments for APIs is deprecated and will be disabled in 8.0.0. Instead use only keyword arguments for all APIs. See https://github.com/elastic/elasticsearch-py/issues/1698 for more information\n",
      "  indices = self.client.indices.get(index_name, headers=headers)\n"
     ]
    }
   ],
   "source": [
    "document_store = ElasticsearchDocumentStore(\n",
    "    host=host, \n",
    "    username=\"elastic\", \n",
    "    password=\"giUTMUpLwLV8RrGp0r-o\", \n",
    "    index=\"u2wikipedia\", \n",
    "    scheme='https',\n",
    "    ca_certs='/usr/local/share/ca-certificates/http_ca.crt')"
   ]
  },
  {
   "cell_type": "code",
   "execution_count": 10,
   "metadata": {},
   "outputs": [],
   "source": [
    "document_store.write_documents(clean_docs)"
   ]
  },
  {
   "cell_type": "code",
   "execution_count": 11,
   "metadata": {},
   "outputs": [],
   "source": [
    "retriever = BM25Retriever(document_store=document_store)"
   ]
  },
  {
   "cell_type": "code",
   "execution_count": 12,
   "metadata": {},
   "outputs": [
    {
     "name": "stderr",
     "output_type": "stream",
     "text": [
      "INFO:haystack.modeling.utils:Using devices: CUDA:0 - Number of GPUs: 1\n",
      "INFO:haystack.modeling.utils:Using devices: CUDA:0 - Number of GPUs: 1\n",
      "INFO:haystack.modeling.model.language_model: * LOADING MODEL: 'deepset/roberta-base-squad2' (Roberta)\n",
      "INFO:haystack.modeling.model.language_model:Auto-detected model language: english\n",
      "INFO:haystack.modeling.model.language_model:Loaded 'deepset/roberta-base-squad2' (Roberta model) from model hub.\n",
      "INFO:haystack.modeling.utils:Using devices: CUDA:0 - Number of GPUs: 1\n"
     ]
    }
   ],
   "source": [
    "reader = FARMReader(model_name_or_path=\"deepset/roberta-base-squad2\", use_gpu=True)\n",
    "# deepset/bert-large-uncased-whole-word-masking-squad2"
   ]
  },
  {
   "cell_type": "code",
   "execution_count": 23,
   "metadata": {},
   "outputs": [],
   "source": [
    "pipe = ExtractiveQAPipeline(reader, retriever)"
   ]
  },
  {
   "cell_type": "code",
   "execution_count": 24,
   "metadata": {},
   "outputs": [
    {
     "data": {
      "application/vnd.jupyter.widget-view+json": {
       "model_id": "35e412919f1d434da7d3cf5bcf561eea",
       "version_major": 2,
       "version_minor": 0
      },
      "text/plain": [
       "Batches:   0%|          | 0/1 [00:00<?, ?it/s]"
      ]
     },
     "metadata": {},
     "output_type": "display_data"
    },
    {
     "name": "stderr",
     "output_type": "stream",
     "text": [
      "Inferencing Samples: 100%|██████████| 1/1 [00:00<00:00, 10.63 Batches/s]"
     ]
    },
    {
     "name": "stdout",
     "output_type": "stream",
     "text": [
      "{'answers': [<Answer {'answer': 'David Evans', 'type': 'extractive', 'score': 0.7207580804824829, 'context': ' played drums and was joined by: Paul Hewson (\"Bono\") on lead vocals; David Evans (\"the Edge\") and his older brother Dik Evans on guitar; Adam Clayton', 'offsets_in_document': [{'start': 76, 'end': 87}], 'offsets_in_context': [{'start': 70, 'end': 81}], 'document_id': 'f126a7c52812a13ffb2a32f5fddeb0cc', 'meta': {'_split_id': 7, 'vector_id': '161'}}>,\n",
      "             <Answer {'answer': 'The Edge', 'type': 'extractive', 'score': 0.6129111051559448, 'context': 'alls the \"Fat Lady\" voice on the tracks \"Lemon\" and \"Numb\".[369][370]\\n\\nThe Edge\\'s style of playing guitar is distinguished by his chiming timbres,[371', 'offsets_in_document': [{'start': 289, 'end': 297}], 'offsets_in_context': [{'start': 71, 'end': 79}], 'document_id': '889f3a84e9a6d0392f8f2565380bc566', 'meta': {'_split_id': 122, 'vector_id': '96'}}>,\n",
      "             <Answer {'answer': 'Mullen and Clayton', 'type': 'extractive', 'score': 0.5506025552749634, 'context': 'ducing a \"rasping top end\" to his tone.[37]\\n\\nAs a rhythm section, Mullen and Clayton often play the same patterns, giving U2\\'s music a driving,[393][3', 'offsets_in_document': [{'start': 214, 'end': 232}], 'offsets_in_context': [{'start': 66, 'end': 84}], 'document_id': '4d06dfffe205d1082feb1697f462c477', 'meta': {'_split_id': 129, 'vector_id': '48'}}>,\n",
      "             <Answer {'answer': 'Adam Clayton', 'type': 'extractive', 'score': 0.5122577548027039, 'context': 'ythm guitar), the Edge (lead guitar, keyboards, and backing vocals), Adam Clayton (bass guitar), and Larry Mullen Jr. (drums and percussion). Initiall', 'offsets_in_document': [{'start': 170, 'end': 182}], 'offsets_in_context': [{'start': 69, 'end': 81}], 'document_id': '17288ef8fe25adcf3e51bec10c1ae068', 'meta': {'_split_id': 0, 'vector_id': '3'}}>,\n",
      "             <Answer {'answer': 'Dik Evans', 'type': 'extractive', 'score': 0.15894246101379395, 'context': '[10] Within a few days, Dik Evans was officially phased out of the band with a farewell concert at the Presbyterian Church Hall in Howth.[14] During t', 'offsets_in_document': [{'start': 24, 'end': 33}], 'offsets_in_context': [{'start': 24, 'end': 33}], 'document_id': '98a957d2a508656f532bf9f20ec9a1a3', 'meta': {'_split_id': 12, 'vector_id': '106'}}>],\n",
      " 'documents': [<Document: {'content': \"U2 are an Irish rock band from Dublin, formed in 1976. The group consists of Bono (lead vocals and rhythm guitar), the Edge (lead guitar, keyboards, and backing vocals), Adam Clayton (bass guitar), and Larry Mullen Jr. (drums and percussion). Initially rooted in post-punk, U2's musical style has evolved throughout their career, yet has maintained an anthemic quality built on Bono's expressive vocals and the Edge's chiming, effects-based guitar sounds. Bono's lyrics, often embellished with spiritual imagery, focus on personal and sociopolitical themes. Popular for their live performances, the group have staged several ambitious and elaborate tours over their career.\\n\\n\", 'content_type': 'text', 'score': 0.5580695852920055, 'meta': {'_split_id': 0, 'vector_id': '3'}, 'embedding': None, 'id': '17288ef8fe25adcf3e51bec10c1ae068'}>,\n",
      "               <Document: {'content': 'Mullen played drums and was joined by: Paul Hewson (\"Bono\") on lead vocals; David Evans (\"the Edge\") and his older brother Dik Evans on guitar; Adam Clayton, a friend of the Evans brothers, on bass guitar; and Ivan McCormick, with whom he and Mullen had a mutual friend in Peter Martin. Mullen later described it as \"\\'The Larry Mullen Band\\' for about ten minutes, then Bono walked in and blew any chance I had of being in charge.\"', 'content_type': 'text', 'score': 0.55173822515735, 'meta': {'_split_id': 7, 'vector_id': '161'}, 'embedding': None, 'id': 'f126a7c52812a13ffb2a32f5fddeb0cc'}>,\n",
      "               <Document: {'content': '[386] Rather than hold his plectrum with a standard grip, the Edge turns it sideways or upside down to use the dimpled edge against the strings, producing a \"rasping top end\" to his tone.[37]\\n\\nAs a rhythm section, Mullen and Clayton often play the same patterns, giving U2\\'s music a driving,[393][394] pulsating beat[395] that serves as a foundation for the Edge\\'s guitar work.[394][396] For his drumming, Mullen locks into the Edge\\'s guitar playing, while Clayton locks his bass playing into Mullen\\'s drumming.', 'content_type': 'text', 'score': 0.5511863962441033, 'meta': {'_split_id': 129, 'vector_id': '48'}, 'embedding': None, 'id': '4d06dfffe205d1082feb1697f462c477'}>,\n",
      "               <Document: {'content': '[98] Realising that \"U2 had no tradition\" and that their knowledge of music from before their childhood was limited, the group delved into American and Irish roots music.[99] Friendships with Bob Dylan, Van Morrison, and Keith Richards motivated Bono to explore blues, folk, and gospel music and to focus on his skills as a songwriter and lyricist.[100] U2 halted the album sessions in June 1986 to serve as a headline act on the Conspiracy of Hope benefit concert tour for Amnesty International. Rather than distract the band, the tour invigourated their new material.', 'content_type': 'text', 'score': 0.5495832710412368, 'meta': {'_split_id': 41, 'vector_id': '16'}, 'embedding': None, 'id': '24811b3c70e98349f2bcaf0f1e2e6fa0'}>,\n",
      "               <Document: {'content': \"[12] Steve Averill, a punk rock musician (with the Radiators) and family friend of Clayton's, had suggested six potential names from which the band chose U2 for its ambiguity and open-ended interpretations, and because it was the name that they disliked the least.[13] That same month, U2, as a four-piece, won a talent contest in Limerick sponsored by Harp Lager and the Evening Press. The prize consisted of £500 and a recording session for a demo that would be heard by record label CBS Ireland.[14] The win was an important milestone and affirmation for the fledgling act.\", 'content_type': 'text', 'score': 0.5494766152662042, 'meta': {'_split_id': 11, 'vector_id': '163'}, 'embedding': None, 'id': 'fc97847b08d98432ca51eccfb2528e7b'}>,\n",
      "               <Document: {'content': '[326] Their influences included acts such as Television, Siouxsie and the Banshees,[327] and Joy Division, and their resulting sound was described as containing a \"sense of exhilaration\" that resulted from the Edge\\'s \"radiant chords\" and Bono\\'s \"ardent vocals\".[328] However, according to Bob Stanley, \"U2 rejected post-punk\\'s own rejection of pop as lingua franca, its hunkering down in regional particularity, and its raised finger to populist communication.\"[329] U2 developed a melodic sound under the early influence of record producer Steve Lillywhite at a time when they were not known for musical proficiency.', 'content_type': 'text', 'score': 0.5493820334889881, 'meta': {'_split_id': 110, 'vector_id': '44'}, 'embedding': None, 'id': '456a2b57e2b439b89210d6061804e57f'}>,\n",
      "               <Document: {'content': \"[10] Within a few days, Dik Evans was officially phased out of the band with a farewell concert at the Presbyterian Church Hall in Howth.[14] During the show, which featured the group playing cover songs as the Hype, Dik ceremonially walked offstage. The remaining four band members returned later in the concert to play original material as U2.[10] Dik joined another band, the Virgin Prunes, which comprised mutual friends of U2's; the Prunes were their default opening act early on, and the two groups often shared members for live performances to cover for occasional absences.\", 'content_type': 'text', 'score': 0.5493576591329992, 'meta': {'_split_id': 12, 'vector_id': '106'}, 'embedding': None, 'id': '98a957d2a508656f532bf9f20ec9a1a3'}>,\n",
      "               <Document: {'content': '[408] Describing his role in the rhythm section, Clayton\\'s said, \"Larry\\'s drums have always told me what to play, and then the chords tell me where to go\".[407]\\n\\nU2\\'s lyrics are known for their social and political themes, and are often embellished with Christian and spiritual imagery.[411] Songs such as \"Sunday Bloody Sunday\", \"Silver and Gold\", and \"Mothers of the Disappeared\" were motivated by current events of the time. ', 'content_type': 'text', 'score': 0.5487827912736432, 'meta': {'_split_id': 137, 'vector_id': '51'}, 'embedding': None, 'id': '517404a3a25b9e4522ac9b0059924f3'}>,\n",
      "               <Document: {'content': '[367] His singing on Zooropa was an ever further departure from U2\\'s previous style; throughout the record, Bono \"underplay[ed] his lung power\", according to Jon Pareles,[368] and he also used an operatic falsetto he calls the \"Fat Lady\" voice on the tracks \"Lemon\" and \"Numb\".[369][370]\\n\\nThe Edge\\'s style of playing guitar is distinguished by his chiming timbres,[371][372] echoing notes,[37] sparse voicings,[373] and extensive use of effects units.[374] He favours the perfect fifth interval and often plays chords consisting of just two notes, the fifth and the root note, while eliminating the third.', 'content_type': 'text', 'score': 0.5486879473162394, 'meta': {'_split_id': 122, 'vector_id': '96'}, 'embedding': None, 'id': '889f3a84e9a6d0392f8f2565380bc566'}>,\n",
      "               <Document: {'content': '[43][45] Despite garnering the band an appearance on UK television programme Top of the Pops, the single fell in the charts afterwards.[41] On 16 August 1981, the group opened for Thin Lizzy at the inaugural Slane Concert, but the Edge called it \"one of the worst shows [U2] ever played in [their] lives\".[43] Adding to this period of self-doubt, Bono\\'s, the Edge\\'s, and Mullen\\'s involvement in a Charismatic Christian group in Dublin called the \"Shalom Fellowship\" led them to question the relationship between their religious faith and the lifestyle of a rock band.', 'content_type': 'text', 'score': 0.5485375480900981, 'meta': {'_split_id': 22, 'vector_id': '85'}, 'embedding': None, 'id': '794222a702844fc945828d440534c4b5'}>],\n",
      " 'no_ans_gap': 8.753435373306274,\n",
      " 'node_id': 'Reader',\n",
      " 'params': {'Reader': {'top_k': 5}, 'Retriever': {'top_k': 10}},\n",
      " 'query': 'Who play guitar in U2?',\n",
      " 'root_node': 'Query'}\n"
     ]
    },
    {
     "name": "stderr",
     "output_type": "stream",
     "text": [
      "\n"
     ]
    }
   ],
   "source": [
    "# You can configure how many candidates the Reader and Retriever shall return\n",
    "# The higher top_k_retriever, the better (but also the slower) your answers.\n",
    "prediction = pipe.run(\n",
    "    query=\"Who play guitar in U2?\", params={\"Retriever\": {\"top_k\": 10}, \"Reader\": {\"top_k\": 5}}\n",
    ")\n",
    "pprint(prediction)"
   ]
  },
  {
   "cell_type": "code",
   "execution_count": 16,
   "metadata": {},
   "outputs": [],
   "source": [
    "faiss_document_store = FAISSDocumentStore(faiss_index_factory_str=\"Flat\")"
   ]
  },
  {
   "cell_type": "code",
   "execution_count": 17,
   "metadata": {},
   "outputs": [
    {
     "data": {
      "application/vnd.jupyter.widget-view+json": {
       "model_id": "6b617e3eba814820b0acc8035327cc93",
       "version_major": 2,
       "version_minor": 0
      },
      "text/plain": [
       "Writing Documents:   0%|          | 0/165 [00:00<?, ?it/s]"
      ]
     },
     "metadata": {},
     "output_type": "display_data"
    }
   ],
   "source": [
    "faiss_document_store.write_documents(clean_docs)"
   ]
  },
  {
   "cell_type": "code",
   "execution_count": 18,
   "metadata": {},
   "outputs": [
    {
     "name": "stderr",
     "output_type": "stream",
     "text": [
      "INFO:haystack.modeling.utils:Using devices: CUDA:0 - Number of GPUs: 1\n",
      "INFO:haystack.nodes.retriever.dense:Init retriever using embeddings of model sentence-transformers/multi-qa-mpnet-base-dot-v1\n",
      "INFO:haystack.document_stores.faiss:Updating embeddings for 165 docs...\n"
     ]
    },
    {
     "data": {
      "application/vnd.jupyter.widget-view+json": {
       "model_id": "f0de08c4b07d49fe9cf424994b4debd7",
       "version_major": 2,
       "version_minor": 0
      },
      "text/plain": [
       "Updating Embedding:   0%|          | 0/165 [00:00<?, ? docs/s]"
      ]
     },
     "metadata": {},
     "output_type": "display_data"
    },
    {
     "data": {
      "application/vnd.jupyter.widget-view+json": {
       "model_id": "704ad8cc0ec946e0a26ac3825ca1a841",
       "version_major": 2,
       "version_minor": 0
      },
      "text/plain": [
       "Batches:   0%|          | 0/6 [00:00<?, ?it/s]"
      ]
     },
     "metadata": {},
     "output_type": "display_data"
    }
   ],
   "source": [
    "\n",
    "retriever = EmbeddingRetriever(\n",
    "    document_store=faiss_document_store,\n",
    "    embedding_model=\"sentence-transformers/multi-qa-mpnet-base-dot-v1\",\n",
    "    model_format=\"sentence_transformers\",\n",
    ")\n",
    "# Important:\n",
    "# Now that we initialized the Retriever, we need to call update_embeddings() to iterate over all\n",
    "# previously indexed documents and update their embedding representation.\n",
    "# While this can be a time consuming operation (depending on the corpus size), it only needs to be done once.\n",
    "# At query time, we only need to embed the query and compare it to the existing document embeddings, which is very fast.\n",
    "faiss_document_store.update_embeddings(retriever)"
   ]
  },
  {
   "cell_type": "code",
   "execution_count": 19,
   "metadata": {},
   "outputs": [
    {
     "name": "stderr",
     "output_type": "stream",
     "text": [
      "INFO:haystack.modeling.utils:Using devices: CUDA:0 - Number of GPUs: 1\n",
      "INFO:haystack.modeling.utils:Using devices: CUDA:0 - Number of GPUs: 1\n",
      "INFO:haystack.modeling.model.language_model: * LOADING MODEL: 'deepset/roberta-base-squad2' (Roberta)\n",
      "INFO:haystack.modeling.model.language_model:Auto-detected model language: english\n",
      "INFO:haystack.modeling.model.language_model:Loaded 'deepset/roberta-base-squad2' (Roberta model) from model hub.\n",
      "INFO:haystack.modeling.utils:Using devices: CUDA:0 - Number of GPUs: 1\n"
     ]
    }
   ],
   "source": [
    "eader = FARMReader(model_name_or_path=\"deepset/roberta-base-squad2\", use_gpu=True)"
   ]
  },
  {
   "cell_type": "code",
   "execution_count": 21,
   "metadata": {},
   "outputs": [],
   "source": [
    "faiss_pipe = ExtractiveQAPipeline(reader, retriever)"
   ]
  },
  {
   "cell_type": "code",
   "execution_count": 26,
   "metadata": {},
   "outputs": [
    {
     "data": {
      "application/vnd.jupyter.widget-view+json": {
       "model_id": "e9153e8c658f45109c8f7df8dfaf79df",
       "version_major": 2,
       "version_minor": 0
      },
      "text/plain": [
       "Batches:   0%|          | 0/1 [00:00<?, ?it/s]"
      ]
     },
     "metadata": {},
     "output_type": "display_data"
    },
    {
     "name": "stderr",
     "output_type": "stream",
     "text": [
      "Inferencing Samples: 100%|██████████| 1/1 [00:00<00:00, 10.66 Batches/s]\n"
     ]
    },
    {
     "name": "stdout",
     "output_type": "stream",
     "text": [
      "{'answers': [<Answer {'answer': 'Bono', 'type': 'extractive', 'score': 0.6403651237487793, 'context': 're an Irish rock band from Dublin, formed in 1976. The group consists of Bono (lead vocals and rhythm guitar), the Edge (lead guitar, keyboards, and b', 'offsets_in_document': [{'start': 77, 'end': 81}], 'offsets_in_context': [{'start': 73, 'end': 77}], 'document_id': '17288ef8fe25adcf3e51bec10c1ae068', 'meta': {'_split_id': 0, 'vector_id': '3'}}>,\n",
      "             <Answer {'answer': 'Bono', 'type': 'extractive', 'score': 0.497267484664917, 'context': 'ense of exhilaration\" that resulted from the Edge\\'s \"radiant chords\" and Bono\\'s \"ardent vocals\".[328] However, according to Bob Stanley, \"U2 rejected ', 'offsets_in_document': [{'start': 238, 'end': 242}], 'offsets_in_context': [{'start': 73, 'end': 77}], 'document_id': '456a2b57e2b439b89210d6061804e57f', 'meta': {'_split_id': 110, 'vector_id': '44'}}>,\n",
      "             <Answer {'answer': 'William S. Burroughs', 'type': 'extractive', 'score': 0.47607600688934326, 'context': 'aborations, U2 have worked with several authors. American author William S. Burroughs had a guest appearance in U2\\'s video for \"Last Night on Earth\" s', 'offsets_in_document': [{'start': 479, 'end': 499}], 'offsets_in_context': [{'start': 65, 'end': 85}], 'document_id': '8649e5d2bf8309dea787b621c891505', 'meta': {'_split_id': 153, 'vector_id': '94'}}>,\n",
      "             <Answer {'answer': 'Bono', 'type': 'extractive', 'score': 0.3685356676578522, 'context': \"On an otherwise successful American leg of the Boy Tour, Bono's briefcase containing in-progress lyrics and musical ideas was lost backstage during a \", 'offsets_in_document': [{'start': 57, 'end': 61}], 'offsets_in_context': [{'start': 57, 'end': 61}], 'document_id': '2e69b9d0760c664ac4e4fdd95ec4b988', 'meta': {'_split_id': 21, 'vector_id': '28'}}>,\n",
      "             <Answer {'answer': 'Bono', 'type': 'extractive', 'score': 0.35222917795181274, 'context': '[414]\\n\\nBono\\'s personal conflicts and turmoil inspired songs like \"Mofo\", \"Tomorrow\" and \"Kite\". An emotional yearning or pleading frequently appears a', 'offsets_in_document': [{'start': 7, 'end': 11}], 'offsets_in_context': [{'start': 7, 'end': 11}], 'document_id': '6e4842c1ebe1197159af15b3fdb92b20', 'meta': {'_split_id': 139, 'vector_id': '74'}}>],\n",
      " 'documents': [<Document: {'content': '[408] Describing his role in the rhythm section, Clayton\\'s said, \"Larry\\'s drums have always told me what to play, and then the chords tell me where to go\".[407]\\n\\nU2\\'s lyrics are known for their social and political themes, and are often embellished with Christian and spiritual imagery.[411] Songs such as \"Sunday Bloody Sunday\", \"Silver and Gold\", and \"Mothers of the Disappeared\" were motivated by current events of the time. ', 'content_type': 'text', 'score': 0.5552478171507514, 'meta': {'_split_id': 137, 'vector_id': '51'}, 'embedding': None, 'id': '517404a3a25b9e4522ac9b0059924f3'}>,\n",
      "               <Document: {'content': \"U2 are an Irish rock band from Dublin, formed in 1976. The group consists of Bono (lead vocals and rhythm guitar), the Edge (lead guitar, keyboards, and backing vocals), Adam Clayton (bass guitar), and Larry Mullen Jr. (drums and percussion). Initially rooted in post-punk, U2's musical style has evolved throughout their career, yet has maintained an anthemic quality built on Bono's expressive vocals and the Edge's chiming, effects-based guitar sounds. Bono's lyrics, often embellished with spiritual imagery, focus on personal and sociopolitical themes. Popular for their live performances, the group have staged several ambitious and elaborate tours over their career.\\n\\n\", 'content_type': 'text', 'score': 0.5543703374273732, 'meta': {'_split_id': 0, 'vector_id': '3'}, 'embedding': None, 'id': '17288ef8fe25adcf3e51bec10c1ae068'}>,\n",
      "               <Document: {'content': \"[279][280] The track, written in honour of Nelson Mandela, won the 2014 Golden Globe Award for Best Original Song.[279][281] In November 2013, U2's long-time manager Paul McGuinness stepped down from his post as part of a deal with Live Nation to acquire his management firm, Principle Management. McGuinness, who had managed the group for over 30 years, was succeeded by Guy Oseary.\", 'content_type': 'text', 'score': 0.5541989371243157, 'meta': {'_split_id': 98, 'vector_id': '57'}, 'embedding': None, 'id': '54e2d8b1d6a3b017c6c65de494c3d897'}>,\n",
      "               <Document: {'content': '[454] Bono loaned his voice to \"Joy\" on Mick Jagger\\'s 2001 album Goddess in the Doorway.[455] Bono also recorded a spare, nearly spoken-word version of Leonard Cohen\\'s \"Hallelujah\" for the Tower of Song compilation in 1995. Additionally, in 1998, Bono collaborated with Kirk Franklin and Crystal Lewis along with R. Kelly and Mary J. Blige for a successful gospel song called \"Lean on Me\".\\n\\nAside from musical collaborations, U2 have worked with several authors. American author William S. Burroughs had a guest appearance in U2\\'s video for \"Last Night on Earth\" shortly before he died.', 'content_type': 'text', 'score': 0.5523791700441023, 'meta': {'_split_id': 153, 'vector_id': '94'}, 'embedding': None, 'id': '8649e5d2bf8309dea787b621c891505'}>,\n",
      "               <Document: {'content': '[456] Video footage of him reading his poem \"Thanksgiving Prayer\" was used during a Zoo TV Tour television special.[457] Other collaborators include William Gibson and Allen Ginsberg.[458] In early 2000, the band contributed three songs to The Million Dollar Hotel movie soundtrack, including \"The Ground Beneath Her Feet\", whose lyrics are taken from Salman Rushdie\\'s book of the same name.[459]\\n\\nIn 2007, Bono appeared in the film Across the Universe and performed songs by the Beatles.[460] Bono and the Edge also wrote the music and lyrics for the Broadway musical Spider-Man: Turn Off the Dark.', 'content_type': 'text', 'score': 0.5515242759330422, 'meta': {'_split_id': 154, 'vector_id': '113'}, 'embedding': None, 'id': 'a365b34b834980e13c3786b356aa8988'}>,\n",
      "               <Document: {'content': '[277] However, the latter was not completed to their satisfaction, and by December 2011, Clayton admitted it would not come to fruition.[278] The sessions with Danger Mouse instead formed the foundation of U2\\'s next album, and they worked with him until May 2013 before enlisting the help of producers Paul Epworth, Ryan Tedder, Declan Gaffney, and Flood. The band suspended work on the album late in 2013 to contribute a new song, \"Ordinary Love\", to the film Mandela: Long Walk to Freedom.', 'content_type': 'text', 'score': 0.5510388521525476, 'meta': {'_split_id': 97, 'vector_id': '88'}, 'embedding': None, 'id': '7f408da2dc96f11549b9a09455d939f0'}>,\n",
      "               <Document: {'content': '[414]\\n\\nBono\\'s personal conflicts and turmoil inspired songs like \"Mofo\", \"Tomorrow\" and \"Kite\". An emotional yearning or pleading frequently appears as a lyrical theme,[415] in tracks such as \"Yahweh\",[416] \"Peace on Earth\", and \"Please\". Much of U2\\'s songwriting and music is also motivated by contemplations of loss and anguish, coupled with hopefulness and resilience, themes that are central to The Joshua Tree.[79] Some of these lyrical ideas have been amplified by Bono and the band\\'s personal experiences during their youth in Ireland, as well as Bono\\'s campaigning and activism later in his life. ', 'content_type': 'text', 'score': 0.5504173313100663, 'meta': {'_split_id': 139, 'vector_id': '74'}, 'embedding': None, 'id': '6e4842c1ebe1197159af15b3fdb92b20'}>,\n",
      "               <Document: {'content': '[326] Their influences included acts such as Television, Siouxsie and the Banshees,[327] and Joy Division, and their resulting sound was described as containing a \"sense of exhilaration\" that resulted from the Edge\\'s \"radiant chords\" and Bono\\'s \"ardent vocals\".[328] However, according to Bob Stanley, \"U2 rejected post-punk\\'s own rejection of pop as lingua franca, its hunkering down in regional particularity, and its raised finger to populist communication.\"[329] U2 developed a melodic sound under the early influence of record producer Steve Lillywhite at a time when they were not known for musical proficiency.', 'content_type': 'text', 'score': 0.5501158629900876, 'meta': {'_split_id': 110, 'vector_id': '44'}, 'embedding': None, 'id': '456a2b57e2b439b89210d6061804e57f'}>,\n",
      "               <Document: {'content': 'On an otherwise successful American leg of the Boy Tour, Bono\\'s briefcase containing in-progress lyrics and musical ideas was lost backstage during a March 1981 performance at a nightclub in Portland, Oregon.[41][42] The band had limited time to write new music on tour and in July began a two-month recording session at Windmill Lane Studios largely unprepared,[43] forcing Bono to quickly improvise lyrics.[41] Lillywhite, reprising his role as producer, called the sessions \"completely chaotic and mad\".[44] October\\'s lead single, \"Fire\", was released in July and was U2\\'s first song to chart in the UK.', 'content_type': 'text', 'score': 0.5501018950898579, 'meta': {'_split_id': 21, 'vector_id': '28'}, 'embedding': None, 'id': '2e69b9d0760c664ac4e4fdd95ec4b988'}>,\n",
      "               <Document: {'content': \"[126] Seeking inspiration from German reunification, they began work on their seventh studio album, Achtung Baby, at Berlin's Hansa Studios in October 1990 with producers Daniel Lanois and Brian Eno.[127] The sessions were fraught with conflict, as the band argued over their musical direction and the quality of their material. While Clayton and Mullen preferred a sound similar to U2's previous work, Bono and the Edge were inspired by European industrial music and electronic dance music and advocated a change. \", 'content_type': 'text', 'score': 0.5499847107860272, 'meta': {'_split_id': 50, 'vector_id': '27'}, 'embedding': None, 'id': '2dffb4006db94b2f84ec854daff39d23'}>],\n",
      " 'no_ans_gap': 5.944608211517334,\n",
      " 'node_id': 'Reader',\n",
      " 'params': {'Reader': {'top_k': 5}, 'Retriever': {'top_k': 10}},\n",
      " 'query': 'Who write lyrics in U2?',\n",
      " 'root_node': 'Query'}\n"
     ]
    }
   ],
   "source": [
    "prediction = faiss_pipe.run(\n",
    "    query=\"Who write lyrics in U2?\", params={\"Retriever\": {\"top_k\": 10}, \"Reader\": {\"top_k\": 5}}\n",
    ")\n",
    "pprint(prediction)"
   ]
  },
  {
   "cell_type": "code",
   "execution_count": 43,
   "metadata": {},
   "outputs": [],
   "source": [
    "def pipelines_runner(query):\n",
    "    faiss_pred = faiss_pipe.run(\n",
    "        query=query, params={\"Retriever\": {\"top_k\": 10}, \"Reader\": {\"top_k\": 5}}\n",
    "    )\n",
    "    es_pred = faiss_pipe.run(\n",
    "        query=query, params={\"Retriever\": {\"top_k\": 10}, \"Reader\": {\"top_k\": 5}}\n",
    "    )\n",
    "    for i in range(0,5):\n",
    "        print(f'FAISS {faiss_pred[\"answers\"][i].answer} Score {faiss_pred[\"answers\"][i].score}')\n",
    "        print(f'ES {es_pred[\"answers\"][i].answer} Score {faiss_pred[\"answers\"][i].score}')\n",
    "\n"
   ]
  },
  {
   "cell_type": "code",
   "execution_count": 44,
   "metadata": {},
   "outputs": [
    {
     "data": {
      "application/vnd.jupyter.widget-view+json": {
       "model_id": "f87d7d9ffbf04462b949db9a87a1c7fc",
       "version_major": 2,
       "version_minor": 0
      },
      "text/plain": [
       "Batches:   0%|          | 0/1 [00:00<?, ?it/s]"
      ]
     },
     "metadata": {},
     "output_type": "display_data"
    },
    {
     "name": "stderr",
     "output_type": "stream",
     "text": [
      "Inferencing Samples: 100%|██████████| 1/1 [00:00<00:00, 10.70 Batches/s]\n"
     ]
    },
    {
     "data": {
      "application/vnd.jupyter.widget-view+json": {
       "model_id": "8018ccf12b5e49c49046956b81479800",
       "version_major": 2,
       "version_minor": 0
      },
      "text/plain": [
       "Batches:   0%|          | 0/1 [00:00<?, ?it/s]"
      ]
     },
     "metadata": {},
     "output_type": "display_data"
    },
    {
     "name": "stderr",
     "output_type": "stream",
     "text": [
      "Inferencing Samples: 100%|██████████| 1/1 [00:00<00:00, 11.05 Batches/s]"
     ]
    },
    {
     "name": "stdout",
     "output_type": "stream",
     "text": [
      "FAISS Paul Epworth, Ryan Tedder, Declan Gaffney, and Flood Score 0.6937980651855469\n",
      "ES Paul Epworth, Ryan Tedder, Declan Gaffney, and Flood Score 0.6937980651855469\n",
      "FAISS Bono (lead vocals and rhythm guitar), the Edge (lead guitar, keyboards, and backing vocals), Adam Clayton (bass guitar), and Larry Mullen Jr. Score 0.5482701659202576\n",
      "ES Bono (lead vocals and rhythm guitar), the Edge (lead guitar, keyboards, and backing vocals), Adam Clayton (bass guitar), and Larry Mullen Jr. Score 0.5482701659202576\n",
      "FAISS William S. Burroughs Score 0.5052986145019531\n",
      "ES William S. Burroughs Score 0.5052986145019531\n",
      "FAISS Bob Dylan, Van Morrison, and Keith Richards Score 0.43949365615844727\n",
      "ES Bob Dylan, Van Morrison, and Keith Richards Score 0.43949365615844727\n",
      "FAISS Daniel Lanois and Brian Eno Score 0.4150450527667999\n",
      "ES Daniel Lanois and Brian Eno Score 0.4150450527667999\n"
     ]
    },
    {
     "name": "stderr",
     "output_type": "stream",
     "text": [
      "\n"
     ]
    }
   ],
   "source": [
    "pipelines_runner(\"Who write songs for U2?\")"
   ]
  },
  {
   "cell_type": "code",
   "execution_count": 29,
   "metadata": {},
   "outputs": [
    {
     "name": "stdout",
     "output_type": "stream",
     "text": [
      "2\n",
      "3\n",
      "4\n"
     ]
    }
   ],
   "source": [
    " for i in range(2,5):\n",
    "    print(i)"
   ]
  },
  {
   "cell_type": "code",
   "execution_count": null,
   "metadata": {},
   "outputs": [],
   "source": []
  }
 ],
 "metadata": {
  "kernelspec": {
   "display_name": "Python 3.8.15 ('haystack')",
   "language": "python",
   "name": "python3"
  },
  "language_info": {
   "codemirror_mode": {
    "name": "ipython",
    "version": 3
   },
   "file_extension": ".py",
   "mimetype": "text/x-python",
   "name": "python",
   "nbconvert_exporter": "python",
   "pygments_lexer": "ipython3",
   "version": "3.8.15"
  },
  "orig_nbformat": 4,
  "vscode": {
   "interpreter": {
    "hash": "0fe252d21e56b4c9dbbde59d33b32d28e9084f952dccc5357015a91610baf776"
   }
  }
 },
 "nbformat": 4,
 "nbformat_minor": 2
}
