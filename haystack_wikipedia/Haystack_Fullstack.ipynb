{
 "cells": [
  {
   "cell_type": "code",
   "execution_count": 17,
   "metadata": {},
   "outputs": [],
   "source": [
    "from haystack.nodes import FARMReader\n",
    "from haystack.document_stores.faiss import FAISSDocumentStore\n",
    "from haystack.document_stores.elasticsearch import ElasticsearchDocumentStore\n",
    "from haystack.nodes import DensePassageRetriever\n",
    "from haystack.pipelines import ExtractiveQAPipeline"
   ]
  },
  {
   "cell_type": "code",
   "execution_count": 4,
   "metadata": {},
   "outputs": [],
   "source": [
    "reader = FARMReader(model_name_or_path='deepset/bert-base-cased-squad2')"
   ]
  },
  {
   "cell_type": "code",
   "execution_count": 8,
   "metadata": {},
   "outputs": [],
   "source": [
    "path = 'models/faiss'\n",
    "faiss_document_store = FAISSDocumentStore.load(\n",
    "    index_path = f'{path}/squad_dev.faiss',\n",
    "    config_path= f'{path}/squad_dev.json'\n",
    ")"
   ]
  },
  {
   "cell_type": "code",
   "execution_count": 9,
   "metadata": {},
   "outputs": [
    {
     "name": "stderr",
     "output_type": "stream",
     "text": [
      "/Users/eliranboraks/opt/anaconda3/envs/haystack/lib/python3.8/site-packages/elasticsearch/connection/base.py:200: ElasticsearchWarning: Elasticsearch built-in security features are not enabled. Without authentication, your cluster could be accessible to anyone. See https://www.elastic.co/guide/en/elasticsearch/reference/7.17/security-minimal-setup.html to enable security.\n",
      "  warnings.warn(message, category=ElasticsearchWarning)\n"
     ]
    }
   ],
   "source": [
    "es_document_store = ElasticsearchDocumentStore(\n",
    "    host='localhost',\n",
    "    index='squad_docs'\n",
    ")"
   ]
  },
  {
   "cell_type": "code",
   "execution_count": 15,
   "metadata": {},
   "outputs": [
    {
     "name": "stderr",
     "output_type": "stream",
     "text": [
      "The tokenizer class you load from this checkpoint is not the same type as the class this function is called from. It may result in unexpected tokenization. \n",
      "The tokenizer class you load from this checkpoint is 'DPRQuestionEncoderTokenizer'. \n",
      "The class this function is called from is 'DPRContextEncoderTokenizerFast'.\n"
     ]
    }
   ],
   "source": [
    "retriever = DensePassageRetriever(\n",
    "    document_store=es_document_store,\n",
    "    query_embedding_model='facebook/dpr-question_encoder-single-nq-base',\n",
    "    passage_embedding_model='facebook/dpr-ctx_encoder-single-nq-base',\n",
    "    embed_title=True\n",
    ")"
   ]
  },
  {
   "cell_type": "code",
   "execution_count": 16,
   "metadata": {},
   "outputs": [
    {
     "data": {
      "application/vnd.jupyter.widget-view+json": {
       "model_id": "6810fa723ba84cbdbb2703e23477bf62",
       "version_major": 2,
       "version_minor": 0
      },
      "text/plain": [
       "Updating embeddings:   0%|          | 0/1204 [00:00<?, ? Docs/s]"
      ]
     },
     "metadata": {},
     "output_type": "display_data"
    },
    {
     "data": {
      "application/vnd.jupyter.widget-view+json": {
       "model_id": "111cd79c64b34688ab44fcc67a43f329",
       "version_major": 2,
       "version_minor": 0
      },
      "text/plain": [
       "Create embeddings:   0%|          | 0/1216 [00:00<?, ? Docs/s]"
      ]
     },
     "metadata": {},
     "output_type": "display_data"
    }
   ],
   "source": [
    "es_document_store.update_embeddings(retriever=retriever)"
   ]
  },
  {
   "cell_type": "code",
   "execution_count": 18,
   "metadata": {},
   "outputs": [],
   "source": [
    "pipeline = ExtractiveQAPipeline(reader=reader, retriever=retriever)"
   ]
  },
  {
   "cell_type": "code",
   "execution_count": 21,
   "metadata": {},
   "outputs": [
    {
     "name": "stderr",
     "output_type": "stream",
     "text": [
      "Inferencing Samples: 100%|██████████| 1/1 [00:02<00:00,  2.50s/ Batches]\n"
     ]
    },
    {
     "data": {
      "text/plain": [
       "{'query': 'Who is U2',\n",
       " 'no_ans_gap': -1.9333548545837402,\n",
       " 'answers': [<Answer {'answer': 'Prohibition agent Eliot Ness, Supreme Court Justice John Paul Stevens, Prime Minister of Canada William Lyon Mackenzie King, 11th Prime Minister of Poland Marek Belka, Governor of the Bank of Japan Masaaki Shirakawa, the first female African-American Senator Carol Moseley Braun', 'type': 'extractive', 'score': 0.07054707407951355, 'context': 'Prohibition agent Eliot Ness, Supreme Court Justice John Paul Stevens, Prime Minister of Canada William Lyon Mackenzie King, 11th Prime Minister of Poland Marek Belka, Governor of the Bank of Japan Masaaki Shirakawa, the first female African-American Senator Carol Moseley Braun', 'offsets_in_document': [{'start': 289, 'end': 567}], 'offsets_in_context': [{'start': 0, 'end': 278}], 'document_id': '56ad9ca24c697e492c00e4f5b8bd9232', 'meta': {}}>,\n",
       "  <Answer {'answer': 'prominent alumni include anthropologists David Graeber and Donald Johanson,', 'type': 'extractive', 'score': 0.010676964186131954, 'context': 'Other prominent alumni include anthropologists David Graeber and Donald Johanson, who is best known for discovering the fossil of a female hominid aus', 'offsets_in_document': [{'start': 6, 'end': 81}], 'offsets_in_context': [{'start': 6, 'end': 81}], 'document_id': 'f7e027f4517c8d9c285d8ddadaca1da3', 'meta': {}}>,\n",
       "  <Answer {'answer': 'Philip Glass', 'type': 'extractive', 'score': 0.009193727746605873, 'context': 'In the arts and entertainment, minimalist composer Philip Glass, dancer, choreographer and leader in the field of dance anthropology Katherine Dunham,', 'offsets_in_document': [{'start': 51, 'end': 63}], 'offsets_in_context': [{'start': 51, 'end': 63}], 'document_id': '885a83b027611d1a48d3d40bd6fc473c', 'meta': {}}>,\n",
       "  <Answer {'answer': 'Richard Rorty, and American writer and satirist Kurt Vonnegut are notable alumni', 'type': 'extractive', 'score': 0.006843653507530689, 'context': 'losopher and Stanford University Professor of Comparative Literature Richard Rorty, and American writer and satirist Kurt Vonnegut are notable alumni.', 'offsets_in_document': [{'start': 550, 'end': 630}], 'offsets_in_context': [{'start': 69, 'end': 149}], 'document_id': '33079737e60ccb476f13285734090b3b', 'meta': {}}>,\n",
       "  <Answer {'answer': ':', 'type': 'extractive', 'score': 0.004781411029398441, 'context': 'Other: Civil rights leader W. E. B. Du Bois; philosopher Henry David Thoreau; authors Ralph Waldo Emerson and William S. Burroughs; educators Werner B', 'offsets_in_document': [{'start': 5, 'end': 6}], 'offsets_in_context': [{'start': 5, 'end': 6}], 'document_id': 'fda47240cac2a2ab5ee72b483f867910', 'meta': {}}>,\n",
       "  <Answer {'answer': 'Ryan Leslie', 'type': 'extractive', 'score': 0.0030227648094296455, 'context': 'Cuomo, Tom Morello, and Gram Parsons; musician, producer and composer Ryan Leslie; serial killer Ted Kaczynski; programmer and activist Richard Stallm', 'offsets_in_document': [{'start': 795, 'end': 806}], 'offsets_in_context': [{'start': 70, 'end': 81}], 'document_id': 'fda47240cac2a2ab5ee72b483f867910', 'meta': {}}>,\n",
       "  <Answer {'answer': 'New Yorkers', 'type': 'extractive', 'score': 0.002442888217046857, 'context': ' part of the Episcopal (Anglican) communion, and welcomes Francophone New Yorkers from all over the world. Upon their arrival in New Amsterdam, Huguen', 'offsets_in_document': [{'start': 689, 'end': 700}], 'offsets_in_context': [{'start': 70, 'end': 81}], 'document_id': 'e39d3e24297bd62115d7136bc63934dc', 'meta': {}}>,\n",
       "  <Answer {'answer': 'huguenote', 'type': 'extractive', 'score': 0.0011921955738216639, 'context': 'Janet Gray and other supporters of the hypothesis suggest that the name huguenote would be roughly equivalent to little Hugos, or those who want Hugo.', 'offsets_in_document': [{'start': 514, 'end': 523}], 'offsets_in_context': [{'start': 72, 'end': 81}], 'document_id': 'e36aed4b694e11ff6c7bcbcce9750150', 'meta': {}}>,\n",
       "  <Answer {'answer': 'Guilliaume)', 'type': 'extractive', 'score': 0.0007713906816206872, 'context': 'hage(Du Vinage), Franck, Fouche, Fourie (Fleurit), Gervais, Giliomee (Guilliaume), Gous/Gouws (Gauch), Hugo, Jordaan (Jourdan), Joubert, Kriek, Labusc', 'offsets_in_document': [{'start': 402, 'end': 413}], 'offsets_in_context': [{'start': 70, 'end': 81}], 'document_id': '26bd01f7bd4cb662fb9d9f14fcbdceb6', 'meta': {}}>,\n",
       "  <Answer {'answer': 'Jack Jouett', 'type': 'extractive', 'score': 0.0006554647698067129, 'context': 'Laurens, who signed the Articles of Confederation for South Carolina; Jack Jouett, who made the ride from Cuckoo Tavern to warn Thomas Jefferson and o', 'offsets_in_document': [{'start': 133, 'end': 144}], 'offsets_in_context': [{'start': 70, 'end': 81}], 'document_id': '5405519ea03148033d31a25aad86bc94', 'meta': {}}>],\n",
       " 'documents': [<Document: {'content': \"Other: Civil rights leader W. E. B. Du Bois; philosopher Henry David Thoreau; authors Ralph Waldo Emerson and William S. Burroughs; educators Werner Baer, Harlan Hanson; poets Wallace Stevens, T. S. Eliot and E. E. Cummings; conductor Leonard Bernstein; cellist Yo Yo Ma; pianist and composer Charlie Albright; composer John Alden Carpenter; comedian, television show host and writer Conan O'Brien; actors Tatyana Ali, Nestor Carbonell, Matt Damon, Fred Gwynne, Hill Harper, Rashida Jones, Tommy Lee Jones, Ashley Judd, Jack Lemmon, Natalie Portman, Mira Sorvino, Elisabeth Shue, and Scottie Thompson; film directors Darren Aronofsky, Terrence Malick, Mira Nair, and Whit Stillman; architect Philip Johnson; musicians Rivers Cuomo, Tom Morello, and Gram Parsons; musician, producer and composer Ryan Leslie; serial killer Ted Kaczynski; programmer and activist Richard Stallman; NFL quarterback Ryan Fitzpatrick; NFL center Matt Birk; NBA player Jeremy Lin; US Ski Team skier Ryan Max Riley; physician Sachin H. Jain; physicist J. Robert Oppenheimer; computer pioneer and inventor An Wang; Tibetologist George de Roerich; and Marshall Admiral Isoroku Yamamoto.\", 'content_type': 'text', 'score': 0.6512347235376353, 'meta': {}, 'embedding': None, 'id': 'fda47240cac2a2ab5ee72b483f867910'}>,\n",
       "  <Document: {'content': 'Paul Revere was descended from Huguenot refugees, as was Henry Laurens, who signed the Articles of Confederation for South Carolina; Jack Jouett, who made the ride from Cuckoo Tavern to warn Thomas Jefferson and others that Tarleton and his men were on their way to arrest him for crimes against the king; Francis Marion, and a number of other leaders of the American Revolution and later statesmen. The last active Huguenot congregation in North America worships in Charleston, South Carolina, at a church that dates to 1844. The Huguenot Society of America maintains Manakin Episcopal Church in Virginia as an historic shrine with occasional services. The Society has chapters in numerous states, with the one in Texas being the largest.', 'content_type': 'text', 'score': 0.6435257420755974, 'meta': {}, 'embedding': None, 'id': '5405519ea03148033d31a25aad86bc94'}>,\n",
       "  <Document: {'content': 'Some disagree with such double or triple non-French linguistic origins, arguing that for the word to have spread into common use in France, it must have originated in the French language. The \"Hugues hypothesis\" argues that the name was derived by association with Hugues Capet, king of France, who reigned long before the Reformation. He was regarded by the Gallicans and Protestants as a noble man who respected people\\'s dignity and lives. Janet Gray and other supporters of the hypothesis suggest that the name huguenote would be roughly equivalent to little Hugos, or those who want Hugo.', 'content_type': 'text', 'score': 0.6413529104002114, 'meta': {}, 'embedding': None, 'id': 'e36aed4b694e11ff6c7bcbcce9750150'}>,\n",
       "  <Document: {'content': 'Other prominent alumni include anthropologists David Graeber and Donald Johanson, who is best known for discovering the fossil of a female hominid australopithecine known as \"Lucy\" in the Afar Triangle region, psychologist John B. Watson, American psychologist who established the psychological school of behaviorism, communication theorist Harold Innis, chess grandmaster Samuel Reshevsky, and conservative international relations scholar and White House Coordinator of Security Planning for the National Security Council Samuel P. Huntington.', 'content_type': 'text', 'score': 0.6387814037867215, 'meta': {}, 'embedding': None, 'id': 'f7e027f4517c8d9c285d8ddadaca1da3'}>,\n",
       "  <Document: {'content': 'Notable alumni in the field of government and politics include the founder of modern community organizing Saul Alinsky, Obama campaign advisor and top political advisor to President Bill Clinton David Axelrod, Attorney General and federal judge Robert Bork, Attorney General Ramsey Clark, Prohibition agent Eliot Ness, Supreme Court Justice John Paul Stevens, Prime Minister of Canada William Lyon Mackenzie King, 11th Prime Minister of Poland Marek Belka, Governor of the Bank of Japan Masaaki Shirakawa, the first female African-American Senator Carol Moseley Braun, United States Senator from Vermont and 2016 Democratic Presidential Candidate Bernie Sanders, and former World Bank President Paul Wolfowitz.', 'content_type': 'text', 'score': 0.6381094494659765, 'meta': {}, 'embedding': None, 'id': '56ad9ca24c697e492c00e4f5b8bd9232'}>,\n",
       "  <Document: {'content': \"Barred by the government from settling in New France, Huguenots led by Jessé de Forest, sailed to North America in 1624 and settled instead in the Dutch colony of New Netherland (later incorporated into New York and New Jersey); as well as Great Britain's colonies, including Nova Scotia. A number of New Amsterdam's families were of Huguenot origin, often having emigrated as refugees to the Netherlands in the previous century. In 1628 the Huguenots established a congregation as L'Église française à la Nouvelle-Amsterdam (the French church in New Amsterdam). This parish continues today as L'Eglise du Saint-Esprit, part of the Episcopal (Anglican) communion, and welcomes Francophone New Yorkers from all over the world. Upon their arrival in New Amsterdam, Huguenots were offered land directly across from Manhattan on Long Island for a permanent settlement and chose the harbor at the end of Newtown Creek, becoming the first Europeans to live in Brooklyn, then known as Boschwick, in the neighborhood now known as Bushwick.\", 'content_type': 'text', 'score': 0.6367347777210866, 'meta': {}, 'embedding': None, 'id': 'e39d3e24297bd62115d7136bc63934dc'}>,\n",
       "  <Document: {'content': 'In the arts and entertainment, minimalist composer Philip Glass, dancer, choreographer and leader in the field of dance anthropology Katherine Dunham, Bungie founder and developer of the Halo video game series Alex Seropian, Serial host Sarah Koenig, actor Ed Asner, Pulitzer Prize for Criticism winning film critic and the subject of the 2014 documentary film Life Itself Roger Ebert, director, writer, and comedian Mike Nichols, film director and screenwriter Philip Kaufman, and Carl Van Vechten, photographer and writer, are graduates.', 'content_type': 'text', 'score': 0.6353708420094492, 'meta': {}, 'embedding': None, 'id': '885a83b027611d1a48d3d40bd6fc473c'}>,\n",
       "  <Document: {'content': 'New Rochelle, located in the county of Westchester on the north shore of Long Island Sound, seemed to be the great location of the Huguenots in New York. It is said that they landed on the coastline peninsula of Davenports Neck called \"Bauffet\\'s Point\" after traveling from England where they had previously taken refuge on account of religious persecution, four years before the revocation of the Edict of Nantes. They purchased from John Pell, Lord of Pelham Manor, a tract of land consisting of six thousand one hundred acres with the help of Jacob Leisler. It was named New Rochelle after La Rochelle, their former strong-hold in France. A small wooden church was first erected in the community, followed by a second church that built of stone. Previous to the erection of it, the strong men would often walk twenty-three miles on Saturday evening, the distance by the road from New Rochelle to New York, to attend the Sunday service. The church was eventually replaced by a third, Trinity-St. Paul\\'s Episcopal Church, which contains heirlooms including the original bell from the French Huguenot Church \"Eglise du St. Esperit\" on Pine Street in New York City, which is preserved as a relic in the tower room. The Huguenot cemetery, or \"Huguenot Burial Ground\", has since been recognized as a historic cemetery that is the final resting place for a wide range of the Huguenot founders, early settlers and prominent citizens dating back more than three centuries.', 'content_type': 'text', 'score': 0.633103471207154, 'meta': {}, 'embedding': None, 'id': '6f2c226ffba0d71ffc8fbb477eb5a84b'}>,\n",
       "  <Document: {'content': \"Many of the farms in the Western Cape province in South Africa still bear French names. Many families, today mostly Afrikaans-speaking, have surnames indicating their French Huguenot ancestry. Examples include: Blignaut, Cilliers, de Klerk (Le Clercq), de Villiers, du Plessis, Du Preez (Des Pres), du Randt (Durand), du Toit, Duvenhage(Du Vinage), Franck, Fouche, Fourie (Fleurit), Gervais, Giliomee (Guilliaume), Gous/Gouws (Gauch), Hugo, Jordaan (Jourdan), Joubert, Kriek, Labuschagne (la Buscagne), le Roux, Lombard, Malan, Malherbe, Marais, Maree, Minnaar (Mesnard), Nel (Nell),Naude', Nortje (Nortier), Pienaar (Pinard), Retief (Retif), Rossouw (Rousseau), Taljaard (Taillard), TerBlanche, Theron, Viljoen (Villion) and Visagie (Visage). The wine industry in South Africa owes a significant debt to the Huguenots, some of whom had vineyards in France, or were brandy distillers, and used their skills in their new home.\", 'content_type': 'text', 'score': 0.632126638764578, 'meta': {}, 'embedding': None, 'id': '26bd01f7bd4cb662fb9d9f14fcbdceb6'}>,\n",
       "  <Document: {'content': 'In literature, author of the New York Times bestseller Before I Fall Lauren Oliver, Pulitzer Prize winning novelist Philip Roth, Canadian-born Pulitzer Prize and Nobel Prize for Literature winning writer Saul Bellow, political philosopher, literary critic and author of the New York Times bestseller \"The Closing of the American Mind\" Allan Bloom, \\'\\'The Good War\" author Studs Terkel, American writer, essayist, filmmaker, teacher, and political activist Susan Sontag, analytic philosopher and Stanford University Professor of Comparative Literature Richard Rorty, and American writer and satirist Kurt Vonnegut are notable alumni.', 'content_type': 'text', 'score': 0.6320336168290165, 'meta': {}, 'embedding': None, 'id': '33079737e60ccb476f13285734090b3b'}>],\n",
       " 'root_node': 'Query',\n",
       " 'params': {},\n",
       " 'node_id': 'Reader'}"
      ]
     },
     "execution_count": 21,
     "metadata": {},
     "output_type": "execute_result"
    }
   ],
   "source": [
    "pipeline.run(query=\"Who is U2\")"
   ]
  },
  {
   "cell_type": "code",
   "execution_count": null,
   "metadata": {},
   "outputs": [],
   "source": []
  }
 ],
 "metadata": {
  "kernelspec": {
   "display_name": "Python 3.10.6 ('haystack')",
   "language": "python",
   "name": "python3"
  },
  "language_info": {
   "codemirror_mode": {
    "name": "ipython",
    "version": 3
   },
   "file_extension": ".py",
   "mimetype": "text/x-python",
   "name": "python",
   "nbconvert_exporter": "python",
   "pygments_lexer": "ipython3",
   "version": "3.8.13"
  },
  "orig_nbformat": 4,
  "vscode": {
   "interpreter": {
    "hash": "eb2acf77dfb8655dcfe2a31e9760123fbc1929c493728e359c256a328257f93a"
   }
  }
 },
 "nbformat": 4,
 "nbformat_minor": 2
}
